{
 "cells": [
  {
   "cell_type": "markdown",
   "metadata": {},
   "source": [
    "# Data Analytics Project - Models\n",
    "\n",
    "# Pair 1 - HEROMOTOCO ARIMA Model\n",
    "\n",
    "---"
   ]
  },
  {
   "cell_type": "markdown",
   "metadata": {},
   "source": [
    "# 1. Import required modules"
   ]
  },
  {
   "cell_type": "code",
   "execution_count": 1,
   "metadata": {},
   "outputs": [
    {
     "name": "stderr",
     "output_type": "stream",
     "text": [
      "/home/varun487/.local/lib/python3.6/site-packages/torch/cuda/__init__.py:52: UserWarning: CUDA initialization: Found no NVIDIA driver on your system. Please check that you have an NVIDIA GPU and installed a driver from http://www.nvidia.com/Download/index.aspx (Triggered internally at  /pytorch/c10/cuda/CUDAFunctions.cpp:100.)\n",
      "  return torch._C._cuda_getDeviceCount() > 0\n"
     ]
    }
   ],
   "source": [
    "import numpy as np\n",
    "import pandas as pd\n",
    "from fastai.tabular.core import add_datepart\n",
    "from pmdarima.arima import auto_arima\n",
    "from sklearn import metrics"
   ]
  },
  {
   "cell_type": "markdown",
   "metadata": {},
   "source": [
    "---"
   ]
  },
  {
   "cell_type": "markdown",
   "metadata": {},
   "source": [
    "# 2. Get Pair 1 Orders Dataset"
   ]
  },
  {
   "cell_type": "markdown",
   "metadata": {},
   "source": [
    "## 2.1. Get the orders"
   ]
  },
  {
   "cell_type": "code",
   "execution_count": 2,
   "metadata": {},
   "outputs": [
    {
     "data": {
      "text/html": [
       "<div>\n",
       "<style scoped>\n",
       "    .dataframe tbody tr th:only-of-type {\n",
       "        vertical-align: middle;\n",
       "    }\n",
       "\n",
       "    .dataframe tbody tr th {\n",
       "        vertical-align: top;\n",
       "    }\n",
       "\n",
       "    .dataframe thead th {\n",
       "        text-align: right;\n",
       "    }\n",
       "</style>\n",
       "<table border=\"1\" class=\"dataframe\">\n",
       "  <thead>\n",
       "    <tr style=\"text-align: right;\">\n",
       "      <th></th>\n",
       "      <th>Date</th>\n",
       "      <th>HEROMOTOCO_Close</th>\n",
       "      <th>BAJAJ-AUTO_Close</th>\n",
       "      <th>Spread</th>\n",
       "      <th>zscore</th>\n",
       "      <th>Orders</th>\n",
       "    </tr>\n",
       "  </thead>\n",
       "  <tbody>\n",
       "    <tr>\n",
       "      <th>0</th>\n",
       "      <td>2018-09-04</td>\n",
       "      <td>3184.149902</td>\n",
       "      <td>2735.550049</td>\n",
       "      <td>448.599854</td>\n",
       "      <td>2.186180</td>\n",
       "      <td>SHORT</td>\n",
       "    </tr>\n",
       "    <tr>\n",
       "      <th>1</th>\n",
       "      <td>2018-09-05</td>\n",
       "      <td>3145.399902</td>\n",
       "      <td>2772.300049</td>\n",
       "      <td>373.099854</td>\n",
       "      <td>1.220189</td>\n",
       "      <td>FLAT</td>\n",
       "    </tr>\n",
       "    <tr>\n",
       "      <th>2</th>\n",
       "      <td>2018-09-06</td>\n",
       "      <td>3164.850098</td>\n",
       "      <td>2783.100098</td>\n",
       "      <td>381.750000</td>\n",
       "      <td>1.330864</td>\n",
       "      <td>FLAT</td>\n",
       "    </tr>\n",
       "    <tr>\n",
       "      <th>3</th>\n",
       "      <td>2018-09-07</td>\n",
       "      <td>3329.350098</td>\n",
       "      <td>2923.550049</td>\n",
       "      <td>405.800049</td>\n",
       "      <td>1.638574</td>\n",
       "      <td>SHORT</td>\n",
       "    </tr>\n",
       "    <tr>\n",
       "      <th>4</th>\n",
       "      <td>2018-09-10</td>\n",
       "      <td>3278.300049</td>\n",
       "      <td>2868.600098</td>\n",
       "      <td>409.699951</td>\n",
       "      <td>1.688472</td>\n",
       "      <td>SHORT</td>\n",
       "    </tr>\n",
       "  </tbody>\n",
       "</table>\n",
       "</div>"
      ],
      "text/plain": [
       "         Date  HEROMOTOCO_Close  BAJAJ-AUTO_Close      Spread    zscore Orders\n",
       "0  2018-09-04       3184.149902       2735.550049  448.599854  2.186180  SHORT\n",
       "1  2018-09-05       3145.399902       2772.300049  373.099854  1.220189   FLAT\n",
       "2  2018-09-06       3164.850098       2783.100098  381.750000  1.330864   FLAT\n",
       "3  2018-09-07       3329.350098       2923.550049  405.800049  1.638574  SHORT\n",
       "4  2018-09-10       3278.300049       2868.600098  409.699951  1.688472  SHORT"
      ]
     },
     "execution_count": 2,
     "metadata": {},
     "output_type": "execute_result"
    }
   ],
   "source": [
    "orders_df = pd.read_csv('../../Preprocess/Pair1/Pair1_orders.csv')\n",
    "orders_df.head()"
   ]
  },
  {
   "cell_type": "code",
   "execution_count": 3,
   "metadata": {},
   "outputs": [
    {
     "data": {
      "text/html": [
       "<div>\n",
       "<style scoped>\n",
       "    .dataframe tbody tr th:only-of-type {\n",
       "        vertical-align: middle;\n",
       "    }\n",
       "\n",
       "    .dataframe tbody tr th {\n",
       "        vertical-align: top;\n",
       "    }\n",
       "\n",
       "    .dataframe thead th {\n",
       "        text-align: right;\n",
       "    }\n",
       "</style>\n",
       "<table border=\"1\" class=\"dataframe\">\n",
       "  <thead>\n",
       "    <tr style=\"text-align: right;\">\n",
       "      <th></th>\n",
       "      <th>Date</th>\n",
       "      <th>HEROMOTOCO_Close</th>\n",
       "      <th>BAJAJ-AUTO_Close</th>\n",
       "      <th>Spread</th>\n",
       "      <th>zscore</th>\n",
       "      <th>Orders</th>\n",
       "    </tr>\n",
       "  </thead>\n",
       "  <tbody>\n",
       "    <tr>\n",
       "      <th>54</th>\n",
       "      <td>2018-11-27</td>\n",
       "      <td>2958.149902</td>\n",
       "      <td>2599.649902</td>\n",
       "      <td>358.500000</td>\n",
       "      <td>1.033390</td>\n",
       "      <td>FLAT</td>\n",
       "    </tr>\n",
       "    <tr>\n",
       "      <th>55</th>\n",
       "      <td>2018-11-28</td>\n",
       "      <td>2999.149902</td>\n",
       "      <td>2603.899902</td>\n",
       "      <td>395.250000</td>\n",
       "      <td>1.503591</td>\n",
       "      <td>SHORT</td>\n",
       "    </tr>\n",
       "    <tr>\n",
       "      <th>56</th>\n",
       "      <td>2018-11-29</td>\n",
       "      <td>3016.800049</td>\n",
       "      <td>2724.000000</td>\n",
       "      <td>292.800049</td>\n",
       "      <td>0.192787</td>\n",
       "      <td>FLAT</td>\n",
       "    </tr>\n",
       "    <tr>\n",
       "      <th>57</th>\n",
       "      <td>2018-11-30</td>\n",
       "      <td>3055.199951</td>\n",
       "      <td>2745.699951</td>\n",
       "      <td>309.500000</td>\n",
       "      <td>0.406456</td>\n",
       "      <td>FLAT</td>\n",
       "    </tr>\n",
       "    <tr>\n",
       "      <th>58</th>\n",
       "      <td>2018-12-03</td>\n",
       "      <td>3039.899902</td>\n",
       "      <td>2736.000000</td>\n",
       "      <td>303.899902</td>\n",
       "      <td>0.334805</td>\n",
       "      <td>FLAT</td>\n",
       "    </tr>\n",
       "  </tbody>\n",
       "</table>\n",
       "</div>"
      ],
      "text/plain": [
       "          Date  HEROMOTOCO_Close  BAJAJ-AUTO_Close      Spread    zscore  \\\n",
       "54  2018-11-27       2958.149902       2599.649902  358.500000  1.033390   \n",
       "55  2018-11-28       2999.149902       2603.899902  395.250000  1.503591   \n",
       "56  2018-11-29       3016.800049       2724.000000  292.800049  0.192787   \n",
       "57  2018-11-30       3055.199951       2745.699951  309.500000  0.406456   \n",
       "58  2018-12-03       3039.899902       2736.000000  303.899902  0.334805   \n",
       "\n",
       "   Orders  \n",
       "54   FLAT  \n",
       "55  SHORT  \n",
       "56   FLAT  \n",
       "57   FLAT  \n",
       "58   FLAT  "
      ]
     },
     "execution_count": 3,
     "metadata": {},
     "output_type": "execute_result"
    }
   ],
   "source": [
    "orders_df.tail()"
   ]
  },
  {
   "cell_type": "markdown",
   "metadata": {},
   "source": [
    "## 2.2. Visualize the orders"
   ]
  },
  {
   "cell_type": "code",
   "execution_count": 4,
   "metadata": {},
   "outputs": [
    {
     "data": {
      "text/plain": [
       "Text(0, 0.5, 'zscore')"
      ]
     },
     "execution_count": 4,
     "metadata": {},
     "output_type": "execute_result"
    },
    {
     "data": {
      "image/png": "[encoded data removed]",
      "text/plain": [
       "<Figure size 2160x1080 with 1 Axes>"
      ]
     },
     "metadata": {
      "needs_background": "light"
     },
     "output_type": "display_data"
    }
   ],
   "source": [
    "# Plotting the zscore of the Spread\n",
    "orders_plt = orders_df.plot(x='Date', y='zscore', figsize=(30,15))\n",
    "\n",
    "# Plotting the lines at mean, 1 and 2 std. dev.\n",
    "orders_plt.axhline(0, c='black')\n",
    "orders_plt.axhline(1, c='red', ls = \"--\")\n",
    "orders_plt.axhline(-1, c='red', ls = \"--\")\n",
    "\n",
    "# Extracting orders\n",
    "Orders = orders_df['Orders']\n",
    "\n",
    "# Plot vertical lines where orders are placed\n",
    "for order in range(len(Orders)):\n",
    "    \n",
    "    if Orders[order] != \"FLAT\":\n",
    "        \n",
    "        # GREEN line for a long position\n",
    "        if Orders[order] == \"LONG\":\n",
    "            orders_plt.axvline(x=order, c = \"green\")\n",
    "        \n",
    "        # RED line for a short position\n",
    "        elif Orders[order] == \"SHORT\":\n",
    "            orders_plt.axvline(x=order, c = \"red\")\n",
    "        \n",
    "        # BLACK line for getting out of all positions at that point\n",
    "        else:\n",
    "            orders_plt.axvline(x=order, c = \"black\")\n",
    "\n",
    "orders_plt.set_ylabel(\"zscore\")"
   ]
  },
  {
   "cell_type": "markdown",
   "metadata": {},
   "source": [
    "__In the figure above:__\n",
    "- __Blue line__ - zscore of the Spread\n",
    "- __Black horizontal line__ at 0 - Mean\n",
    "- __Red dotted horizontal lines__ - at +1 and -1 standard deviations\n",
    "- __Green vertical line__ - represents long position taken on that day\n",
    "- __Red vertical line__ - represents short position taken on that day\n",
    "- __Black vertical line__ - represents getting out of all open positions till that point\n"
   ]
  },
  {
   "cell_type": "markdown",
   "metadata": {},
   "source": [
    "## 2.3 Visualize the close prices of both stocks"
   ]
  },
  {
   "cell_type": "code",
   "execution_count": 5,
   "metadata": {},
   "outputs": [
    {
     "data": {
      "text/plain": [
       "Text(0, 0.5, 'Price')"
      ]
     },
     "execution_count": 5,
     "metadata": {},
     "output_type": "execute_result"
    },
    {
     "data": {
      "image/png": "[encoded data removed]",
      "text/plain": [
       "<Figure size 2160x1080 with 1 Axes>"
      ]
     },
     "metadata": {
      "needs_background": "light"
     },
     "output_type": "display_data"
    }
   ],
   "source": [
    "orders_df_plt = orders_df.plot(x='Date', y=['HEROMOTOCO_Close', 'BAJAJ-AUTO_Close'], figsize=(30,15))\n",
    "orders_df_plt.set_xlabel(\"Date\")\n",
    "orders_df_plt.set_ylabel(\"Price\")"
   ]
  },
  {
   "cell_type": "markdown",
   "metadata": {},
   "source": [
    "---"
   ]
  },
  {
   "cell_type": "markdown",
   "metadata": {},
   "source": [
    "# 3. HEROMOTOCO Linear Regression Model"
   ]
  },
  {
   "cell_type": "markdown",
   "metadata": {},
   "source": [
    "## 3.1. Get the Complete HEROMOTOCO dataset"
   ]
  },
  {
   "cell_type": "code",
   "execution_count": 6,
   "metadata": {},
   "outputs": [
    {
     "data": {
      "text/html": [
       "<div>\n",
       "<style scoped>\n",
       "    .dataframe tbody tr th:only-of-type {\n",
       "        vertical-align: middle;\n",
       "    }\n",
       "\n",
       "    .dataframe tbody tr th {\n",
       "        vertical-align: top;\n",
       "    }\n",
       "\n",
       "    .dataframe thead th {\n",
       "        text-align: right;\n",
       "    }\n",
       "</style>\n",
       "<table border=\"1\" class=\"dataframe\">\n",
       "  <thead>\n",
       "    <tr style=\"text-align: right;\">\n",
       "      <th></th>\n",
       "      <th>Date</th>\n",
       "      <th>High</th>\n",
       "      <th>Low</th>\n",
       "      <th>Open</th>\n",
       "      <th>Close</th>\n",
       "      <th>Volume</th>\n",
       "      <th>Adj Close</th>\n",
       "      <th>Company</th>\n",
       "      <th>Exchange</th>\n",
       "    </tr>\n",
       "  </thead>\n",
       "  <tbody>\n",
       "    <tr>\n",
       "      <th>0</th>\n",
       "      <td>2017-01-02</td>\n",
       "      <td>3068.949951</td>\n",
       "      <td>2992.550049</td>\n",
       "      <td>3042.000000</td>\n",
       "      <td>3030.550049</td>\n",
       "      <td>213654.0</td>\n",
       "      <td>2625.101074</td>\n",
       "      <td>HEROMOTOCO</td>\n",
       "      <td>NSE</td>\n",
       "    </tr>\n",
       "    <tr>\n",
       "      <th>1</th>\n",
       "      <td>2017-01-03</td>\n",
       "      <td>3016.149902</td>\n",
       "      <td>2962.550049</td>\n",
       "      <td>2978.000000</td>\n",
       "      <td>2986.550049</td>\n",
       "      <td>454277.0</td>\n",
       "      <td>2586.987549</td>\n",
       "      <td>HEROMOTOCO</td>\n",
       "      <td>NSE</td>\n",
       "    </tr>\n",
       "    <tr>\n",
       "      <th>2</th>\n",
       "      <td>2017-01-04</td>\n",
       "      <td>3017.300049</td>\n",
       "      <td>2971.000000</td>\n",
       "      <td>2999.000000</td>\n",
       "      <td>3004.899902</td>\n",
       "      <td>396816.0</td>\n",
       "      <td>2602.882568</td>\n",
       "      <td>HEROMOTOCO</td>\n",
       "      <td>NSE</td>\n",
       "    </tr>\n",
       "    <tr>\n",
       "      <th>3</th>\n",
       "      <td>2017-01-05</td>\n",
       "      <td>3083.800049</td>\n",
       "      <td>3012.949951</td>\n",
       "      <td>3034.899902</td>\n",
       "      <td>3071.750000</td>\n",
       "      <td>383925.0</td>\n",
       "      <td>2660.788574</td>\n",
       "      <td>HEROMOTOCO</td>\n",
       "      <td>NSE</td>\n",
       "    </tr>\n",
       "    <tr>\n",
       "      <th>4</th>\n",
       "      <td>2017-01-06</td>\n",
       "      <td>3119.000000</td>\n",
       "      <td>3052.000000</td>\n",
       "      <td>3085.000000</td>\n",
       "      <td>3067.550049</td>\n",
       "      <td>266915.0</td>\n",
       "      <td>2657.150635</td>\n",
       "      <td>HEROMOTOCO</td>\n",
       "      <td>NSE</td>\n",
       "    </tr>\n",
       "  </tbody>\n",
       "</table>\n",
       "</div>"
      ],
      "text/plain": [
       "         Date         High          Low         Open        Close    Volume  \\\n",
       "0  2017-01-02  3068.949951  2992.550049  3042.000000  3030.550049  213654.0   \n",
       "1  2017-01-03  3016.149902  2962.550049  2978.000000  2986.550049  454277.0   \n",
       "2  2017-01-04  3017.300049  2971.000000  2999.000000  3004.899902  396816.0   \n",
       "3  2017-01-05  3083.800049  3012.949951  3034.899902  3071.750000  383925.0   \n",
       "4  2017-01-06  3119.000000  3052.000000  3085.000000  3067.550049  266915.0   \n",
       "\n",
       "     Adj Close     Company Exchange  \n",
       "0  2625.101074  HEROMOTOCO      NSE  \n",
       "1  2586.987549  HEROMOTOCO      NSE  \n",
       "2  2602.882568  HEROMOTOCO      NSE  \n",
       "3  2660.788574  HEROMOTOCO      NSE  \n",
       "4  2657.150635  HEROMOTOCO      NSE  "
      ]
     },
     "execution_count": 6,
     "metadata": {},
     "output_type": "execute_result"
    }
   ],
   "source": [
    "hero_df = pd.read_csv(\"../../Storage/Companies_with_names_exchange/HEROMOTOCONSE.csv\")\n",
    "hero_df.head()"
   ]
  },
  {
   "cell_type": "markdown",
   "metadata": {},
   "source": [
    "- We can see that we have data from 2017-01-02"
   ]
  },
  {
   "cell_type": "markdown",
   "metadata": {},
   "source": [
    "## 3.2. Get HEROMOTOCO training data"
   ]
  },
  {
   "cell_type": "markdown",
   "metadata": {},
   "source": [
    "### 3.2.1 Get complete hero dataset"
   ]
  },
  {
   "cell_type": "code",
   "execution_count": 7,
   "metadata": {},
   "outputs": [
    {
     "data": {
      "text/html": [
       "<div>\n",
       "<style scoped>\n",
       "    .dataframe tbody tr th:only-of-type {\n",
       "        vertical-align: middle;\n",
       "    }\n",
       "\n",
       "    .dataframe tbody tr th {\n",
       "        vertical-align: top;\n",
       "    }\n",
       "\n",
       "    .dataframe thead th {\n",
       "        text-align: right;\n",
       "    }\n",
       "</style>\n",
       "<table border=\"1\" class=\"dataframe\">\n",
       "  <thead>\n",
       "    <tr style=\"text-align: right;\">\n",
       "      <th></th>\n",
       "      <th>Date</th>\n",
       "      <th>Close</th>\n",
       "    </tr>\n",
       "  </thead>\n",
       "  <tbody>\n",
       "    <tr>\n",
       "      <th>0</th>\n",
       "      <td>2017-01-02</td>\n",
       "      <td>3030.550049</td>\n",
       "    </tr>\n",
       "    <tr>\n",
       "      <th>1</th>\n",
       "      <td>2017-01-03</td>\n",
       "      <td>2986.550049</td>\n",
       "    </tr>\n",
       "    <tr>\n",
       "      <th>2</th>\n",
       "      <td>2017-01-04</td>\n",
       "      <td>3004.899902</td>\n",
       "    </tr>\n",
       "    <tr>\n",
       "      <th>3</th>\n",
       "      <td>2017-01-05</td>\n",
       "      <td>3071.750000</td>\n",
       "    </tr>\n",
       "    <tr>\n",
       "      <th>4</th>\n",
       "      <td>2017-01-06</td>\n",
       "      <td>3067.550049</td>\n",
       "    </tr>\n",
       "  </tbody>\n",
       "</table>\n",
       "</div>"
      ],
      "text/plain": [
       "         Date        Close\n",
       "0  2017-01-02  3030.550049\n",
       "1  2017-01-03  2986.550049\n",
       "2  2017-01-04  3004.899902\n",
       "3  2017-01-05  3071.750000\n",
       "4  2017-01-06  3067.550049"
      ]
     },
     "execution_count": 7,
     "metadata": {},
     "output_type": "execute_result"
    }
   ],
   "source": [
    "hero_df = hero_df.drop(columns=['High', 'Low', 'Open', 'Volume', 'Adj Close', 'Company', 'Exchange'])\n",
    "hero_df.head()"
   ]
  },
  {
   "cell_type": "markdown",
   "metadata": {},
   "source": [
    "- We can see that the period where the stocks are correlated and co-integration starts from 2018-09-04.\n",
    "- Thus the test data for which we need to make predictions is from 2018-09-04 to when the period ends at 2018-12-03.\n",
    "- We take 1 year's worth of training data for our model, which means that the time period of our training data is from 2017-09-03 to 2018-09-04.\n"
   ]
  },
  {
   "cell_type": "markdown",
   "metadata": {},
   "source": [
    "### 3.2.2. Crop dataset within training range"
   ]
  },
  {
   "cell_type": "code",
   "execution_count": 8,
   "metadata": {},
   "outputs": [
    {
     "data": {
      "text/html": [
       "<div>\n",
       "<style scoped>\n",
       "    .dataframe tbody tr th:only-of-type {\n",
       "        vertical-align: middle;\n",
       "    }\n",
       "\n",
       "    .dataframe tbody tr th {\n",
       "        vertical-align: top;\n",
       "    }\n",
       "\n",
       "    .dataframe thead th {\n",
       "        text-align: right;\n",
       "    }\n",
       "</style>\n",
       "<table border=\"1\" class=\"dataframe\">\n",
       "  <thead>\n",
       "    <tr style=\"text-align: right;\">\n",
       "      <th></th>\n",
       "      <th>Date</th>\n",
       "      <th>Close</th>\n",
       "    </tr>\n",
       "  </thead>\n",
       "  <tbody>\n",
       "    <tr>\n",
       "      <th>166</th>\n",
       "      <td>2017-09-04</td>\n",
       "      <td>3978.899902</td>\n",
       "    </tr>\n",
       "    <tr>\n",
       "      <th>167</th>\n",
       "      <td>2017-09-05</td>\n",
       "      <td>3970.449951</td>\n",
       "    </tr>\n",
       "    <tr>\n",
       "      <th>168</th>\n",
       "      <td>2017-09-06</td>\n",
       "      <td>3950.649902</td>\n",
       "    </tr>\n",
       "    <tr>\n",
       "      <th>169</th>\n",
       "      <td>2017-09-07</td>\n",
       "      <td>3982.899902</td>\n",
       "    </tr>\n",
       "    <tr>\n",
       "      <th>170</th>\n",
       "      <td>2017-09-08</td>\n",
       "      <td>3956.050049</td>\n",
       "    </tr>\n",
       "  </tbody>\n",
       "</table>\n",
       "</div>"
      ],
      "text/plain": [
       "           Date        Close\n",
       "166  2017-09-04  3978.899902\n",
       "167  2017-09-05  3970.449951\n",
       "168  2017-09-06  3950.649902\n",
       "169  2017-09-07  3982.899902\n",
       "170  2017-09-08  3956.050049"
      ]
     },
     "execution_count": 8,
     "metadata": {},
     "output_type": "execute_result"
    }
   ],
   "source": [
    "hero_df_train = hero_df[hero_df['Date'] >= '2017-09-03']\n",
    "hero_df_train.head()"
   ]
  },
  {
   "cell_type": "code",
   "execution_count": 9,
   "metadata": {},
   "outputs": [
    {
     "data": {
      "text/html": [
       "<div>\n",
       "<style scoped>\n",
       "    .dataframe tbody tr th:only-of-type {\n",
       "        vertical-align: middle;\n",
       "    }\n",
       "\n",
       "    .dataframe tbody tr th {\n",
       "        vertical-align: top;\n",
       "    }\n",
       "\n",
       "    .dataframe thead th {\n",
       "        text-align: right;\n",
       "    }\n",
       "</style>\n",
       "<table border=\"1\" class=\"dataframe\">\n",
       "  <thead>\n",
       "    <tr style=\"text-align: right;\">\n",
       "      <th></th>\n",
       "      <th>Date</th>\n",
       "      <th>Close</th>\n",
       "    </tr>\n",
       "  </thead>\n",
       "  <tbody>\n",
       "    <tr>\n",
       "      <th>412</th>\n",
       "      <td>2018-08-29</td>\n",
       "      <td>3246.100098</td>\n",
       "    </tr>\n",
       "    <tr>\n",
       "      <th>413</th>\n",
       "      <td>2018-08-30</td>\n",
       "      <td>3223.699951</td>\n",
       "    </tr>\n",
       "    <tr>\n",
       "      <th>414</th>\n",
       "      <td>2018-08-31</td>\n",
       "      <td>3253.800049</td>\n",
       "    </tr>\n",
       "    <tr>\n",
       "      <th>415</th>\n",
       "      <td>2018-09-03</td>\n",
       "      <td>3242.449951</td>\n",
       "    </tr>\n",
       "    <tr>\n",
       "      <th>416</th>\n",
       "      <td>2018-09-04</td>\n",
       "      <td>3184.149902</td>\n",
       "    </tr>\n",
       "  </tbody>\n",
       "</table>\n",
       "</div>"
      ],
      "text/plain": [
       "           Date        Close\n",
       "412  2018-08-29  3246.100098\n",
       "413  2018-08-30  3223.699951\n",
       "414  2018-08-31  3253.800049\n",
       "415  2018-09-03  3242.449951\n",
       "416  2018-09-04  3184.149902"
      ]
     },
     "execution_count": 9,
     "metadata": {},
     "output_type": "execute_result"
    }
   ],
   "source": [
    "hero_df_train = hero_df_train[hero_df_train['Date'] <= '2018-09-04']\n",
    "hero_df_train.tail()"
   ]
  },
  {
   "cell_type": "markdown",
   "metadata": {},
   "source": [
    "### 3.2.3 Get the training data and labels"
   ]
  },
  {
   "cell_type": "code",
   "execution_count": 10,
   "metadata": {},
   "outputs": [
    {
     "data": {
      "text/html": [
       "<div>\n",
       "<style scoped>\n",
       "    .dataframe tbody tr th:only-of-type {\n",
       "        vertical-align: middle;\n",
       "    }\n",
       "\n",
       "    .dataframe tbody tr th {\n",
       "        vertical-align: top;\n",
       "    }\n",
       "\n",
       "    .dataframe thead th {\n",
       "        text-align: right;\n",
       "    }\n",
       "</style>\n",
       "<table border=\"1\" class=\"dataframe\">\n",
       "  <thead>\n",
       "    <tr style=\"text-align: right;\">\n",
       "      <th></th>\n",
       "      <th>Date</th>\n",
       "      <th>Close</th>\n",
       "    </tr>\n",
       "  </thead>\n",
       "  <tbody>\n",
       "    <tr>\n",
       "      <th>166</th>\n",
       "      <td>2017-09-04</td>\n",
       "      <td>3978.899902</td>\n",
       "    </tr>\n",
       "    <tr>\n",
       "      <th>167</th>\n",
       "      <td>2017-09-05</td>\n",
       "      <td>3970.449951</td>\n",
       "    </tr>\n",
       "    <tr>\n",
       "      <th>168</th>\n",
       "      <td>2017-09-06</td>\n",
       "      <td>3950.649902</td>\n",
       "    </tr>\n",
       "    <tr>\n",
       "      <th>169</th>\n",
       "      <td>2017-09-07</td>\n",
       "      <td>3982.899902</td>\n",
       "    </tr>\n",
       "    <tr>\n",
       "      <th>170</th>\n",
       "      <td>2017-09-08</td>\n",
       "      <td>3956.050049</td>\n",
       "    </tr>\n",
       "    <tr>\n",
       "      <th>...</th>\n",
       "      <td>...</td>\n",
       "      <td>...</td>\n",
       "    </tr>\n",
       "    <tr>\n",
       "      <th>412</th>\n",
       "      <td>2018-08-29</td>\n",
       "      <td>3246.100098</td>\n",
       "    </tr>\n",
       "    <tr>\n",
       "      <th>413</th>\n",
       "      <td>2018-08-30</td>\n",
       "      <td>3223.699951</td>\n",
       "    </tr>\n",
       "    <tr>\n",
       "      <th>414</th>\n",
       "      <td>2018-08-31</td>\n",
       "      <td>3253.800049</td>\n",
       "    </tr>\n",
       "    <tr>\n",
       "      <th>415</th>\n",
       "      <td>2018-09-03</td>\n",
       "      <td>3242.449951</td>\n",
       "    </tr>\n",
       "    <tr>\n",
       "      <th>416</th>\n",
       "      <td>2018-09-04</td>\n",
       "      <td>3184.149902</td>\n",
       "    </tr>\n",
       "  </tbody>\n",
       "</table>\n",
       "<p>251 rows × 2 columns</p>\n",
       "</div>"
      ],
      "text/plain": [
       "           Date        Close\n",
       "166  2017-09-04  3978.899902\n",
       "167  2017-09-05  3970.449951\n",
       "168  2017-09-06  3950.649902\n",
       "169  2017-09-07  3982.899902\n",
       "170  2017-09-08  3956.050049\n",
       "..          ...          ...\n",
       "412  2018-08-29  3246.100098\n",
       "413  2018-08-30  3223.699951\n",
       "414  2018-08-31  3253.800049\n",
       "415  2018-09-03  3242.449951\n",
       "416  2018-09-04  3184.149902\n",
       "\n",
       "[251 rows x 2 columns]"
      ]
     },
     "execution_count": 10,
     "metadata": {},
     "output_type": "execute_result"
    }
   ],
   "source": [
    "hero_train = hero_df_train.copy()\n",
    "hero_train"
   ]
  },
  {
   "cell_type": "code",
   "execution_count": 11,
   "metadata": {},
   "outputs": [
    {
     "data": {
      "text/plain": [
       "0      3978.899902\n",
       "1      3970.449951\n",
       "2      3950.649902\n",
       "3      3982.899902\n",
       "4      3956.050049\n",
       "          ...     \n",
       "246    3246.100098\n",
       "247    3223.699951\n",
       "248    3253.800049\n",
       "249    3242.449951\n",
       "250    3184.149902\n",
       "Name: Close, Length: 251, dtype: float64"
      ]
     },
     "execution_count": 11,
     "metadata": {},
     "output_type": "execute_result"
    }
   ],
   "source": [
    "hero_train = hero_train.reset_index(drop=True)\n",
    "hero_train = hero_train['Close']\n",
    "hero_train"
   ]
  },
  {
   "cell_type": "code",
   "execution_count": 12,
   "metadata": {},
   "outputs": [
    {
     "data": {
      "text/plain": [
       "251"
      ]
     },
     "execution_count": 12,
     "metadata": {},
     "output_type": "execute_result"
    }
   ],
   "source": [
    "len(hero_train)"
   ]
  },
  {
   "cell_type": "markdown",
   "metadata": {},
   "source": [
    "## 3.3. Get HEROMOTOCO Test Data"
   ]
  },
  {
   "cell_type": "code",
   "execution_count": 13,
   "metadata": {},
   "outputs": [
    {
     "data": {
      "text/html": [
       "<div>\n",
       "<style scoped>\n",
       "    .dataframe tbody tr th:only-of-type {\n",
       "        vertical-align: middle;\n",
       "    }\n",
       "\n",
       "    .dataframe tbody tr th {\n",
       "        vertical-align: top;\n",
       "    }\n",
       "\n",
       "    .dataframe thead th {\n",
       "        text-align: right;\n",
       "    }\n",
       "</style>\n",
       "<table border=\"1\" class=\"dataframe\">\n",
       "  <thead>\n",
       "    <tr style=\"text-align: right;\">\n",
       "      <th></th>\n",
       "      <th>Date</th>\n",
       "      <th>Close</th>\n",
       "    </tr>\n",
       "  </thead>\n",
       "  <tbody>\n",
       "    <tr>\n",
       "      <th>416</th>\n",
       "      <td>2018-09-04</td>\n",
       "      <td>3184.149902</td>\n",
       "    </tr>\n",
       "    <tr>\n",
       "      <th>417</th>\n",
       "      <td>2018-09-05</td>\n",
       "      <td>3145.399902</td>\n",
       "    </tr>\n",
       "    <tr>\n",
       "      <th>418</th>\n",
       "      <td>2018-09-06</td>\n",
       "      <td>3164.850098</td>\n",
       "    </tr>\n",
       "    <tr>\n",
       "      <th>419</th>\n",
       "      <td>2018-09-07</td>\n",
       "      <td>3329.350098</td>\n",
       "    </tr>\n",
       "    <tr>\n",
       "      <th>420</th>\n",
       "      <td>2018-09-10</td>\n",
       "      <td>3278.300049</td>\n",
       "    </tr>\n",
       "  </tbody>\n",
       "</table>\n",
       "</div>"
      ],
      "text/plain": [
       "           Date        Close\n",
       "416  2018-09-04  3184.149902\n",
       "417  2018-09-05  3145.399902\n",
       "418  2018-09-06  3164.850098\n",
       "419  2018-09-07  3329.350098\n",
       "420  2018-09-10  3278.300049"
      ]
     },
     "execution_count": 13,
     "metadata": {},
     "output_type": "execute_result"
    }
   ],
   "source": [
    "hero_test_df = orders_df.copy()\n",
    "hero_test_df = hero_df[(hero_df['Date'] >= '2018-09-04') & (hero_df['Date'] <= '2018-12-03')].copy()\n",
    "hero_test_df.head()"
   ]
  },
  {
   "cell_type": "code",
   "execution_count": 14,
   "metadata": {},
   "outputs": [
    {
     "data": {
      "text/html": [
       "<div>\n",
       "<style scoped>\n",
       "    .dataframe tbody tr th:only-of-type {\n",
       "        vertical-align: middle;\n",
       "    }\n",
       "\n",
       "    .dataframe tbody tr th {\n",
       "        vertical-align: top;\n",
       "    }\n",
       "\n",
       "    .dataframe thead th {\n",
       "        text-align: right;\n",
       "    }\n",
       "</style>\n",
       "<table border=\"1\" class=\"dataframe\">\n",
       "  <thead>\n",
       "    <tr style=\"text-align: right;\">\n",
       "      <th></th>\n",
       "      <th>Date</th>\n",
       "      <th>Close</th>\n",
       "    </tr>\n",
       "  </thead>\n",
       "  <tbody>\n",
       "    <tr>\n",
       "      <th>470</th>\n",
       "      <td>2018-11-27</td>\n",
       "      <td>2958.149902</td>\n",
       "    </tr>\n",
       "    <tr>\n",
       "      <th>471</th>\n",
       "      <td>2018-11-28</td>\n",
       "      <td>2999.149902</td>\n",
       "    </tr>\n",
       "    <tr>\n",
       "      <th>472</th>\n",
       "      <td>2018-11-29</td>\n",
       "      <td>3016.800049</td>\n",
       "    </tr>\n",
       "    <tr>\n",
       "      <th>473</th>\n",
       "      <td>2018-11-30</td>\n",
       "      <td>3055.199951</td>\n",
       "    </tr>\n",
       "    <tr>\n",
       "      <th>474</th>\n",
       "      <td>2018-12-03</td>\n",
       "      <td>3039.899902</td>\n",
       "    </tr>\n",
       "  </tbody>\n",
       "</table>\n",
       "</div>"
      ],
      "text/plain": [
       "           Date        Close\n",
       "470  2018-11-27  2958.149902\n",
       "471  2018-11-28  2999.149902\n",
       "472  2018-11-29  3016.800049\n",
       "473  2018-11-30  3055.199951\n",
       "474  2018-12-03  3039.899902"
      ]
     },
     "execution_count": 14,
     "metadata": {},
     "output_type": "execute_result"
    }
   ],
   "source": [
    "hero_test_df.tail()"
   ]
  },
  {
   "cell_type": "code",
   "execution_count": 15,
   "metadata": {},
   "outputs": [
    {
     "data": {
      "text/html": [
       "<div>\n",
       "<style scoped>\n",
       "    .dataframe tbody tr th:only-of-type {\n",
       "        vertical-align: middle;\n",
       "    }\n",
       "\n",
       "    .dataframe tbody tr th {\n",
       "        vertical-align: top;\n",
       "    }\n",
       "\n",
       "    .dataframe thead th {\n",
       "        text-align: right;\n",
       "    }\n",
       "</style>\n",
       "<table border=\"1\" class=\"dataframe\">\n",
       "  <thead>\n",
       "    <tr style=\"text-align: right;\">\n",
       "      <th></th>\n",
       "      <th>Date</th>\n",
       "      <th>Close</th>\n",
       "    </tr>\n",
       "  </thead>\n",
       "  <tbody>\n",
       "    <tr>\n",
       "      <th>251</th>\n",
       "      <td>2018-09-04</td>\n",
       "      <td>3184.149902</td>\n",
       "    </tr>\n",
       "    <tr>\n",
       "      <th>252</th>\n",
       "      <td>2018-09-05</td>\n",
       "      <td>3145.399902</td>\n",
       "    </tr>\n",
       "    <tr>\n",
       "      <th>253</th>\n",
       "      <td>2018-09-06</td>\n",
       "      <td>3164.850098</td>\n",
       "    </tr>\n",
       "    <tr>\n",
       "      <th>254</th>\n",
       "      <td>2018-09-07</td>\n",
       "      <td>3329.350098</td>\n",
       "    </tr>\n",
       "    <tr>\n",
       "      <th>255</th>\n",
       "      <td>2018-09-10</td>\n",
       "      <td>3278.300049</td>\n",
       "    </tr>\n",
       "  </tbody>\n",
       "</table>\n",
       "</div>"
      ],
      "text/plain": [
       "           Date        Close\n",
       "251  2018-09-04  3184.149902\n",
       "252  2018-09-05  3145.399902\n",
       "253  2018-09-06  3164.850098\n",
       "254  2018-09-07  3329.350098\n",
       "255  2018-09-10  3278.300049"
      ]
     },
     "execution_count": 15,
     "metadata": {},
     "output_type": "execute_result"
    }
   ],
   "source": [
    "hero_test = hero_test_df.copy()\n",
    "hero_test.reset_index(drop=True, inplace=True)\n",
    "hero_test.index += 251\n",
    "hero_test.head()"
   ]
  },
  {
   "cell_type": "code",
   "execution_count": 16,
   "metadata": {},
   "outputs": [
    {
     "data": {
      "text/html": [
       "<div>\n",
       "<style scoped>\n",
       "    .dataframe tbody tr th:only-of-type {\n",
       "        vertical-align: middle;\n",
       "    }\n",
       "\n",
       "    .dataframe tbody tr th {\n",
       "        vertical-align: top;\n",
       "    }\n",
       "\n",
       "    .dataframe thead th {\n",
       "        text-align: right;\n",
       "    }\n",
       "</style>\n",
       "<table border=\"1\" class=\"dataframe\">\n",
       "  <thead>\n",
       "    <tr style=\"text-align: right;\">\n",
       "      <th></th>\n",
       "      <th>Date</th>\n",
       "      <th>Close</th>\n",
       "    </tr>\n",
       "  </thead>\n",
       "  <tbody>\n",
       "    <tr>\n",
       "      <th>305</th>\n",
       "      <td>2018-11-27</td>\n",
       "      <td>2958.149902</td>\n",
       "    </tr>\n",
       "    <tr>\n",
       "      <th>306</th>\n",
       "      <td>2018-11-28</td>\n",
       "      <td>2999.149902</td>\n",
       "    </tr>\n",
       "    <tr>\n",
       "      <th>307</th>\n",
       "      <td>2018-11-29</td>\n",
       "      <td>3016.800049</td>\n",
       "    </tr>\n",
       "    <tr>\n",
       "      <th>308</th>\n",
       "      <td>2018-11-30</td>\n",
       "      <td>3055.199951</td>\n",
       "    </tr>\n",
       "    <tr>\n",
       "      <th>309</th>\n",
       "      <td>2018-12-03</td>\n",
       "      <td>3039.899902</td>\n",
       "    </tr>\n",
       "  </tbody>\n",
       "</table>\n",
       "</div>"
      ],
      "text/plain": [
       "           Date        Close\n",
       "305  2018-11-27  2958.149902\n",
       "306  2018-11-28  2999.149902\n",
       "307  2018-11-29  3016.800049\n",
       "308  2018-11-30  3055.199951\n",
       "309  2018-12-03  3039.899902"
      ]
     },
     "execution_count": 16,
     "metadata": {},
     "output_type": "execute_result"
    }
   ],
   "source": [
    "hero_test.tail()"
   ]
  },
  {
   "cell_type": "code",
   "execution_count": 17,
   "metadata": {},
   "outputs": [],
   "source": [
    "hero_test = hero_test['Close']"
   ]
  },
  {
   "cell_type": "code",
   "execution_count": 18,
   "metadata": {},
   "outputs": [
    {
     "data": {
      "text/plain": [
       "59"
      ]
     },
     "execution_count": 18,
     "metadata": {},
     "output_type": "execute_result"
    }
   ],
   "source": [
    "len(hero_test)"
   ]
  },
  {
   "cell_type": "markdown",
   "metadata": {},
   "source": [
    "## 3.4 Create and Train HEROMOTOCO Model"
   ]
  },
  {
   "cell_type": "code",
   "execution_count": 19,
   "metadata": {},
   "outputs": [
    {
     "name": "stdout",
     "output_type": "stream",
     "text": [
      "Performing stepwise search to minimize aic\n",
      " ARIMA(1,1,1)(0,1,1)[12]             : AIC=inf, Time=3.98 sec\n",
      " ARIMA(0,1,0)(0,1,0)[12]             : AIC=2680.679, Time=0.05 sec\n",
      " ARIMA(1,1,0)(1,1,0)[12]             : AIC=2600.563, Time=0.68 sec\n",
      " ARIMA(0,1,1)(0,1,1)[12]             : AIC=inf, Time=2.71 sec\n",
      " ARIMA(1,1,0)(0,1,0)[12]             : AIC=2676.329, Time=0.12 sec\n",
      " ARIMA(1,1,0)(2,1,0)[12]             : AIC=2562.393, Time=1.66 sec\n",
      " ARIMA(1,1,0)(2,1,1)[12]             : AIC=inf, Time=5.70 sec\n",
      " ARIMA(1,1,0)(1,1,1)[12]             : AIC=inf, Time=1.93 sec\n",
      " ARIMA(0,1,0)(2,1,0)[12]             : AIC=2561.929, Time=1.00 sec\n",
      " ARIMA(0,1,0)(1,1,0)[12]             : AIC=2598.944, Time=0.35 sec\n",
      " ARIMA(0,1,0)(2,1,1)[12]             : AIC=inf, Time=4.08 sec\n",
      " ARIMA(0,1,0)(1,1,1)[12]             : AIC=inf, Time=2.52 sec\n",
      " ARIMA(0,1,1)(2,1,0)[12]             : AIC=2562.721, Time=1.60 sec\n",
      " ARIMA(1,1,1)(2,1,0)[12]             : AIC=inf, Time=6.08 sec\n",
      " ARIMA(0,1,0)(2,1,0)[12] intercept   : AIC=2563.922, Time=4.17 sec\n",
      "\n",
      "Best model:  ARIMA(0,1,0)(2,1,0)[12]          \n",
      "Total fit time: 36.646 seconds\n"
     ]
    },
    {
     "data": {
      "text/plain": [
       "ARIMA(order=(0, 1, 0), scoring_args={}, seasonal_order=(2, 1, 0, 12),\n",
       "      suppress_warnings=True, with_intercept=False)"
      ]
     },
     "execution_count": 19,
     "metadata": {},
     "output_type": "execute_result"
    }
   ],
   "source": [
    "model = auto_arima(hero_train, start_p=1, start_q=1,max_p=3, max_q=3, m=12,start_P=0, seasonal=True,d=1, D=1, trace=True, error_action='ignore', suppress_warnings=True)\n",
    "model.fit(hero_train)"
   ]
  },
  {
   "cell_type": "markdown",
   "metadata": {},
   "source": [
    "## 3.5. Get predictions"
   ]
  },
  {
   "cell_type": "code",
   "execution_count": 20,
   "metadata": {},
   "outputs": [
    {
     "data": {
      "text/html": [
       "<div>\n",
       "<style scoped>\n",
       "    .dataframe tbody tr th:only-of-type {\n",
       "        vertical-align: middle;\n",
       "    }\n",
       "\n",
       "    .dataframe tbody tr th {\n",
       "        vertical-align: top;\n",
       "    }\n",
       "\n",
       "    .dataframe thead th {\n",
       "        text-align: right;\n",
       "    }\n",
       "</style>\n",
       "<table border=\"1\" class=\"dataframe\">\n",
       "  <thead>\n",
       "    <tr style=\"text-align: right;\">\n",
       "      <th></th>\n",
       "      <th>Prediction</th>\n",
       "    </tr>\n",
       "  </thead>\n",
       "  <tbody>\n",
       "    <tr>\n",
       "      <th>251</th>\n",
       "      <td>3188.349761</td>\n",
       "    </tr>\n",
       "    <tr>\n",
       "      <th>252</th>\n",
       "      <td>3184.550985</td>\n",
       "    </tr>\n",
       "    <tr>\n",
       "      <th>253</th>\n",
       "      <td>3207.120261</td>\n",
       "    </tr>\n",
       "    <tr>\n",
       "      <th>254</th>\n",
       "      <td>3202.465613</td>\n",
       "    </tr>\n",
       "    <tr>\n",
       "      <th>255</th>\n",
       "      <td>3180.685059</td>\n",
       "    </tr>\n",
       "    <tr>\n",
       "      <th>256</th>\n",
       "      <td>3152.847683</td>\n",
       "    </tr>\n",
       "    <tr>\n",
       "      <th>257</th>\n",
       "      <td>3067.998656</td>\n",
       "    </tr>\n",
       "    <tr>\n",
       "      <th>258</th>\n",
       "      <td>3040.875105</td>\n",
       "    </tr>\n",
       "    <tr>\n",
       "      <th>259</th>\n",
       "      <td>3050.556148</td>\n",
       "    </tr>\n",
       "    <tr>\n",
       "      <th>260</th>\n",
       "      <td>3064.160388</td>\n",
       "    </tr>\n",
       "    <tr>\n",
       "      <th>261</th>\n",
       "      <td>3074.094955</td>\n",
       "    </tr>\n",
       "    <tr>\n",
       "      <th>262</th>\n",
       "      <td>3069.602387</td>\n",
       "    </tr>\n",
       "    <tr>\n",
       "      <th>263</th>\n",
       "      <td>3090.675243</td>\n",
       "    </tr>\n",
       "    <tr>\n",
       "      <th>264</th>\n",
       "      <td>3106.579030</td>\n",
       "    </tr>\n",
       "    <tr>\n",
       "      <th>265</th>\n",
       "      <td>3109.347466</td>\n",
       "    </tr>\n",
       "    <tr>\n",
       "      <th>266</th>\n",
       "      <td>3091.192800</td>\n",
       "    </tr>\n",
       "    <tr>\n",
       "      <th>267</th>\n",
       "      <td>3079.107232</td>\n",
       "    </tr>\n",
       "    <tr>\n",
       "      <th>268</th>\n",
       "      <td>3077.387647</td>\n",
       "    </tr>\n",
       "    <tr>\n",
       "      <th>269</th>\n",
       "      <td>3062.400788</td>\n",
       "    </tr>\n",
       "    <tr>\n",
       "      <th>270</th>\n",
       "      <td>3053.957941</td>\n",
       "    </tr>\n",
       "    <tr>\n",
       "      <th>271</th>\n",
       "      <td>3063.627989</td>\n",
       "    </tr>\n",
       "    <tr>\n",
       "      <th>272</th>\n",
       "      <td>3073.019614</td>\n",
       "    </tr>\n",
       "    <tr>\n",
       "      <th>273</th>\n",
       "      <td>3053.796596</td>\n",
       "    </tr>\n",
       "    <tr>\n",
       "      <th>274</th>\n",
       "      <td>3038.225723</td>\n",
       "    </tr>\n",
       "    <tr>\n",
       "      <th>275</th>\n",
       "      <td>3027.773880</td>\n",
       "    </tr>\n",
       "    <tr>\n",
       "      <th>276</th>\n",
       "      <td>3055.385184</td>\n",
       "    </tr>\n",
       "    <tr>\n",
       "      <th>277</th>\n",
       "      <td>3069.510318</td>\n",
       "    </tr>\n",
       "    <tr>\n",
       "      <th>278</th>\n",
       "      <td>3050.572737</td>\n",
       "    </tr>\n",
       "    <tr>\n",
       "      <th>279</th>\n",
       "      <td>3010.022436</td>\n",
       "    </tr>\n",
       "    <tr>\n",
       "      <th>280</th>\n",
       "      <td>3004.195905</td>\n",
       "    </tr>\n",
       "    <tr>\n",
       "      <th>281</th>\n",
       "      <td>2973.582824</td>\n",
       "    </tr>\n",
       "    <tr>\n",
       "      <th>282</th>\n",
       "      <td>2967.310976</td>\n",
       "    </tr>\n",
       "    <tr>\n",
       "      <th>283</th>\n",
       "      <td>2963.744593</td>\n",
       "    </tr>\n",
       "    <tr>\n",
       "      <th>284</th>\n",
       "      <td>2983.225280</td>\n",
       "    </tr>\n",
       "    <tr>\n",
       "      <th>285</th>\n",
       "      <td>2977.907580</td>\n",
       "    </tr>\n",
       "    <tr>\n",
       "      <th>286</th>\n",
       "      <td>2948.743901</td>\n",
       "    </tr>\n",
       "    <tr>\n",
       "      <th>287</th>\n",
       "      <td>2955.861056</td>\n",
       "    </tr>\n",
       "    <tr>\n",
       "      <th>288</th>\n",
       "      <td>2966.226224</td>\n",
       "    </tr>\n",
       "    <tr>\n",
       "      <th>289</th>\n",
       "      <td>2979.687568</td>\n",
       "    </tr>\n",
       "    <tr>\n",
       "      <th>290</th>\n",
       "      <td>2966.932913</td>\n",
       "    </tr>\n",
       "    <tr>\n",
       "      <th>291</th>\n",
       "      <td>2944.533590</td>\n",
       "    </tr>\n",
       "    <tr>\n",
       "      <th>292</th>\n",
       "      <td>2931.120479</td>\n",
       "    </tr>\n",
       "    <tr>\n",
       "      <th>293</th>\n",
       "      <td>2883.825850</td>\n",
       "    </tr>\n",
       "    <tr>\n",
       "      <th>294</th>\n",
       "      <td>2868.151864</td>\n",
       "    </tr>\n",
       "    <tr>\n",
       "      <th>295</th>\n",
       "      <td>2874.891717</td>\n",
       "    </tr>\n",
       "    <tr>\n",
       "      <th>296</th>\n",
       "      <td>2888.259466</td>\n",
       "    </tr>\n",
       "    <tr>\n",
       "      <th>297</th>\n",
       "      <td>2884.157438</td>\n",
       "    </tr>\n",
       "    <tr>\n",
       "      <th>298</th>\n",
       "      <td>2870.146588</td>\n",
       "    </tr>\n",
       "    <tr>\n",
       "      <th>299</th>\n",
       "      <td>2876.605316</td>\n",
       "    </tr>\n",
       "    <tr>\n",
       "      <th>300</th>\n",
       "      <td>2895.559322</td>\n",
       "    </tr>\n",
       "    <tr>\n",
       "      <th>301</th>\n",
       "      <td>2904.848575</td>\n",
       "    </tr>\n",
       "    <tr>\n",
       "      <th>302</th>\n",
       "      <td>2887.605084</td>\n",
       "    </tr>\n",
       "    <tr>\n",
       "      <th>303</th>\n",
       "      <td>2862.831055</td>\n",
       "    </tr>\n",
       "    <tr>\n",
       "      <th>304</th>\n",
       "      <td>2857.018042</td>\n",
       "    </tr>\n",
       "    <tr>\n",
       "      <th>305</th>\n",
       "      <td>2829.157805</td>\n",
       "    </tr>\n",
       "    <tr>\n",
       "      <th>306</th>\n",
       "      <td>2819.905033</td>\n",
       "    </tr>\n",
       "    <tr>\n",
       "      <th>307</th>\n",
       "      <td>2824.088484</td>\n",
       "    </tr>\n",
       "    <tr>\n",
       "      <th>308</th>\n",
       "      <td>2838.048478</td>\n",
       "    </tr>\n",
       "    <tr>\n",
       "      <th>309</th>\n",
       "      <td>2827.259386</td>\n",
       "    </tr>\n",
       "  </tbody>\n",
       "</table>\n",
       "</div>"
      ],
      "text/plain": [
       "      Prediction\n",
       "251  3188.349761\n",
       "252  3184.550985\n",
       "253  3207.120261\n",
       "254  3202.465613\n",
       "255  3180.685059\n",
       "256  3152.847683\n",
       "257  3067.998656\n",
       "258  3040.875105\n",
       "259  3050.556148\n",
       "260  3064.160388\n",
       "261  3074.094955\n",
       "262  3069.602387\n",
       "263  3090.675243\n",
       "264  3106.579030\n",
       "265  3109.347466\n",
       "266  3091.192800\n",
       "267  3079.107232\n",
       "268  3077.387647\n",
       "269  3062.400788\n",
       "270  3053.957941\n",
       "271  3063.627989\n",
       "272  3073.019614\n",
       "273  3053.796596\n",
       "274  3038.225723\n",
       "275  3027.773880\n",
       "276  3055.385184\n",
       "277  3069.510318\n",
       "278  3050.572737\n",
       "279  3010.022436\n",
       "280  3004.195905\n",
       "281  2973.582824\n",
       "282  2967.310976\n",
       "283  2963.744593\n",
       "284  2983.225280\n",
       "285  2977.907580\n",
       "286  2948.743901\n",
       "287  2955.861056\n",
       "288  2966.226224\n",
       "289  2979.687568\n",
       "290  2966.932913\n",
       "291  2944.533590\n",
       "292  2931.120479\n",
       "293  2883.825850\n",
       "294  2868.151864\n",
       "295  2874.891717\n",
       "296  2888.259466\n",
       "297  2884.157438\n",
       "298  2870.146588\n",
       "299  2876.605316\n",
       "300  2895.559322\n",
       "301  2904.848575\n",
       "302  2887.605084\n",
       "303  2862.831055\n",
       "304  2857.018042\n",
       "305  2829.157805\n",
       "306  2819.905033\n",
       "307  2824.088484\n",
       "308  2838.048478\n",
       "309  2827.259386"
      ]
     },
     "execution_count": 20,
     "metadata": {},
     "output_type": "execute_result"
    }
   ],
   "source": [
    "forecast = model.predict(n_periods=len(hero_test))\n",
    "forecast = pd.DataFrame(forecast, index = hero_test.index, columns=['Prediction'])\n",
    "forecast"
   ]
  },
  {
   "cell_type": "code",
   "execution_count": 21,
   "metadata": {},
   "outputs": [
    {
     "name": "stdout",
     "output_type": "stream",
     "text": [
      "Mean Absolute Error: 128.50912544544832\n",
      "Mean Squared Error: 24058.31029167745\n",
      "Root Mean Squared Error: 155.1074153342691\n"
     ]
    }
   ],
   "source": [
    "predictions = forecast['Prediction']\n",
    "print('Mean Absolute Error:', metrics.mean_absolute_error(hero_test, predictions))\n",
    "print('Mean Squared Error:', metrics.mean_squared_error(hero_test, predictions))\n",
    "print('Root Mean Squared Error:', np.sqrt(metrics.mean_squared_error(hero_test, predictions)))"
   ]
  },
  {
   "cell_type": "markdown",
   "metadata": {},
   "source": [
    "## 3.6. Visualize the predicitons vs test data"
   ]
  },
  {
   "cell_type": "code",
   "execution_count": 22,
   "metadata": {},
   "outputs": [
    {
     "data": {
      "text/plain": [
       "[<matplotlib.lines.Line2D at 0x7f2a05144f98>]"
      ]
     },
     "execution_count": 22,
     "metadata": {},
     "output_type": "execute_result"
    },
    {
     "data": {
      "image/png": "[encoded data removed]",
      "text/plain": [
       "<Figure size 2160x1080 with 1 Axes>"
      ]
     },
     "metadata": {
      "needs_background": "light"
     },
     "output_type": "display_data"
    }
   ],
   "source": [
    "hero_model_plt = forecast.plot(y=['Prediction'], figsize=(30,15), c='green')\n",
    "hero_model_plt.plot(hero_train, c='blue')\n",
    "hero_model_plt.plot(hero_test, c='orange')"
   ]
  },
  {
   "cell_type": "markdown",
   "metadata": {},
   "source": [
    "__In the graph above:__\n",
    "- We can see the training data in blue\n",
    "- The test data in orange\n",
    "- The predictions made by the models in green"
   ]
  },
  {
   "cell_type": "markdown",
   "metadata": {},
   "source": [
    "# 4. Put the results in a file"
   ]
  },
  {
   "cell_type": "code",
   "execution_count": 23,
   "metadata": {},
   "outputs": [
    {
     "data": {
      "text/html": [
       "<div>\n",
       "<style scoped>\n",
       "    .dataframe tbody tr th:only-of-type {\n",
       "        vertical-align: middle;\n",
       "    }\n",
       "\n",
       "    .dataframe tbody tr th {\n",
       "        vertical-align: top;\n",
       "    }\n",
       "\n",
       "    .dataframe thead th {\n",
       "        text-align: right;\n",
       "    }\n",
       "</style>\n",
       "<table border=\"1\" class=\"dataframe\">\n",
       "  <thead>\n",
       "    <tr style=\"text-align: right;\">\n",
       "      <th></th>\n",
       "      <th>Date</th>\n",
       "      <th>Actual_Close</th>\n",
       "      <th>Linear_regression_Close</th>\n",
       "      <th>ARIMA_Close</th>\n",
       "    </tr>\n",
       "  </thead>\n",
       "  <tbody>\n",
       "    <tr>\n",
       "      <th>0</th>\n",
       "      <td>2018-09-04</td>\n",
       "      <td>3184.149902</td>\n",
       "      <td>3275.607148</td>\n",
       "      <td>3188.349761</td>\n",
       "    </tr>\n",
       "    <tr>\n",
       "      <th>1</th>\n",
       "      <td>2018-09-05</td>\n",
       "      <td>3145.399902</td>\n",
       "      <td>3271.913457</td>\n",
       "      <td>3184.550985</td>\n",
       "    </tr>\n",
       "    <tr>\n",
       "      <th>2</th>\n",
       "      <td>2018-09-06</td>\n",
       "      <td>3164.850098</td>\n",
       "      <td>3268.219767</td>\n",
       "      <td>3207.120261</td>\n",
       "    </tr>\n",
       "    <tr>\n",
       "      <th>3</th>\n",
       "      <td>2018-09-07</td>\n",
       "      <td>3329.350098</td>\n",
       "      <td>3264.526076</td>\n",
       "      <td>3202.465613</td>\n",
       "    </tr>\n",
       "    <tr>\n",
       "      <th>4</th>\n",
       "      <td>2018-09-10</td>\n",
       "      <td>3278.300049</td>\n",
       "      <td>3257.640557</td>\n",
       "      <td>3180.685059</td>\n",
       "    </tr>\n",
       "  </tbody>\n",
       "</table>\n",
       "</div>"
      ],
      "text/plain": [
       "         Date  Actual_Close  Linear_regression_Close  ARIMA_Close\n",
       "0  2018-09-04   3184.149902              3275.607148  3188.349761\n",
       "1  2018-09-05   3145.399902              3271.913457  3184.550985\n",
       "2  2018-09-06   3164.850098              3268.219767  3207.120261\n",
       "3  2018-09-07   3329.350098              3264.526076  3202.465613\n",
       "4  2018-09-10   3278.300049              3257.640557  3180.685059"
      ]
     },
     "execution_count": 23,
     "metadata": {},
     "output_type": "execute_result"
    }
   ],
   "source": [
    "hero_predictions_df = pd.read_csv('Hero_predicitions.csv')\n",
    "hero_predictions_df.head()"
   ]
  },
  {
   "cell_type": "code",
   "execution_count": 24,
   "metadata": {},
   "outputs": [
    {
     "data": {
      "text/html": [
       "<div>\n",
       "<style scoped>\n",
       "    .dataframe tbody tr th:only-of-type {\n",
       "        vertical-align: middle;\n",
       "    }\n",
       "\n",
       "    .dataframe tbody tr th {\n",
       "        vertical-align: top;\n",
       "    }\n",
       "\n",
       "    .dataframe thead th {\n",
       "        text-align: right;\n",
       "    }\n",
       "</style>\n",
       "<table border=\"1\" class=\"dataframe\">\n",
       "  <thead>\n",
       "    <tr style=\"text-align: right;\">\n",
       "      <th></th>\n",
       "      <th>Date</th>\n",
       "      <th>Actual_Close</th>\n",
       "      <th>Linear_regression_Close</th>\n",
       "      <th>ARIMA_Close</th>\n",
       "    </tr>\n",
       "  </thead>\n",
       "  <tbody>\n",
       "    <tr>\n",
       "      <th>0</th>\n",
       "      <td>2018-09-04</td>\n",
       "      <td>3184.149902</td>\n",
       "      <td>3275.607148</td>\n",
       "      <td>3188.349761</td>\n",
       "    </tr>\n",
       "    <tr>\n",
       "      <th>1</th>\n",
       "      <td>2018-09-05</td>\n",
       "      <td>3145.399902</td>\n",
       "      <td>3271.913457</td>\n",
       "      <td>3184.550985</td>\n",
       "    </tr>\n",
       "    <tr>\n",
       "      <th>2</th>\n",
       "      <td>2018-09-06</td>\n",
       "      <td>3164.850098</td>\n",
       "      <td>3268.219767</td>\n",
       "      <td>3207.120261</td>\n",
       "    </tr>\n",
       "    <tr>\n",
       "      <th>3</th>\n",
       "      <td>2018-09-07</td>\n",
       "      <td>3329.350098</td>\n",
       "      <td>3264.526076</td>\n",
       "      <td>3202.465613</td>\n",
       "    </tr>\n",
       "    <tr>\n",
       "      <th>4</th>\n",
       "      <td>2018-09-10</td>\n",
       "      <td>3278.300049</td>\n",
       "      <td>3257.640557</td>\n",
       "      <td>3180.685059</td>\n",
       "    </tr>\n",
       "  </tbody>\n",
       "</table>\n",
       "</div>"
      ],
      "text/plain": [
       "         Date  Actual_Close  Linear_regression_Close  ARIMA_Close\n",
       "0  2018-09-04   3184.149902              3275.607148  3188.349761\n",
       "1  2018-09-05   3145.399902              3271.913457  3184.550985\n",
       "2  2018-09-06   3164.850098              3268.219767  3207.120261\n",
       "3  2018-09-07   3329.350098              3264.526076  3202.465613\n",
       "4  2018-09-10   3278.300049              3257.640557  3180.685059"
      ]
     },
     "execution_count": 24,
     "metadata": {},
     "output_type": "execute_result"
    }
   ],
   "source": [
    "forecast = forecast.reset_index()\n",
    "forecast = forecast.drop(columns='index')\n",
    "hero_predictions_df['ARIMA_Close'] = forecast['Prediction']\n",
    "hero_predictions_df.head()"
   ]
  },
  {
   "cell_type": "code",
   "execution_count": 25,
   "metadata": {},
   "outputs": [],
   "source": [
    "hero_predictions_df.to_csv('Hero_predicitions.csv', index=False)"
   ]
  },
  {
   "cell_type": "code",
   "execution_count": null,
   "metadata": {},
   "outputs": [],
   "source": []
  }
 ],
 "metadata": {
  "kernelspec": {
   "display_name": "Python 3",
   "language": "python",
   "name": "python3"
  },
  "language_info": {
   "codemirror_mode": {
    "name": "ipython",
    "version": 3
   },
   "file_extension": ".py",
   "mimetype": "text/x-python",
   "name": "python",
   "nbconvert_exporter": "python",
   "pygments_lexer": "ipython3",
   "version": "3.6.9"
  }
 },
 "nbformat": 4,
 "nbformat_minor": 4
}
