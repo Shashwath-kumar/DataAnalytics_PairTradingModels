{
 "cells": [
  {
   "cell_type": "markdown",
   "metadata": {},
   "source": [
    "# Data Analytics Project - Models\n",
    "\n",
    "# Pair 1 - BAJAJ-AUTO ARIMA Model\n",
    "\n",
    "---"
   ]
  },
  {
   "cell_type": "markdown",
   "metadata": {},
   "source": [
    "# 1. Import required modules"
   ]
  },
  {
   "cell_type": "code",
   "execution_count": 1,
   "metadata": {},
   "outputs": [
    {
     "name": "stderr",
     "output_type": "stream",
     "text": [
      "/home/varun487/.local/lib/python3.6/site-packages/torch/cuda/__init__.py:52: UserWarning: CUDA initialization: Found no NVIDIA driver on your system. Please check that you have an NVIDIA GPU and installed a driver from http://www.nvidia.com/Download/index.aspx (Triggered internally at  /pytorch/c10/cuda/CUDAFunctions.cpp:100.)\n",
      "  return torch._C._cuda_getDeviceCount() > 0\n"
     ]
    }
   ],
   "source": [
    "import numpy as np\n",
    "import pandas as pd\n",
    "from fastai.tabular.core import add_datepart\n",
    "from pmdarima.arima import auto_arima\n",
    "from sklearn import metrics"
   ]
  },
  {
   "cell_type": "markdown",
   "metadata": {},
   "source": [
    "---"
   ]
  },
  {
   "cell_type": "markdown",
   "metadata": {},
   "source": [
    "# 2. Get Pair 1 Orders Dataset"
   ]
  },
  {
   "cell_type": "markdown",
   "metadata": {},
   "source": [
    "## 2.1. Get the orders"
   ]
  },
  {
   "cell_type": "code",
   "execution_count": 2,
   "metadata": {},
   "outputs": [
    {
     "data": {
      "text/html": [
       "<div>\n",
       "<style scoped>\n",
       "    .dataframe tbody tr th:only-of-type {\n",
       "        vertical-align: middle;\n",
       "    }\n",
       "\n",
       "    .dataframe tbody tr th {\n",
       "        vertical-align: top;\n",
       "    }\n",
       "\n",
       "    .dataframe thead th {\n",
       "        text-align: right;\n",
       "    }\n",
       "</style>\n",
       "<table border=\"1\" class=\"dataframe\">\n",
       "  <thead>\n",
       "    <tr style=\"text-align: right;\">\n",
       "      <th></th>\n",
       "      <th>Date</th>\n",
       "      <th>HEROMOTOCO_Close</th>\n",
       "      <th>BAJAJ-AUTO_Close</th>\n",
       "      <th>Spread</th>\n",
       "      <th>zscore</th>\n",
       "      <th>Orders</th>\n",
       "    </tr>\n",
       "  </thead>\n",
       "  <tbody>\n",
       "    <tr>\n",
       "      <th>0</th>\n",
       "      <td>2018-09-04</td>\n",
       "      <td>3184.149902</td>\n",
       "      <td>2735.550049</td>\n",
       "      <td>448.599854</td>\n",
       "      <td>2.186180</td>\n",
       "      <td>SHORT</td>\n",
       "    </tr>\n",
       "    <tr>\n",
       "      <th>1</th>\n",
       "      <td>2018-09-05</td>\n",
       "      <td>3145.399902</td>\n",
       "      <td>2772.300049</td>\n",
       "      <td>373.099854</td>\n",
       "      <td>1.220189</td>\n",
       "      <td>FLAT</td>\n",
       "    </tr>\n",
       "    <tr>\n",
       "      <th>2</th>\n",
       "      <td>2018-09-06</td>\n",
       "      <td>3164.850098</td>\n",
       "      <td>2783.100098</td>\n",
       "      <td>381.750000</td>\n",
       "      <td>1.330864</td>\n",
       "      <td>FLAT</td>\n",
       "    </tr>\n",
       "    <tr>\n",
       "      <th>3</th>\n",
       "      <td>2018-09-07</td>\n",
       "      <td>3329.350098</td>\n",
       "      <td>2923.550049</td>\n",
       "      <td>405.800049</td>\n",
       "      <td>1.638574</td>\n",
       "      <td>SHORT</td>\n",
       "    </tr>\n",
       "    <tr>\n",
       "      <th>4</th>\n",
       "      <td>2018-09-10</td>\n",
       "      <td>3278.300049</td>\n",
       "      <td>2868.600098</td>\n",
       "      <td>409.699951</td>\n",
       "      <td>1.688472</td>\n",
       "      <td>SHORT</td>\n",
       "    </tr>\n",
       "  </tbody>\n",
       "</table>\n",
       "</div>"
      ],
      "text/plain": [
       "         Date  HEROMOTOCO_Close  BAJAJ-AUTO_Close      Spread    zscore Orders\n",
       "0  2018-09-04       3184.149902       2735.550049  448.599854  2.186180  SHORT\n",
       "1  2018-09-05       3145.399902       2772.300049  373.099854  1.220189   FLAT\n",
       "2  2018-09-06       3164.850098       2783.100098  381.750000  1.330864   FLAT\n",
       "3  2018-09-07       3329.350098       2923.550049  405.800049  1.638574  SHORT\n",
       "4  2018-09-10       3278.300049       2868.600098  409.699951  1.688472  SHORT"
      ]
     },
     "execution_count": 2,
     "metadata": {},
     "output_type": "execute_result"
    }
   ],
   "source": [
    "orders_df = pd.read_csv('../../Preprocess/Pair1/Pair1_orders.csv')\n",
    "orders_df.head()"
   ]
  },
  {
   "cell_type": "code",
   "execution_count": 3,
   "metadata": {},
   "outputs": [
    {
     "data": {
      "text/html": [
       "<div>\n",
       "<style scoped>\n",
       "    .dataframe tbody tr th:only-of-type {\n",
       "        vertical-align: middle;\n",
       "    }\n",
       "\n",
       "    .dataframe tbody tr th {\n",
       "        vertical-align: top;\n",
       "    }\n",
       "\n",
       "    .dataframe thead th {\n",
       "        text-align: right;\n",
       "    }\n",
       "</style>\n",
       "<table border=\"1\" class=\"dataframe\">\n",
       "  <thead>\n",
       "    <tr style=\"text-align: right;\">\n",
       "      <th></th>\n",
       "      <th>Date</th>\n",
       "      <th>HEROMOTOCO_Close</th>\n",
       "      <th>BAJAJ-AUTO_Close</th>\n",
       "      <th>Spread</th>\n",
       "      <th>zscore</th>\n",
       "      <th>Orders</th>\n",
       "    </tr>\n",
       "  </thead>\n",
       "  <tbody>\n",
       "    <tr>\n",
       "      <th>54</th>\n",
       "      <td>2018-11-27</td>\n",
       "      <td>2958.149902</td>\n",
       "      <td>2599.649902</td>\n",
       "      <td>358.500000</td>\n",
       "      <td>1.033390</td>\n",
       "      <td>FLAT</td>\n",
       "    </tr>\n",
       "    <tr>\n",
       "      <th>55</th>\n",
       "      <td>2018-11-28</td>\n",
       "      <td>2999.149902</td>\n",
       "      <td>2603.899902</td>\n",
       "      <td>395.250000</td>\n",
       "      <td>1.503591</td>\n",
       "      <td>SHORT</td>\n",
       "    </tr>\n",
       "    <tr>\n",
       "      <th>56</th>\n",
       "      <td>2018-11-29</td>\n",
       "      <td>3016.800049</td>\n",
       "      <td>2724.000000</td>\n",
       "      <td>292.800049</td>\n",
       "      <td>0.192787</td>\n",
       "      <td>FLAT</td>\n",
       "    </tr>\n",
       "    <tr>\n",
       "      <th>57</th>\n",
       "      <td>2018-11-30</td>\n",
       "      <td>3055.199951</td>\n",
       "      <td>2745.699951</td>\n",
       "      <td>309.500000</td>\n",
       "      <td>0.406456</td>\n",
       "      <td>FLAT</td>\n",
       "    </tr>\n",
       "    <tr>\n",
       "      <th>58</th>\n",
       "      <td>2018-12-03</td>\n",
       "      <td>3039.899902</td>\n",
       "      <td>2736.000000</td>\n",
       "      <td>303.899902</td>\n",
       "      <td>0.334805</td>\n",
       "      <td>FLAT</td>\n",
       "    </tr>\n",
       "  </tbody>\n",
       "</table>\n",
       "</div>"
      ],
      "text/plain": [
       "          Date  HEROMOTOCO_Close  BAJAJ-AUTO_Close      Spread    zscore  \\\n",
       "54  2018-11-27       2958.149902       2599.649902  358.500000  1.033390   \n",
       "55  2018-11-28       2999.149902       2603.899902  395.250000  1.503591   \n",
       "56  2018-11-29       3016.800049       2724.000000  292.800049  0.192787   \n",
       "57  2018-11-30       3055.199951       2745.699951  309.500000  0.406456   \n",
       "58  2018-12-03       3039.899902       2736.000000  303.899902  0.334805   \n",
       "\n",
       "   Orders  \n",
       "54   FLAT  \n",
       "55  SHORT  \n",
       "56   FLAT  \n",
       "57   FLAT  \n",
       "58   FLAT  "
      ]
     },
     "execution_count": 3,
     "metadata": {},
     "output_type": "execute_result"
    }
   ],
   "source": [
    "orders_df.tail()"
   ]
  },
  {
   "cell_type": "markdown",
   "metadata": {},
   "source": [
    "## 2.2. Visualize the orders"
   ]
  },
  {
   "cell_type": "code",
   "execution_count": 4,
   "metadata": {},
   "outputs": [
    {
     "data": {
      "text/plain": [
       "Text(0, 0.5, 'zscore')"
      ]
     },
     "execution_count": 4,
     "metadata": {},
     "output_type": "execute_result"
    },
    {
     "data": {
      "image/png": "[encoded data removed]",
      "text/plain": [
       "<Figure size 2160x1080 with 1 Axes>"
      ]
     },
     "metadata": {
      "needs_background": "light"
     },
     "output_type": "display_data"
    }
   ],
   "source": [
    "# Plotting the zscore of the Spread\n",
    "orders_plt = orders_df.plot(x='Date', y='zscore', figsize=(30,15))\n",
    "\n",
    "# Plotting the lines at mean, 1 and 2 std. dev.\n",
    "orders_plt.axhline(0, c='black')\n",
    "orders_plt.axhline(1, c='red', ls = \"--\")\n",
    "orders_plt.axhline(-1, c='red', ls = \"--\")\n",
    "\n",
    "# Extracting orders\n",
    "Orders = orders_df['Orders']\n",
    "\n",
    "# Plot vertical lines where orders are placed\n",
    "for order in range(len(Orders)):\n",
    "    \n",
    "    if Orders[order] != \"FLAT\":\n",
    "        \n",
    "        # GREEN line for a long position\n",
    "        if Orders[order] == \"LONG\":\n",
    "            orders_plt.axvline(x=order, c = \"green\")\n",
    "        \n",
    "        # RED line for a short position\n",
    "        elif Orders[order] == \"SHORT\":\n",
    "            orders_plt.axvline(x=order, c = \"red\")\n",
    "        \n",
    "        # BLACK line for getting out of all positions at that point\n",
    "        else:\n",
    "            orders_plt.axvline(x=order, c = \"black\")\n",
    "\n",
    "orders_plt.set_ylabel(\"zscore\")"
   ]
  },
  {
   "cell_type": "markdown",
   "metadata": {},
   "source": [
    "__In the figure above:__\n",
    "- __Blue line__ - zscore of the Spread\n",
    "- __Black horizontal line__ at 0 - Mean\n",
    "- __Red dotted horizontal lines__ - at +1 and -1 standard deviations\n",
    "- __Green vertical line__ - represents long position taken on that day\n",
    "- __Red vertical line__ - represents short position taken on that day\n",
    "- __Black vertical line__ - represents getting out of all open positions till that point\n"
   ]
  },
  {
   "cell_type": "markdown",
   "metadata": {},
   "source": [
    "## 2.3 Visualize the close prices of both stocks"
   ]
  },
  {
   "cell_type": "code",
   "execution_count": 5,
   "metadata": {},
   "outputs": [
    {
     "data": {
      "text/plain": [
       "Text(0, 0.5, 'Price')"
      ]
     },
     "execution_count": 5,
     "metadata": {},
     "output_type": "execute_result"
    },
    {
     "data": {
      "image/png": "[encoded data removed]",
      "text/plain": [
       "<Figure size 2160x1080 with 1 Axes>"
      ]
     },
     "metadata": {
      "needs_background": "light"
     },
     "output_type": "display_data"
    }
   ],
   "source": [
    "orders_df_plt = orders_df.plot(x='Date', y=['HEROMOTOCO_Close', 'BAJAJ-AUTO_Close'], figsize=(30,15))\n",
    "orders_df_plt.set_xlabel(\"Date\")\n",
    "orders_df_plt.set_ylabel(\"Price\")"
   ]
  },
  {
   "cell_type": "markdown",
   "metadata": {},
   "source": [
    "---"
   ]
  },
  {
   "cell_type": "markdown",
   "metadata": {},
   "source": [
    "# 3. BAJAJ-AUTO Linear Regression Model"
   ]
  },
  {
   "cell_type": "markdown",
   "metadata": {},
   "source": [
    "## 3.1. Get the Complete BAJAJ-AUTO dataset"
   ]
  },
  {
   "cell_type": "code",
   "execution_count": 6,
   "metadata": {},
   "outputs": [
    {
     "data": {
      "text/html": [
       "<div>\n",
       "<style scoped>\n",
       "    .dataframe tbody tr th:only-of-type {\n",
       "        vertical-align: middle;\n",
       "    }\n",
       "\n",
       "    .dataframe tbody tr th {\n",
       "        vertical-align: top;\n",
       "    }\n",
       "\n",
       "    .dataframe thead th {\n",
       "        text-align: right;\n",
       "    }\n",
       "</style>\n",
       "<table border=\"1\" class=\"dataframe\">\n",
       "  <thead>\n",
       "    <tr style=\"text-align: right;\">\n",
       "      <th></th>\n",
       "      <th>Date</th>\n",
       "      <th>High</th>\n",
       "      <th>Low</th>\n",
       "      <th>Open</th>\n",
       "      <th>Close</th>\n",
       "      <th>Volume</th>\n",
       "      <th>Adj Close</th>\n",
       "      <th>Company</th>\n",
       "      <th>Exchange</th>\n",
       "    </tr>\n",
       "  </thead>\n",
       "  <tbody>\n",
       "    <tr>\n",
       "      <th>0</th>\n",
       "      <td>2017-01-02</td>\n",
       "      <td>2654.300049</td>\n",
       "      <td>2552.000000</td>\n",
       "      <td>2642.699951</td>\n",
       "      <td>2598.500000</td>\n",
       "      <td>323342.0</td>\n",
       "      <td>2336.084473</td>\n",
       "      <td>BAJAJ-AUTO</td>\n",
       "      <td>NSE</td>\n",
       "    </tr>\n",
       "    <tr>\n",
       "      <th>1</th>\n",
       "      <td>2017-01-03</td>\n",
       "      <td>2632.199951</td>\n",
       "      <td>2561.449951</td>\n",
       "      <td>2594.000000</td>\n",
       "      <td>2619.199951</td>\n",
       "      <td>420196.0</td>\n",
       "      <td>2354.694336</td>\n",
       "      <td>BAJAJ-AUTO</td>\n",
       "      <td>NSE</td>\n",
       "    </tr>\n",
       "    <tr>\n",
       "      <th>2</th>\n",
       "      <td>2017-01-04</td>\n",
       "      <td>2698.550049</td>\n",
       "      <td>2615.949951</td>\n",
       "      <td>2625.199951</td>\n",
       "      <td>2684.100098</td>\n",
       "      <td>343922.0</td>\n",
       "      <td>2413.040283</td>\n",
       "      <td>BAJAJ-AUTO</td>\n",
       "      <td>NSE</td>\n",
       "    </tr>\n",
       "    <tr>\n",
       "      <th>3</th>\n",
       "      <td>2017-01-05</td>\n",
       "      <td>2730.000000</td>\n",
       "      <td>2685.000000</td>\n",
       "      <td>2694.000000</td>\n",
       "      <td>2723.350098</td>\n",
       "      <td>188686.0</td>\n",
       "      <td>2448.326416</td>\n",
       "      <td>BAJAJ-AUTO</td>\n",
       "      <td>NSE</td>\n",
       "    </tr>\n",
       "    <tr>\n",
       "      <th>4</th>\n",
       "      <td>2017-01-06</td>\n",
       "      <td>2739.899902</td>\n",
       "      <td>2696.699951</td>\n",
       "      <td>2721.000000</td>\n",
       "      <td>2707.350098</td>\n",
       "      <td>159484.0</td>\n",
       "      <td>2433.942383</td>\n",
       "      <td>BAJAJ-AUTO</td>\n",
       "      <td>NSE</td>\n",
       "    </tr>\n",
       "  </tbody>\n",
       "</table>\n",
       "</div>"
      ],
      "text/plain": [
       "         Date         High          Low         Open        Close    Volume  \\\n",
       "0  2017-01-02  2654.300049  2552.000000  2642.699951  2598.500000  323342.0   \n",
       "1  2017-01-03  2632.199951  2561.449951  2594.000000  2619.199951  420196.0   \n",
       "2  2017-01-04  2698.550049  2615.949951  2625.199951  2684.100098  343922.0   \n",
       "3  2017-01-05  2730.000000  2685.000000  2694.000000  2723.350098  188686.0   \n",
       "4  2017-01-06  2739.899902  2696.699951  2721.000000  2707.350098  159484.0   \n",
       "\n",
       "     Adj Close     Company Exchange  \n",
       "0  2336.084473  BAJAJ-AUTO      NSE  \n",
       "1  2354.694336  BAJAJ-AUTO      NSE  \n",
       "2  2413.040283  BAJAJ-AUTO      NSE  \n",
       "3  2448.326416  BAJAJ-AUTO      NSE  \n",
       "4  2433.942383  BAJAJ-AUTO      NSE  "
      ]
     },
     "execution_count": 6,
     "metadata": {},
     "output_type": "execute_result"
    }
   ],
   "source": [
    "bajaj_df = pd.read_csv(\"../../Storage/Companies_with_names_exchange/BAJAJ-AUTONSE.csv\")\n",
    "bajaj_df.head()"
   ]
  },
  {
   "cell_type": "markdown",
   "metadata": {},
   "source": [
    "- We can see that we have data from 2017-01-02"
   ]
  },
  {
   "cell_type": "markdown",
   "metadata": {},
   "source": [
    "## 3.2. Get BAJAJ-AUTO training data"
   ]
  },
  {
   "cell_type": "markdown",
   "metadata": {},
   "source": [
    "### 3.2.1 Get complete bajaj dataset"
   ]
  },
  {
   "cell_type": "code",
   "execution_count": 7,
   "metadata": {},
   "outputs": [
    {
     "data": {
      "text/html": [
       "<div>\n",
       "<style scoped>\n",
       "    .dataframe tbody tr th:only-of-type {\n",
       "        vertical-align: middle;\n",
       "    }\n",
       "\n",
       "    .dataframe tbody tr th {\n",
       "        vertical-align: top;\n",
       "    }\n",
       "\n",
       "    .dataframe thead th {\n",
       "        text-align: right;\n",
       "    }\n",
       "</style>\n",
       "<table border=\"1\" class=\"dataframe\">\n",
       "  <thead>\n",
       "    <tr style=\"text-align: right;\">\n",
       "      <th></th>\n",
       "      <th>Date</th>\n",
       "      <th>Close</th>\n",
       "    </tr>\n",
       "  </thead>\n",
       "  <tbody>\n",
       "    <tr>\n",
       "      <th>0</th>\n",
       "      <td>2017-01-02</td>\n",
       "      <td>2598.500000</td>\n",
       "    </tr>\n",
       "    <tr>\n",
       "      <th>1</th>\n",
       "      <td>2017-01-03</td>\n",
       "      <td>2619.199951</td>\n",
       "    </tr>\n",
       "    <tr>\n",
       "      <th>2</th>\n",
       "      <td>2017-01-04</td>\n",
       "      <td>2684.100098</td>\n",
       "    </tr>\n",
       "    <tr>\n",
       "      <th>3</th>\n",
       "      <td>2017-01-05</td>\n",
       "      <td>2723.350098</td>\n",
       "    </tr>\n",
       "    <tr>\n",
       "      <th>4</th>\n",
       "      <td>2017-01-06</td>\n",
       "      <td>2707.350098</td>\n",
       "    </tr>\n",
       "  </tbody>\n",
       "</table>\n",
       "</div>"
      ],
      "text/plain": [
       "         Date        Close\n",
       "0  2017-01-02  2598.500000\n",
       "1  2017-01-03  2619.199951\n",
       "2  2017-01-04  2684.100098\n",
       "3  2017-01-05  2723.350098\n",
       "4  2017-01-06  2707.350098"
      ]
     },
     "execution_count": 7,
     "metadata": {},
     "output_type": "execute_result"
    }
   ],
   "source": [
    "bajaj_df = bajaj_df.drop(columns=['High', 'Low', 'Open', 'Volume', 'Adj Close', 'Company', 'Exchange'])\n",
    "bajaj_df.head()"
   ]
  },
  {
   "cell_type": "markdown",
   "metadata": {},
   "source": [
    "- We can see that the period where the stocks are correlated and co-integration starts from 2018-09-04.\n",
    "- Thus the test data for which we need to make predictions is from 2018-09-04 to when the period ends at 2018-12-03.\n",
    "- We take 1 year's worth of training data for our model, which means that the time period of our training data is from 2017-09-03 to 2018-09-04.\n"
   ]
  },
  {
   "cell_type": "markdown",
   "metadata": {},
   "source": [
    "### 3.2.2. Crop dataset within training range"
   ]
  },
  {
   "cell_type": "code",
   "execution_count": 8,
   "metadata": {},
   "outputs": [
    {
     "data": {
      "text/html": [
       "<div>\n",
       "<style scoped>\n",
       "    .dataframe tbody tr th:only-of-type {\n",
       "        vertical-align: middle;\n",
       "    }\n",
       "\n",
       "    .dataframe tbody tr th {\n",
       "        vertical-align: top;\n",
       "    }\n",
       "\n",
       "    .dataframe thead th {\n",
       "        text-align: right;\n",
       "    }\n",
       "</style>\n",
       "<table border=\"1\" class=\"dataframe\">\n",
       "  <thead>\n",
       "    <tr style=\"text-align: right;\">\n",
       "      <th></th>\n",
       "      <th>Date</th>\n",
       "      <th>Close</th>\n",
       "    </tr>\n",
       "  </thead>\n",
       "  <tbody>\n",
       "    <tr>\n",
       "      <th>166</th>\n",
       "      <td>2017-09-04</td>\n",
       "      <td>2915.149902</td>\n",
       "    </tr>\n",
       "    <tr>\n",
       "      <th>167</th>\n",
       "      <td>2017-09-05</td>\n",
       "      <td>2950.699951</td>\n",
       "    </tr>\n",
       "    <tr>\n",
       "      <th>168</th>\n",
       "      <td>2017-09-06</td>\n",
       "      <td>2920.550049</td>\n",
       "    </tr>\n",
       "    <tr>\n",
       "      <th>169</th>\n",
       "      <td>2017-09-07</td>\n",
       "      <td>2965.449951</td>\n",
       "    </tr>\n",
       "    <tr>\n",
       "      <th>170</th>\n",
       "      <td>2017-09-08</td>\n",
       "      <td>2915.449951</td>\n",
       "    </tr>\n",
       "  </tbody>\n",
       "</table>\n",
       "</div>"
      ],
      "text/plain": [
       "           Date        Close\n",
       "166  2017-09-04  2915.149902\n",
       "167  2017-09-05  2950.699951\n",
       "168  2017-09-06  2920.550049\n",
       "169  2017-09-07  2965.449951\n",
       "170  2017-09-08  2915.449951"
      ]
     },
     "execution_count": 8,
     "metadata": {},
     "output_type": "execute_result"
    }
   ],
   "source": [
    "bajaj_df_train = bajaj_df[bajaj_df['Date'] >= '2017-09-03']\n",
    "bajaj_df_train.head()"
   ]
  },
  {
   "cell_type": "code",
   "execution_count": 9,
   "metadata": {},
   "outputs": [
    {
     "data": {
      "text/html": [
       "<div>\n",
       "<style scoped>\n",
       "    .dataframe tbody tr th:only-of-type {\n",
       "        vertical-align: middle;\n",
       "    }\n",
       "\n",
       "    .dataframe tbody tr th {\n",
       "        vertical-align: top;\n",
       "    }\n",
       "\n",
       "    .dataframe thead th {\n",
       "        text-align: right;\n",
       "    }\n",
       "</style>\n",
       "<table border=\"1\" class=\"dataframe\">\n",
       "  <thead>\n",
       "    <tr style=\"text-align: right;\">\n",
       "      <th></th>\n",
       "      <th>Date</th>\n",
       "      <th>Close</th>\n",
       "    </tr>\n",
       "  </thead>\n",
       "  <tbody>\n",
       "    <tr>\n",
       "      <th>412</th>\n",
       "      <td>2018-08-29</td>\n",
       "      <td>2689.100098</td>\n",
       "    </tr>\n",
       "    <tr>\n",
       "      <th>413</th>\n",
       "      <td>2018-08-30</td>\n",
       "      <td>2701.649902</td>\n",
       "    </tr>\n",
       "    <tr>\n",
       "      <th>414</th>\n",
       "      <td>2018-08-31</td>\n",
       "      <td>2744.850098</td>\n",
       "    </tr>\n",
       "    <tr>\n",
       "      <th>415</th>\n",
       "      <td>2018-09-03</td>\n",
       "      <td>2771.899902</td>\n",
       "    </tr>\n",
       "    <tr>\n",
       "      <th>416</th>\n",
       "      <td>2018-09-04</td>\n",
       "      <td>2735.550049</td>\n",
       "    </tr>\n",
       "  </tbody>\n",
       "</table>\n",
       "</div>"
      ],
      "text/plain": [
       "           Date        Close\n",
       "412  2018-08-29  2689.100098\n",
       "413  2018-08-30  2701.649902\n",
       "414  2018-08-31  2744.850098\n",
       "415  2018-09-03  2771.899902\n",
       "416  2018-09-04  2735.550049"
      ]
     },
     "execution_count": 9,
     "metadata": {},
     "output_type": "execute_result"
    }
   ],
   "source": [
    "bajaj_df_train = bajaj_df_train[bajaj_df_train['Date'] <= '2018-09-04']\n",
    "bajaj_df_train.tail()"
   ]
  },
  {
   "cell_type": "markdown",
   "metadata": {},
   "source": [
    "### 3.2.3 Get the training data and labels"
   ]
  },
  {
   "cell_type": "code",
   "execution_count": 10,
   "metadata": {},
   "outputs": [
    {
     "data": {
      "text/html": [
       "<div>\n",
       "<style scoped>\n",
       "    .dataframe tbody tr th:only-of-type {\n",
       "        vertical-align: middle;\n",
       "    }\n",
       "\n",
       "    .dataframe tbody tr th {\n",
       "        vertical-align: top;\n",
       "    }\n",
       "\n",
       "    .dataframe thead th {\n",
       "        text-align: right;\n",
       "    }\n",
       "</style>\n",
       "<table border=\"1\" class=\"dataframe\">\n",
       "  <thead>\n",
       "    <tr style=\"text-align: right;\">\n",
       "      <th></th>\n",
       "      <th>Date</th>\n",
       "      <th>Close</th>\n",
       "    </tr>\n",
       "  </thead>\n",
       "  <tbody>\n",
       "    <tr>\n",
       "      <th>166</th>\n",
       "      <td>2017-09-04</td>\n",
       "      <td>2915.149902</td>\n",
       "    </tr>\n",
       "    <tr>\n",
       "      <th>167</th>\n",
       "      <td>2017-09-05</td>\n",
       "      <td>2950.699951</td>\n",
       "    </tr>\n",
       "    <tr>\n",
       "      <th>168</th>\n",
       "      <td>2017-09-06</td>\n",
       "      <td>2920.550049</td>\n",
       "    </tr>\n",
       "    <tr>\n",
       "      <th>169</th>\n",
       "      <td>2017-09-07</td>\n",
       "      <td>2965.449951</td>\n",
       "    </tr>\n",
       "    <tr>\n",
       "      <th>170</th>\n",
       "      <td>2017-09-08</td>\n",
       "      <td>2915.449951</td>\n",
       "    </tr>\n",
       "    <tr>\n",
       "      <th>...</th>\n",
       "      <td>...</td>\n",
       "      <td>...</td>\n",
       "    </tr>\n",
       "    <tr>\n",
       "      <th>412</th>\n",
       "      <td>2018-08-29</td>\n",
       "      <td>2689.100098</td>\n",
       "    </tr>\n",
       "    <tr>\n",
       "      <th>413</th>\n",
       "      <td>2018-08-30</td>\n",
       "      <td>2701.649902</td>\n",
       "    </tr>\n",
       "    <tr>\n",
       "      <th>414</th>\n",
       "      <td>2018-08-31</td>\n",
       "      <td>2744.850098</td>\n",
       "    </tr>\n",
       "    <tr>\n",
       "      <th>415</th>\n",
       "      <td>2018-09-03</td>\n",
       "      <td>2771.899902</td>\n",
       "    </tr>\n",
       "    <tr>\n",
       "      <th>416</th>\n",
       "      <td>2018-09-04</td>\n",
       "      <td>2735.550049</td>\n",
       "    </tr>\n",
       "  </tbody>\n",
       "</table>\n",
       "<p>251 rows × 2 columns</p>\n",
       "</div>"
      ],
      "text/plain": [
       "           Date        Close\n",
       "166  2017-09-04  2915.149902\n",
       "167  2017-09-05  2950.699951\n",
       "168  2017-09-06  2920.550049\n",
       "169  2017-09-07  2965.449951\n",
       "170  2017-09-08  2915.449951\n",
       "..          ...          ...\n",
       "412  2018-08-29  2689.100098\n",
       "413  2018-08-30  2701.649902\n",
       "414  2018-08-31  2744.850098\n",
       "415  2018-09-03  2771.899902\n",
       "416  2018-09-04  2735.550049\n",
       "\n",
       "[251 rows x 2 columns]"
      ]
     },
     "execution_count": 10,
     "metadata": {},
     "output_type": "execute_result"
    }
   ],
   "source": [
    "bajaj_train = bajaj_df_train.copy()\n",
    "bajaj_train"
   ]
  },
  {
   "cell_type": "code",
   "execution_count": 11,
   "metadata": {},
   "outputs": [
    {
     "data": {
      "text/plain": [
       "0      2915.149902\n",
       "1      2950.699951\n",
       "2      2920.550049\n",
       "3      2965.449951\n",
       "4      2915.449951\n",
       "          ...     \n",
       "246    2689.100098\n",
       "247    2701.649902\n",
       "248    2744.850098\n",
       "249    2771.899902\n",
       "250    2735.550049\n",
       "Name: Close, Length: 251, dtype: float64"
      ]
     },
     "execution_count": 11,
     "metadata": {},
     "output_type": "execute_result"
    }
   ],
   "source": [
    "bajaj_train = bajaj_train.reset_index(drop=True)\n",
    "bajaj_train = bajaj_train['Close']\n",
    "bajaj_train"
   ]
  },
  {
   "cell_type": "code",
   "execution_count": 12,
   "metadata": {},
   "outputs": [
    {
     "data": {
      "text/plain": [
       "251"
      ]
     },
     "execution_count": 12,
     "metadata": {},
     "output_type": "execute_result"
    }
   ],
   "source": [
    "len(bajaj_train)"
   ]
  },
  {
   "cell_type": "markdown",
   "metadata": {},
   "source": [
    "## 3.3. Get BAJAJ-AUTO Test Data"
   ]
  },
  {
   "cell_type": "code",
   "execution_count": 13,
   "metadata": {},
   "outputs": [
    {
     "data": {
      "text/html": [
       "<div>\n",
       "<style scoped>\n",
       "    .dataframe tbody tr th:only-of-type {\n",
       "        vertical-align: middle;\n",
       "    }\n",
       "\n",
       "    .dataframe tbody tr th {\n",
       "        vertical-align: top;\n",
       "    }\n",
       "\n",
       "    .dataframe thead th {\n",
       "        text-align: right;\n",
       "    }\n",
       "</style>\n",
       "<table border=\"1\" class=\"dataframe\">\n",
       "  <thead>\n",
       "    <tr style=\"text-align: right;\">\n",
       "      <th></th>\n",
       "      <th>Date</th>\n",
       "      <th>Close</th>\n",
       "    </tr>\n",
       "  </thead>\n",
       "  <tbody>\n",
       "    <tr>\n",
       "      <th>416</th>\n",
       "      <td>2018-09-04</td>\n",
       "      <td>2735.550049</td>\n",
       "    </tr>\n",
       "    <tr>\n",
       "      <th>417</th>\n",
       "      <td>2018-09-05</td>\n",
       "      <td>2772.300049</td>\n",
       "    </tr>\n",
       "    <tr>\n",
       "      <th>418</th>\n",
       "      <td>2018-09-06</td>\n",
       "      <td>2783.100098</td>\n",
       "    </tr>\n",
       "    <tr>\n",
       "      <th>419</th>\n",
       "      <td>2018-09-07</td>\n",
       "      <td>2923.550049</td>\n",
       "    </tr>\n",
       "    <tr>\n",
       "      <th>420</th>\n",
       "      <td>2018-09-10</td>\n",
       "      <td>2868.600098</td>\n",
       "    </tr>\n",
       "  </tbody>\n",
       "</table>\n",
       "</div>"
      ],
      "text/plain": [
       "           Date        Close\n",
       "416  2018-09-04  2735.550049\n",
       "417  2018-09-05  2772.300049\n",
       "418  2018-09-06  2783.100098\n",
       "419  2018-09-07  2923.550049\n",
       "420  2018-09-10  2868.600098"
      ]
     },
     "execution_count": 13,
     "metadata": {},
     "output_type": "execute_result"
    }
   ],
   "source": [
    "bajaj_test_df = orders_df.copy()\n",
    "bajaj_test_df = bajaj_df[(bajaj_df['Date'] >= '2018-09-04') & (bajaj_df['Date'] <= '2018-12-03')].copy()\n",
    "bajaj_test_df.head()"
   ]
  },
  {
   "cell_type": "code",
   "execution_count": 14,
   "metadata": {},
   "outputs": [
    {
     "data": {
      "text/html": [
       "<div>\n",
       "<style scoped>\n",
       "    .dataframe tbody tr th:only-of-type {\n",
       "        vertical-align: middle;\n",
       "    }\n",
       "\n",
       "    .dataframe tbody tr th {\n",
       "        vertical-align: top;\n",
       "    }\n",
       "\n",
       "    .dataframe thead th {\n",
       "        text-align: right;\n",
       "    }\n",
       "</style>\n",
       "<table border=\"1\" class=\"dataframe\">\n",
       "  <thead>\n",
       "    <tr style=\"text-align: right;\">\n",
       "      <th></th>\n",
       "      <th>Date</th>\n",
       "      <th>Close</th>\n",
       "    </tr>\n",
       "  </thead>\n",
       "  <tbody>\n",
       "    <tr>\n",
       "      <th>470</th>\n",
       "      <td>2018-11-27</td>\n",
       "      <td>2599.649902</td>\n",
       "    </tr>\n",
       "    <tr>\n",
       "      <th>471</th>\n",
       "      <td>2018-11-28</td>\n",
       "      <td>2603.899902</td>\n",
       "    </tr>\n",
       "    <tr>\n",
       "      <th>472</th>\n",
       "      <td>2018-11-29</td>\n",
       "      <td>2724.000000</td>\n",
       "    </tr>\n",
       "    <tr>\n",
       "      <th>473</th>\n",
       "      <td>2018-11-30</td>\n",
       "      <td>2745.699951</td>\n",
       "    </tr>\n",
       "    <tr>\n",
       "      <th>474</th>\n",
       "      <td>2018-12-03</td>\n",
       "      <td>2736.000000</td>\n",
       "    </tr>\n",
       "  </tbody>\n",
       "</table>\n",
       "</div>"
      ],
      "text/plain": [
       "           Date        Close\n",
       "470  2018-11-27  2599.649902\n",
       "471  2018-11-28  2603.899902\n",
       "472  2018-11-29  2724.000000\n",
       "473  2018-11-30  2745.699951\n",
       "474  2018-12-03  2736.000000"
      ]
     },
     "execution_count": 14,
     "metadata": {},
     "output_type": "execute_result"
    }
   ],
   "source": [
    "bajaj_test_df.tail()"
   ]
  },
  {
   "cell_type": "code",
   "execution_count": 15,
   "metadata": {},
   "outputs": [
    {
     "data": {
      "text/html": [
       "<div>\n",
       "<style scoped>\n",
       "    .dataframe tbody tr th:only-of-type {\n",
       "        vertical-align: middle;\n",
       "    }\n",
       "\n",
       "    .dataframe tbody tr th {\n",
       "        vertical-align: top;\n",
       "    }\n",
       "\n",
       "    .dataframe thead th {\n",
       "        text-align: right;\n",
       "    }\n",
       "</style>\n",
       "<table border=\"1\" class=\"dataframe\">\n",
       "  <thead>\n",
       "    <tr style=\"text-align: right;\">\n",
       "      <th></th>\n",
       "      <th>Date</th>\n",
       "      <th>Close</th>\n",
       "    </tr>\n",
       "  </thead>\n",
       "  <tbody>\n",
       "    <tr>\n",
       "      <th>251</th>\n",
       "      <td>2018-09-04</td>\n",
       "      <td>2735.550049</td>\n",
       "    </tr>\n",
       "    <tr>\n",
       "      <th>252</th>\n",
       "      <td>2018-09-05</td>\n",
       "      <td>2772.300049</td>\n",
       "    </tr>\n",
       "    <tr>\n",
       "      <th>253</th>\n",
       "      <td>2018-09-06</td>\n",
       "      <td>2783.100098</td>\n",
       "    </tr>\n",
       "    <tr>\n",
       "      <th>254</th>\n",
       "      <td>2018-09-07</td>\n",
       "      <td>2923.550049</td>\n",
       "    </tr>\n",
       "    <tr>\n",
       "      <th>255</th>\n",
       "      <td>2018-09-10</td>\n",
       "      <td>2868.600098</td>\n",
       "    </tr>\n",
       "  </tbody>\n",
       "</table>\n",
       "</div>"
      ],
      "text/plain": [
       "           Date        Close\n",
       "251  2018-09-04  2735.550049\n",
       "252  2018-09-05  2772.300049\n",
       "253  2018-09-06  2783.100098\n",
       "254  2018-09-07  2923.550049\n",
       "255  2018-09-10  2868.600098"
      ]
     },
     "execution_count": 15,
     "metadata": {},
     "output_type": "execute_result"
    }
   ],
   "source": [
    "bajaj_test = bajaj_test_df.copy()\n",
    "bajaj_test.reset_index(drop=True, inplace=True)\n",
    "bajaj_test.index += 251\n",
    "bajaj_test.head()"
   ]
  },
  {
   "cell_type": "code",
   "execution_count": 16,
   "metadata": {},
   "outputs": [
    {
     "data": {
      "text/html": [
       "<div>\n",
       "<style scoped>\n",
       "    .dataframe tbody tr th:only-of-type {\n",
       "        vertical-align: middle;\n",
       "    }\n",
       "\n",
       "    .dataframe tbody tr th {\n",
       "        vertical-align: top;\n",
       "    }\n",
       "\n",
       "    .dataframe thead th {\n",
       "        text-align: right;\n",
       "    }\n",
       "</style>\n",
       "<table border=\"1\" class=\"dataframe\">\n",
       "  <thead>\n",
       "    <tr style=\"text-align: right;\">\n",
       "      <th></th>\n",
       "      <th>Date</th>\n",
       "      <th>Close</th>\n",
       "    </tr>\n",
       "  </thead>\n",
       "  <tbody>\n",
       "    <tr>\n",
       "      <th>305</th>\n",
       "      <td>2018-11-27</td>\n",
       "      <td>2599.649902</td>\n",
       "    </tr>\n",
       "    <tr>\n",
       "      <th>306</th>\n",
       "      <td>2018-11-28</td>\n",
       "      <td>2603.899902</td>\n",
       "    </tr>\n",
       "    <tr>\n",
       "      <th>307</th>\n",
       "      <td>2018-11-29</td>\n",
       "      <td>2724.000000</td>\n",
       "    </tr>\n",
       "    <tr>\n",
       "      <th>308</th>\n",
       "      <td>2018-11-30</td>\n",
       "      <td>2745.699951</td>\n",
       "    </tr>\n",
       "    <tr>\n",
       "      <th>309</th>\n",
       "      <td>2018-12-03</td>\n",
       "      <td>2736.000000</td>\n",
       "    </tr>\n",
       "  </tbody>\n",
       "</table>\n",
       "</div>"
      ],
      "text/plain": [
       "           Date        Close\n",
       "305  2018-11-27  2599.649902\n",
       "306  2018-11-28  2603.899902\n",
       "307  2018-11-29  2724.000000\n",
       "308  2018-11-30  2745.699951\n",
       "309  2018-12-03  2736.000000"
      ]
     },
     "execution_count": 16,
     "metadata": {},
     "output_type": "execute_result"
    }
   ],
   "source": [
    "bajaj_test.tail()"
   ]
  },
  {
   "cell_type": "code",
   "execution_count": 17,
   "metadata": {},
   "outputs": [],
   "source": [
    "bajaj_test = bajaj_test['Close']"
   ]
  },
  {
   "cell_type": "code",
   "execution_count": 18,
   "metadata": {},
   "outputs": [
    {
     "data": {
      "text/plain": [
       "59"
      ]
     },
     "execution_count": 18,
     "metadata": {},
     "output_type": "execute_result"
    }
   ],
   "source": [
    "len(bajaj_test)"
   ]
  },
  {
   "cell_type": "markdown",
   "metadata": {},
   "source": [
    "## 3.4 Create and Train BAJAJ-AUTO Model"
   ]
  },
  {
   "cell_type": "code",
   "execution_count": 19,
   "metadata": {},
   "outputs": [
    {
     "name": "stdout",
     "output_type": "stream",
     "text": [
      "Performing stepwise search to minimize aic\n",
      " ARIMA(1,1,1)(0,1,1)[12]             : AIC=inf, Time=2.51 sec\n",
      " ARIMA(0,1,0)(0,1,0)[12]             : AIC=2658.845, Time=0.05 sec\n",
      " ARIMA(1,1,0)(1,1,0)[12]             : AIC=2586.027, Time=0.58 sec\n",
      " ARIMA(0,1,1)(0,1,1)[12]             : AIC=inf, Time=1.13 sec\n",
      " ARIMA(1,1,0)(0,1,0)[12]             : AIC=2657.790, Time=0.07 sec\n",
      " ARIMA(1,1,0)(2,1,0)[12]             : AIC=2560.003, Time=1.72 sec\n",
      " ARIMA(1,1,0)(2,1,1)[12]             : AIC=inf, Time=6.13 sec\n",
      " ARIMA(1,1,0)(1,1,1)[12]             : AIC=inf, Time=2.14 sec\n",
      " ARIMA(0,1,0)(2,1,0)[12]             : AIC=2558.950, Time=1.16 sec\n",
      " ARIMA(0,1,0)(1,1,0)[12]             : AIC=2584.294, Time=0.15 sec\n",
      " ARIMA(0,1,0)(2,1,1)[12]             : AIC=inf, Time=3.49 sec\n",
      " ARIMA(0,1,0)(1,1,1)[12]             : AIC=inf, Time=2.24 sec\n",
      " ARIMA(0,1,1)(2,1,0)[12]             : AIC=2559.961, Time=1.70 sec\n",
      " ARIMA(1,1,1)(2,1,0)[12]             : AIC=inf, Time=8.55 sec\n",
      " ARIMA(0,1,0)(2,1,0)[12] intercept   : AIC=2560.736, Time=4.78 sec\n",
      "\n",
      "Best model:  ARIMA(0,1,0)(2,1,0)[12]          \n",
      "Total fit time: 36.426 seconds\n"
     ]
    },
    {
     "data": {
      "text/plain": [
       "ARIMA(order=(0, 1, 0), scoring_args={}, seasonal_order=(2, 1, 0, 12),\n",
       "      suppress_warnings=True, with_intercept=False)"
      ]
     },
     "execution_count": 19,
     "metadata": {},
     "output_type": "execute_result"
    }
   ],
   "source": [
    "model = auto_arima(bajaj_train, start_p=1, start_q=1,max_p=3, max_q=3, m=12,start_P=0, seasonal=True,d=1, D=1, trace=True, error_action='ignore', suppress_warnings=True)\n",
    "model.fit(bajaj_train)"
   ]
  },
  {
   "cell_type": "markdown",
   "metadata": {},
   "source": [
    "## 3.5. Get predictions"
   ]
  },
  {
   "cell_type": "code",
   "execution_count": 20,
   "metadata": {},
   "outputs": [
    {
     "data": {
      "text/html": [
       "<div>\n",
       "<style scoped>\n",
       "    .dataframe tbody tr th:only-of-type {\n",
       "        vertical-align: middle;\n",
       "    }\n",
       "\n",
       "    .dataframe tbody tr th {\n",
       "        vertical-align: top;\n",
       "    }\n",
       "\n",
       "    .dataframe thead th {\n",
       "        text-align: right;\n",
       "    }\n",
       "</style>\n",
       "<table border=\"1\" class=\"dataframe\">\n",
       "  <thead>\n",
       "    <tr style=\"text-align: right;\">\n",
       "      <th></th>\n",
       "      <th>Prediction</th>\n",
       "    </tr>\n",
       "  </thead>\n",
       "  <tbody>\n",
       "    <tr>\n",
       "      <th>251</th>\n",
       "      <td>2758.982897</td>\n",
       "    </tr>\n",
       "    <tr>\n",
       "      <th>252</th>\n",
       "      <td>2758.487833</td>\n",
       "    </tr>\n",
       "    <tr>\n",
       "      <th>253</th>\n",
       "      <td>2753.048689</td>\n",
       "    </tr>\n",
       "    <tr>\n",
       "      <th>254</th>\n",
       "      <td>2750.827712</td>\n",
       "    </tr>\n",
       "    <tr>\n",
       "      <th>255</th>\n",
       "      <td>2751.573240</td>\n",
       "    </tr>\n",
       "    <tr>\n",
       "      <th>256</th>\n",
       "      <td>2656.435953</td>\n",
       "    </tr>\n",
       "    <tr>\n",
       "      <th>257</th>\n",
       "      <td>2587.443083</td>\n",
       "    </tr>\n",
       "    <tr>\n",
       "      <th>258</th>\n",
       "      <td>2575.225774</td>\n",
       "    </tr>\n",
       "    <tr>\n",
       "      <th>259</th>\n",
       "      <td>2564.203929</td>\n",
       "    </tr>\n",
       "    <tr>\n",
       "      <th>260</th>\n",
       "      <td>2569.011648</td>\n",
       "    </tr>\n",
       "    <tr>\n",
       "      <th>261</th>\n",
       "      <td>2606.546429</td>\n",
       "    </tr>\n",
       "    <tr>\n",
       "      <th>262</th>\n",
       "      <td>2599.792268</td>\n",
       "    </tr>\n",
       "    <tr>\n",
       "      <th>263</th>\n",
       "      <td>2613.430205</td>\n",
       "    </tr>\n",
       "    <tr>\n",
       "      <th>264</th>\n",
       "      <td>2634.041553</td>\n",
       "    </tr>\n",
       "    <tr>\n",
       "      <th>265</th>\n",
       "      <td>2629.201823</td>\n",
       "    </tr>\n",
       "    <tr>\n",
       "      <th>266</th>\n",
       "      <td>2616.829720</td>\n",
       "    </tr>\n",
       "    <tr>\n",
       "      <th>267</th>\n",
       "      <td>2614.883766</td>\n",
       "    </tr>\n",
       "    <tr>\n",
       "      <th>268</th>\n",
       "      <td>2594.627337</td>\n",
       "    </tr>\n",
       "    <tr>\n",
       "      <th>269</th>\n",
       "      <td>2561.871766</td>\n",
       "    </tr>\n",
       "    <tr>\n",
       "      <th>270</th>\n",
       "      <td>2559.631346</td>\n",
       "    </tr>\n",
       "    <tr>\n",
       "      <th>271</th>\n",
       "      <td>2550.993079</td>\n",
       "    </tr>\n",
       "    <tr>\n",
       "      <th>272</th>\n",
       "      <td>2568.814705</td>\n",
       "    </tr>\n",
       "    <tr>\n",
       "      <th>273</th>\n",
       "      <td>2594.552451</td>\n",
       "    </tr>\n",
       "    <tr>\n",
       "      <th>274</th>\n",
       "      <td>2586.744699</td>\n",
       "    </tr>\n",
       "    <tr>\n",
       "      <th>275</th>\n",
       "      <td>2596.940764</td>\n",
       "    </tr>\n",
       "    <tr>\n",
       "      <th>276</th>\n",
       "      <td>2628.823851</td>\n",
       "    </tr>\n",
       "    <tr>\n",
       "      <th>277</th>\n",
       "      <td>2623.039458</td>\n",
       "    </tr>\n",
       "    <tr>\n",
       "      <th>278</th>\n",
       "      <td>2603.488667</td>\n",
       "    </tr>\n",
       "    <tr>\n",
       "      <th>279</th>\n",
       "      <td>2602.061372</td>\n",
       "    </tr>\n",
       "    <tr>\n",
       "      <th>280</th>\n",
       "      <td>2566.634050</td>\n",
       "    </tr>\n",
       "    <tr>\n",
       "      <th>281</th>\n",
       "      <td>2527.370343</td>\n",
       "    </tr>\n",
       "    <tr>\n",
       "      <th>282</th>\n",
       "      <td>2523.896360</td>\n",
       "    </tr>\n",
       "    <tr>\n",
       "      <th>283</th>\n",
       "      <td>2521.967589</td>\n",
       "    </tr>\n",
       "    <tr>\n",
       "      <th>284</th>\n",
       "      <td>2544.035022</td>\n",
       "    </tr>\n",
       "    <tr>\n",
       "      <th>285</th>\n",
       "      <td>2574.645237</td>\n",
       "    </tr>\n",
       "    <tr>\n",
       "      <th>286</th>\n",
       "      <td>2556.994269</td>\n",
       "    </tr>\n",
       "    <tr>\n",
       "      <th>287</th>\n",
       "      <td>2573.221870</td>\n",
       "    </tr>\n",
       "    <tr>\n",
       "      <th>288</th>\n",
       "      <td>2589.286940</td>\n",
       "    </tr>\n",
       "    <tr>\n",
       "      <th>289</th>\n",
       "      <td>2583.978856</td>\n",
       "    </tr>\n",
       "    <tr>\n",
       "      <th>290</th>\n",
       "      <td>2573.321871</td>\n",
       "    </tr>\n",
       "    <tr>\n",
       "      <th>291</th>\n",
       "      <td>2572.480307</td>\n",
       "    </tr>\n",
       "    <tr>\n",
       "      <th>292</th>\n",
       "      <td>2521.299406</td>\n",
       "    </tr>\n",
       "    <tr>\n",
       "      <th>293</th>\n",
       "      <td>2473.802048</td>\n",
       "    </tr>\n",
       "    <tr>\n",
       "      <th>294</th>\n",
       "      <td>2467.652643</td>\n",
       "    </tr>\n",
       "    <tr>\n",
       "      <th>295</th>\n",
       "      <td>2459.959167</td>\n",
       "    </tr>\n",
       "    <tr>\n",
       "      <th>296</th>\n",
       "      <td>2474.252301</td>\n",
       "    </tr>\n",
       "    <tr>\n",
       "      <th>297</th>\n",
       "      <td>2505.527846</td>\n",
       "    </tr>\n",
       "    <tr>\n",
       "      <th>298</th>\n",
       "      <td>2495.457783</td>\n",
       "    </tr>\n",
       "    <tr>\n",
       "      <th>299</th>\n",
       "      <td>2508.506035</td>\n",
       "    </tr>\n",
       "    <tr>\n",
       "      <th>300</th>\n",
       "      <td>2532.103874</td>\n",
       "    </tr>\n",
       "    <tr>\n",
       "      <th>301</th>\n",
       "      <td>2526.786032</td>\n",
       "    </tr>\n",
       "    <tr>\n",
       "      <th>302</th>\n",
       "      <td>2512.195327</td>\n",
       "    </tr>\n",
       "    <tr>\n",
       "      <th>303</th>\n",
       "      <td>2510.739126</td>\n",
       "    </tr>\n",
       "    <tr>\n",
       "      <th>304</th>\n",
       "      <td>2476.527235</td>\n",
       "    </tr>\n",
       "    <tr>\n",
       "      <th>305</th>\n",
       "      <td>2437.389158</td>\n",
       "    </tr>\n",
       "    <tr>\n",
       "      <th>306</th>\n",
       "      <td>2433.639972</td>\n",
       "    </tr>\n",
       "    <tr>\n",
       "      <th>307</th>\n",
       "      <td>2427.758682</td>\n",
       "    </tr>\n",
       "    <tr>\n",
       "      <th>308</th>\n",
       "      <td>2446.218155</td>\n",
       "    </tr>\n",
       "    <tr>\n",
       "      <th>309</th>\n",
       "      <td>2475.259363</td>\n",
       "    </tr>\n",
       "  </tbody>\n",
       "</table>\n",
       "</div>"
      ],
      "text/plain": [
       "      Prediction\n",
       "251  2758.982897\n",
       "252  2758.487833\n",
       "253  2753.048689\n",
       "254  2750.827712\n",
       "255  2751.573240\n",
       "256  2656.435953\n",
       "257  2587.443083\n",
       "258  2575.225774\n",
       "259  2564.203929\n",
       "260  2569.011648\n",
       "261  2606.546429\n",
       "262  2599.792268\n",
       "263  2613.430205\n",
       "264  2634.041553\n",
       "265  2629.201823\n",
       "266  2616.829720\n",
       "267  2614.883766\n",
       "268  2594.627337\n",
       "269  2561.871766\n",
       "270  2559.631346\n",
       "271  2550.993079\n",
       "272  2568.814705\n",
       "273  2594.552451\n",
       "274  2586.744699\n",
       "275  2596.940764\n",
       "276  2628.823851\n",
       "277  2623.039458\n",
       "278  2603.488667\n",
       "279  2602.061372\n",
       "280  2566.634050\n",
       "281  2527.370343\n",
       "282  2523.896360\n",
       "283  2521.967589\n",
       "284  2544.035022\n",
       "285  2574.645237\n",
       "286  2556.994269\n",
       "287  2573.221870\n",
       "288  2589.286940\n",
       "289  2583.978856\n",
       "290  2573.321871\n",
       "291  2572.480307\n",
       "292  2521.299406\n",
       "293  2473.802048\n",
       "294  2467.652643\n",
       "295  2459.959167\n",
       "296  2474.252301\n",
       "297  2505.527846\n",
       "298  2495.457783\n",
       "299  2508.506035\n",
       "300  2532.103874\n",
       "301  2526.786032\n",
       "302  2512.195327\n",
       "303  2510.739126\n",
       "304  2476.527235\n",
       "305  2437.389158\n",
       "306  2433.639972\n",
       "307  2427.758682\n",
       "308  2446.218155\n",
       "309  2475.259363"
      ]
     },
     "execution_count": 20,
     "metadata": {},
     "output_type": "execute_result"
    }
   ],
   "source": [
    "forecast = model.predict(n_periods=len(bajaj_test))\n",
    "forecast = pd.DataFrame(forecast, index = bajaj_test.index, columns=['Prediction'])\n",
    "forecast"
   ]
  },
  {
   "cell_type": "code",
   "execution_count": 21,
   "metadata": {},
   "outputs": [
    {
     "name": "stdout",
     "output_type": "stream",
     "text": [
      "Mean Absolute Error: 121.81543019473166\n",
      "Mean Squared Error: 22522.468849934037\n",
      "Root Mean Squared Error: 150.07487747765794\n"
     ]
    }
   ],
   "source": [
    "predictions = forecast['Prediction']\n",
    "print('Mean Absolute Error:', metrics.mean_absolute_error(bajaj_test, predictions))\n",
    "print('Mean Squared Error:', metrics.mean_squared_error(bajaj_test, predictions))\n",
    "print('Root Mean Squared Error:', np.sqrt(metrics.mean_squared_error(bajaj_test, predictions)))"
   ]
  },
  {
   "cell_type": "markdown",
   "metadata": {},
   "source": [
    "## 3.6. Visualize the predicitons vs test data"
   ]
  },
  {
   "cell_type": "code",
   "execution_count": 22,
   "metadata": {},
   "outputs": [
    {
     "data": {
      "text/plain": [
       "[<matplotlib.lines.Line2D at 0x7fc4ecfe6668>]"
      ]
     },
     "execution_count": 22,
     "metadata": {},
     "output_type": "execute_result"
    },
    {
     "data": {
      "image/png": "[encoded data removed]",
      "text/plain": [
       "<Figure size 2160x1080 with 1 Axes>"
      ]
     },
     "metadata": {
      "needs_background": "light"
     },
     "output_type": "display_data"
    }
   ],
   "source": [
    "bajaj_model_plt = forecast.plot(y=['Prediction'], figsize=(30,15), c='green')\n",
    "bajaj_model_plt.plot(bajaj_train, c='blue')\n",
    "bajaj_model_plt.plot(bajaj_test, c='orange')"
   ]
  },
  {
   "cell_type": "markdown",
   "metadata": {},
   "source": [
    "__In the graph above:__\n",
    "- We can see the training data in blue\n",
    "- The test data in orange\n",
    "- The predictions made by the models in green"
   ]
  },
  {
   "cell_type": "markdown",
   "metadata": {},
   "source": [
    "# 4. Put the results in a file"
   ]
  },
  {
   "cell_type": "code",
   "execution_count": 23,
   "metadata": {},
   "outputs": [
    {
     "data": {
      "text/html": [
       "<div>\n",
       "<style scoped>\n",
       "    .dataframe tbody tr th:only-of-type {\n",
       "        vertical-align: middle;\n",
       "    }\n",
       "\n",
       "    .dataframe tbody tr th {\n",
       "        vertical-align: top;\n",
       "    }\n",
       "\n",
       "    .dataframe thead th {\n",
       "        text-align: right;\n",
       "    }\n",
       "</style>\n",
       "<table border=\"1\" class=\"dataframe\">\n",
       "  <thead>\n",
       "    <tr style=\"text-align: right;\">\n",
       "      <th></th>\n",
       "      <th>Date</th>\n",
       "      <th>Actual_Close</th>\n",
       "      <th>Linear_regression_Close</th>\n",
       "    </tr>\n",
       "  </thead>\n",
       "  <tbody>\n",
       "    <tr>\n",
       "      <th>0</th>\n",
       "      <td>2018-09-04</td>\n",
       "      <td>2735.550049</td>\n",
       "      <td>2828.063046</td>\n",
       "    </tr>\n",
       "    <tr>\n",
       "      <th>1</th>\n",
       "      <td>2018-09-05</td>\n",
       "      <td>2772.300049</td>\n",
       "      <td>2827.527597</td>\n",
       "    </tr>\n",
       "    <tr>\n",
       "      <th>2</th>\n",
       "      <td>2018-09-06</td>\n",
       "      <td>2783.100098</td>\n",
       "      <td>2826.992147</td>\n",
       "    </tr>\n",
       "    <tr>\n",
       "      <th>3</th>\n",
       "      <td>2018-09-07</td>\n",
       "      <td>2923.550049</td>\n",
       "      <td>2826.456697</td>\n",
       "    </tr>\n",
       "    <tr>\n",
       "      <th>4</th>\n",
       "      <td>2018-09-10</td>\n",
       "      <td>2868.600098</td>\n",
       "      <td>2824.743246</td>\n",
       "    </tr>\n",
       "  </tbody>\n",
       "</table>\n",
       "</div>"
      ],
      "text/plain": [
       "         Date  Actual_Close  Linear_regression_Close\n",
       "0  2018-09-04   2735.550049              2828.063046\n",
       "1  2018-09-05   2772.300049              2827.527597\n",
       "2  2018-09-06   2783.100098              2826.992147\n",
       "3  2018-09-07   2923.550049              2826.456697\n",
       "4  2018-09-10   2868.600098              2824.743246"
      ]
     },
     "execution_count": 23,
     "metadata": {},
     "output_type": "execute_result"
    }
   ],
   "source": [
    "bajaj_predictions_df = pd.read_csv('Bajaj_predicitions.csv')\n",
    "bajaj_predictions_df.head()"
   ]
  },
  {
   "cell_type": "code",
   "execution_count": 24,
   "metadata": {},
   "outputs": [
    {
     "data": {
      "text/html": [
       "<div>\n",
       "<style scoped>\n",
       "    .dataframe tbody tr th:only-of-type {\n",
       "        vertical-align: middle;\n",
       "    }\n",
       "\n",
       "    .dataframe tbody tr th {\n",
       "        vertical-align: top;\n",
       "    }\n",
       "\n",
       "    .dataframe thead th {\n",
       "        text-align: right;\n",
       "    }\n",
       "</style>\n",
       "<table border=\"1\" class=\"dataframe\">\n",
       "  <thead>\n",
       "    <tr style=\"text-align: right;\">\n",
       "      <th></th>\n",
       "      <th>Date</th>\n",
       "      <th>Actual_Close</th>\n",
       "      <th>Linear_regression_Close</th>\n",
       "      <th>ARIMA_Close</th>\n",
       "    </tr>\n",
       "  </thead>\n",
       "  <tbody>\n",
       "    <tr>\n",
       "      <th>0</th>\n",
       "      <td>2018-09-04</td>\n",
       "      <td>2735.550049</td>\n",
       "      <td>2828.063046</td>\n",
       "      <td>2758.982897</td>\n",
       "    </tr>\n",
       "    <tr>\n",
       "      <th>1</th>\n",
       "      <td>2018-09-05</td>\n",
       "      <td>2772.300049</td>\n",
       "      <td>2827.527597</td>\n",
       "      <td>2758.487833</td>\n",
       "    </tr>\n",
       "    <tr>\n",
       "      <th>2</th>\n",
       "      <td>2018-09-06</td>\n",
       "      <td>2783.100098</td>\n",
       "      <td>2826.992147</td>\n",
       "      <td>2753.048689</td>\n",
       "    </tr>\n",
       "    <tr>\n",
       "      <th>3</th>\n",
       "      <td>2018-09-07</td>\n",
       "      <td>2923.550049</td>\n",
       "      <td>2826.456697</td>\n",
       "      <td>2750.827712</td>\n",
       "    </tr>\n",
       "    <tr>\n",
       "      <th>4</th>\n",
       "      <td>2018-09-10</td>\n",
       "      <td>2868.600098</td>\n",
       "      <td>2824.743246</td>\n",
       "      <td>2751.573240</td>\n",
       "    </tr>\n",
       "  </tbody>\n",
       "</table>\n",
       "</div>"
      ],
      "text/plain": [
       "         Date  Actual_Close  Linear_regression_Close  ARIMA_Close\n",
       "0  2018-09-04   2735.550049              2828.063046  2758.982897\n",
       "1  2018-09-05   2772.300049              2827.527597  2758.487833\n",
       "2  2018-09-06   2783.100098              2826.992147  2753.048689\n",
       "3  2018-09-07   2923.550049              2826.456697  2750.827712\n",
       "4  2018-09-10   2868.600098              2824.743246  2751.573240"
      ]
     },
     "execution_count": 24,
     "metadata": {},
     "output_type": "execute_result"
    }
   ],
   "source": [
    "forecast = forecast.reset_index()\n",
    "forecast = forecast.drop(columns='index')\n",
    "bajaj_predictions_df['ARIMA_Close'] = forecast['Prediction']\n",
    "bajaj_predictions_df.head()"
   ]
  },
  {
   "cell_type": "code",
   "execution_count": 25,
   "metadata": {},
   "outputs": [],
   "source": [
    "bajaj_predictions_df.to_csv('Bajaj_predicitions.csv', index=False)"
   ]
  },
  {
   "cell_type": "code",
   "execution_count": null,
   "metadata": {},
   "outputs": [],
   "source": []
  }
 ],
 "metadata": {
  "kernelspec": {
   "display_name": "Python 3",
   "language": "python",
   "name": "python3"
  },
  "language_info": {
   "codemirror_mode": {
    "name": "ipython",
    "version": 3
   },
   "file_extension": ".py",
   "mimetype": "text/x-python",
   "name": "python",
   "nbconvert_exporter": "python",
   "pygments_lexer": "ipython3",
   "version": "3.6.9"
  }
 },
 "nbformat": 4,
 "nbformat_minor": 4
}
