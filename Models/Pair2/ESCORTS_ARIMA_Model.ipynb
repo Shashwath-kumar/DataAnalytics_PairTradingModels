{
 "cells": [
  {
   "cell_type": "markdown",
   "metadata": {},
   "source": [
    "# Data Analytics Project - Models\n",
    "\n",
    "# Pair 2 - ESCORTS ARIMA Model\n",
    "\n",
    "---"
   ]
  },
  {
   "cell_type": "markdown",
   "metadata": {},
   "source": [
    "# 1. Import required modules"
   ]
  },
  {
   "cell_type": "code",
   "execution_count": 1,
   "metadata": {},
   "outputs": [
    {
     "name": "stderr",
     "output_type": "stream",
     "text": [
      "/home/varun487/.local/lib/python3.6/site-packages/torch/cuda/__init__.py:52: UserWarning: CUDA initialization: Found no NVIDIA driver on your system. Please check that you have an NVIDIA GPU and installed a driver from http://www.nvidia.com/Download/index.aspx (Triggered internally at  /pytorch/c10/cuda/CUDAFunctions.cpp:100.)\n",
      "  return torch._C._cuda_getDeviceCount() > 0\n"
     ]
    }
   ],
   "source": [
    "import numpy as np\n",
    "import pandas as pd\n",
    "from fastai.tabular.core import add_datepart\n",
    "from pmdarima.arima import auto_arima\n",
    "from sklearn import metrics"
   ]
  },
  {
   "cell_type": "markdown",
   "metadata": {},
   "source": [
    "---"
   ]
  },
  {
   "cell_type": "markdown",
   "metadata": {},
   "source": [
    "# 2. Get Pair 2 Orders Dataset"
   ]
  },
  {
   "cell_type": "markdown",
   "metadata": {},
   "source": [
    "## 2.1. Get the orders"
   ]
  },
  {
   "cell_type": "code",
   "execution_count": 2,
   "metadata": {},
   "outputs": [
    {
     "data": {
      "text/html": [
       "<div>\n",
       "<style scoped>\n",
       "    .dataframe tbody tr th:only-of-type {\n",
       "        vertical-align: middle;\n",
       "    }\n",
       "\n",
       "    .dataframe tbody tr th {\n",
       "        vertical-align: top;\n",
       "    }\n",
       "\n",
       "    .dataframe thead th {\n",
       "        text-align: right;\n",
       "    }\n",
       "</style>\n",
       "<table border=\"1\" class=\"dataframe\">\n",
       "  <thead>\n",
       "    <tr style=\"text-align: right;\">\n",
       "      <th></th>\n",
       "      <th>Date</th>\n",
       "      <th>BEML_Close</th>\n",
       "      <th>ESCORTS_Close</th>\n",
       "      <th>Spread</th>\n",
       "      <th>zscore</th>\n",
       "      <th>Orders</th>\n",
       "    </tr>\n",
       "  </thead>\n",
       "  <tbody>\n",
       "    <tr>\n",
       "      <th>0</th>\n",
       "      <td>2018-08-06</td>\n",
       "      <td>909.099976</td>\n",
       "      <td>880.049988</td>\n",
       "      <td>29.049988</td>\n",
       "      <td>1.821236</td>\n",
       "      <td>SHORT</td>\n",
       "    </tr>\n",
       "    <tr>\n",
       "      <th>1</th>\n",
       "      <td>2018-08-07</td>\n",
       "      <td>868.599976</td>\n",
       "      <td>873.700012</td>\n",
       "      <td>-5.100037</td>\n",
       "      <td>0.672698</td>\n",
       "      <td>FLAT</td>\n",
       "    </tr>\n",
       "    <tr>\n",
       "      <th>2</th>\n",
       "      <td>2018-08-08</td>\n",
       "      <td>825.150024</td>\n",
       "      <td>876.500000</td>\n",
       "      <td>-51.349976</td>\n",
       "      <td>-0.882785</td>\n",
       "      <td>GET_OUT_OF_POSITION</td>\n",
       "    </tr>\n",
       "    <tr>\n",
       "      <th>3</th>\n",
       "      <td>2018-08-09</td>\n",
       "      <td>810.150024</td>\n",
       "      <td>878.750000</td>\n",
       "      <td>-68.599976</td>\n",
       "      <td>-1.462939</td>\n",
       "      <td>FLAT</td>\n",
       "    </tr>\n",
       "    <tr>\n",
       "      <th>4</th>\n",
       "      <td>2018-08-10</td>\n",
       "      <td>807.750000</td>\n",
       "      <td>865.250000</td>\n",
       "      <td>-57.500000</td>\n",
       "      <td>-1.089624</td>\n",
       "      <td>FLAT</td>\n",
       "    </tr>\n",
       "  </tbody>\n",
       "</table>\n",
       "</div>"
      ],
      "text/plain": [
       "         Date  BEML_Close  ESCORTS_Close     Spread    zscore  \\\n",
       "0  2018-08-06  909.099976     880.049988  29.049988  1.821236   \n",
       "1  2018-08-07  868.599976     873.700012  -5.100037  0.672698   \n",
       "2  2018-08-08  825.150024     876.500000 -51.349976 -0.882785   \n",
       "3  2018-08-09  810.150024     878.750000 -68.599976 -1.462939   \n",
       "4  2018-08-10  807.750000     865.250000 -57.500000 -1.089624   \n",
       "\n",
       "                Orders  \n",
       "0                SHORT  \n",
       "1                 FLAT  \n",
       "2  GET_OUT_OF_POSITION  \n",
       "3                 FLAT  \n",
       "4                 FLAT  "
      ]
     },
     "execution_count": 2,
     "metadata": {},
     "output_type": "execute_result"
    }
   ],
   "source": [
    "orders_df = pd.read_csv('../../Preprocess/Pair2/Pair2_orders.csv')\n",
    "orders_df.head()"
   ]
  },
  {
   "cell_type": "code",
   "execution_count": 3,
   "metadata": {},
   "outputs": [
    {
     "data": {
      "text/html": [
       "<div>\n",
       "<style scoped>\n",
       "    .dataframe tbody tr th:only-of-type {\n",
       "        vertical-align: middle;\n",
       "    }\n",
       "\n",
       "    .dataframe tbody tr th {\n",
       "        vertical-align: top;\n",
       "    }\n",
       "\n",
       "    .dataframe thead th {\n",
       "        text-align: right;\n",
       "    }\n",
       "</style>\n",
       "<table border=\"1\" class=\"dataframe\">\n",
       "  <thead>\n",
       "    <tr style=\"text-align: right;\">\n",
       "      <th></th>\n",
       "      <th>Date</th>\n",
       "      <th>BEML_Close</th>\n",
       "      <th>ESCORTS_Close</th>\n",
       "      <th>Spread</th>\n",
       "      <th>zscore</th>\n",
       "      <th>Orders</th>\n",
       "    </tr>\n",
       "  </thead>\n",
       "  <tbody>\n",
       "    <tr>\n",
       "      <th>54</th>\n",
       "      <td>2018-10-29</td>\n",
       "      <td>561.150024</td>\n",
       "      <td>591.450012</td>\n",
       "      <td>-30.299988</td>\n",
       "      <td>-0.174830</td>\n",
       "      <td>FLAT</td>\n",
       "    </tr>\n",
       "    <tr>\n",
       "      <th>55</th>\n",
       "      <td>2018-10-30</td>\n",
       "      <td>585.650024</td>\n",
       "      <td>603.950012</td>\n",
       "      <td>-18.299988</td>\n",
       "      <td>0.228756</td>\n",
       "      <td>FLAT</td>\n",
       "    </tr>\n",
       "    <tr>\n",
       "      <th>56</th>\n",
       "      <td>2018-10-31</td>\n",
       "      <td>587.250000</td>\n",
       "      <td>627.000000</td>\n",
       "      <td>-39.750000</td>\n",
       "      <td>-0.492654</td>\n",
       "      <td>FLAT</td>\n",
       "    </tr>\n",
       "    <tr>\n",
       "      <th>57</th>\n",
       "      <td>2018-11-01</td>\n",
       "      <td>632.400024</td>\n",
       "      <td>674.450012</td>\n",
       "      <td>-42.049988</td>\n",
       "      <td>-0.570007</td>\n",
       "      <td>FLAT</td>\n",
       "    </tr>\n",
       "    <tr>\n",
       "      <th>58</th>\n",
       "      <td>2018-11-02</td>\n",
       "      <td>688.900024</td>\n",
       "      <td>676.000000</td>\n",
       "      <td>12.900024</td>\n",
       "      <td>1.278078</td>\n",
       "      <td>FLAT</td>\n",
       "    </tr>\n",
       "  </tbody>\n",
       "</table>\n",
       "</div>"
      ],
      "text/plain": [
       "          Date  BEML_Close  ESCORTS_Close     Spread    zscore Orders\n",
       "54  2018-10-29  561.150024     591.450012 -30.299988 -0.174830   FLAT\n",
       "55  2018-10-30  585.650024     603.950012 -18.299988  0.228756   FLAT\n",
       "56  2018-10-31  587.250000     627.000000 -39.750000 -0.492654   FLAT\n",
       "57  2018-11-01  632.400024     674.450012 -42.049988 -0.570007   FLAT\n",
       "58  2018-11-02  688.900024     676.000000  12.900024  1.278078   FLAT"
      ]
     },
     "execution_count": 3,
     "metadata": {},
     "output_type": "execute_result"
    }
   ],
   "source": [
    "orders_df.tail()"
   ]
  },
  {
   "cell_type": "markdown",
   "metadata": {},
   "source": [
    "## 2.2. Visualize the orders"
   ]
  },
  {
   "cell_type": "code",
   "execution_count": 4,
   "metadata": {},
   "outputs": [
    {
     "data": {
      "text/plain": [
       "Text(0, 0.5, 'zscore')"
      ]
     },
     "execution_count": 4,
     "metadata": {},
     "output_type": "execute_result"
    },
    {
     "data": {
      "image/png": "[encoded data removed]",
      "text/plain": [
       "<Figure size 2160x1080 with 1 Axes>"
      ]
     },
     "metadata": {
      "needs_background": "light"
     },
     "output_type": "display_data"
    }
   ],
   "source": [
    "# Plotting the zscore of the Spread\n",
    "orders_plt = orders_df.plot(x='Date', y='zscore', figsize=(30,15))\n",
    "\n",
    "# Plotting the lines at mean, 1 and 2 std. dev.\n",
    "orders_plt.axhline(0, c='black')\n",
    "orders_plt.axhline(1, c='red', ls = \"--\")\n",
    "orders_plt.axhline(-1, c='red', ls = \"--\")\n",
    "\n",
    "# Extracting orders\n",
    "Orders = orders_df['Orders']\n",
    "\n",
    "# Plot vertical lines where orders are placed\n",
    "for order in range(len(Orders)):\n",
    "    \n",
    "    if Orders[order] != \"FLAT\":\n",
    "        \n",
    "        # GREEN line for a long position\n",
    "        if Orders[order] == \"LONG\":\n",
    "            orders_plt.axvline(x=order, c = \"green\")\n",
    "        \n",
    "        # RED line for a short position\n",
    "        elif Orders[order] == \"SHORT\":\n",
    "            orders_plt.axvline(x=order, c = \"red\")\n",
    "        \n",
    "        # BLACK line for getting out of all positions at that point\n",
    "        else:\n",
    "            orders_plt.axvline(x=order, c = \"black\")\n",
    "\n",
    "orders_plt.set_ylabel(\"zscore\")"
   ]
  },
  {
   "cell_type": "markdown",
   "metadata": {},
   "source": [
    "__In the figure above:__\n",
    "- __Blue line__ - zscore of the Spread\n",
    "- __Black horizontal line__ at 0 - Mean\n",
    "- __Red dotted horizontal lines__ - at +1 and -1 standard deviations\n",
    "- __Green vertical line__ - represents long position taken on that day\n",
    "- __Red vertical line__ - represents short position taken on that day\n",
    "- __Black vertical line__ - represents getting out of all open positions till that point\n"
   ]
  },
  {
   "cell_type": "markdown",
   "metadata": {},
   "source": [
    "## 2.3 Visualize the close prices of both stocks"
   ]
  },
  {
   "cell_type": "code",
   "execution_count": 5,
   "metadata": {},
   "outputs": [
    {
     "data": {
      "text/plain": [
       "Text(0, 0.5, 'Price')"
      ]
     },
     "execution_count": 5,
     "metadata": {},
     "output_type": "execute_result"
    },
    {
     "data": {
      "image/png": "[encoded data removed]",
      "text/plain": [
       "<Figure size 2160x1080 with 1 Axes>"
      ]
     },
     "metadata": {
      "needs_background": "light"
     },
     "output_type": "display_data"
    }
   ],
   "source": [
    "orders_df_plt = orders_df.plot(x='Date', y=['BEML_Close', 'ESCORTS_Close'], figsize=(30,15))\n",
    "orders_df_plt.set_xlabel(\"Date\")\n",
    "orders_df_plt.set_ylabel(\"Price\")"
   ]
  },
  {
   "cell_type": "markdown",
   "metadata": {},
   "source": [
    "---"
   ]
  },
  {
   "cell_type": "markdown",
   "metadata": {},
   "source": [
    "# 3. ESCORTS Linear Regression Model"
   ]
  },
  {
   "cell_type": "markdown",
   "metadata": {},
   "source": [
    "## 3.1. Get the Complete ESCORTS dataset"
   ]
  },
  {
   "cell_type": "code",
   "execution_count": 6,
   "metadata": {},
   "outputs": [
    {
     "data": {
      "text/html": [
       "<div>\n",
       "<style scoped>\n",
       "    .dataframe tbody tr th:only-of-type {\n",
       "        vertical-align: middle;\n",
       "    }\n",
       "\n",
       "    .dataframe tbody tr th {\n",
       "        vertical-align: top;\n",
       "    }\n",
       "\n",
       "    .dataframe thead th {\n",
       "        text-align: right;\n",
       "    }\n",
       "</style>\n",
       "<table border=\"1\" class=\"dataframe\">\n",
       "  <thead>\n",
       "    <tr style=\"text-align: right;\">\n",
       "      <th></th>\n",
       "      <th>Date</th>\n",
       "      <th>High</th>\n",
       "      <th>Low</th>\n",
       "      <th>Open</th>\n",
       "      <th>Close</th>\n",
       "      <th>Volume</th>\n",
       "      <th>Adj Close</th>\n",
       "      <th>Company</th>\n",
       "      <th>Exchange</th>\n",
       "    </tr>\n",
       "  </thead>\n",
       "  <tbody>\n",
       "    <tr>\n",
       "      <th>0</th>\n",
       "      <td>2017-01-02</td>\n",
       "      <td>324.000000</td>\n",
       "      <td>293.500000</td>\n",
       "      <td>298.950012</td>\n",
       "      <td>320.750000</td>\n",
       "      <td>2996742.0</td>\n",
       "      <td>317.104218</td>\n",
       "      <td>ESCORTS</td>\n",
       "      <td>NSE</td>\n",
       "    </tr>\n",
       "    <tr>\n",
       "      <th>1</th>\n",
       "      <td>2017-01-03</td>\n",
       "      <td>329.250000</td>\n",
       "      <td>318.750000</td>\n",
       "      <td>321.500000</td>\n",
       "      <td>326.649994</td>\n",
       "      <td>1859220.0</td>\n",
       "      <td>322.937164</td>\n",
       "      <td>ESCORTS</td>\n",
       "      <td>NSE</td>\n",
       "    </tr>\n",
       "    <tr>\n",
       "      <th>2</th>\n",
       "      <td>2017-01-04</td>\n",
       "      <td>329.600006</td>\n",
       "      <td>320.049988</td>\n",
       "      <td>326.700012</td>\n",
       "      <td>321.299988</td>\n",
       "      <td>696439.0</td>\n",
       "      <td>317.647980</td>\n",
       "      <td>ESCORTS</td>\n",
       "      <td>NSE</td>\n",
       "    </tr>\n",
       "    <tr>\n",
       "      <th>3</th>\n",
       "      <td>2017-01-05</td>\n",
       "      <td>333.000000</td>\n",
       "      <td>322.700012</td>\n",
       "      <td>322.700012</td>\n",
       "      <td>329.549988</td>\n",
       "      <td>1123767.0</td>\n",
       "      <td>325.804199</td>\n",
       "      <td>ESCORTS</td>\n",
       "      <td>NSE</td>\n",
       "    </tr>\n",
       "    <tr>\n",
       "      <th>4</th>\n",
       "      <td>2017-01-06</td>\n",
       "      <td>335.000000</td>\n",
       "      <td>320.000000</td>\n",
       "      <td>331.149994</td>\n",
       "      <td>328.250000</td>\n",
       "      <td>862494.0</td>\n",
       "      <td>324.518982</td>\n",
       "      <td>ESCORTS</td>\n",
       "      <td>NSE</td>\n",
       "    </tr>\n",
       "  </tbody>\n",
       "</table>\n",
       "</div>"
      ],
      "text/plain": [
       "         Date        High         Low        Open       Close     Volume  \\\n",
       "0  2017-01-02  324.000000  293.500000  298.950012  320.750000  2996742.0   \n",
       "1  2017-01-03  329.250000  318.750000  321.500000  326.649994  1859220.0   \n",
       "2  2017-01-04  329.600006  320.049988  326.700012  321.299988   696439.0   \n",
       "3  2017-01-05  333.000000  322.700012  322.700012  329.549988  1123767.0   \n",
       "4  2017-01-06  335.000000  320.000000  331.149994  328.250000   862494.0   \n",
       "\n",
       "    Adj Close  Company Exchange  \n",
       "0  317.104218  ESCORTS      NSE  \n",
       "1  322.937164  ESCORTS      NSE  \n",
       "2  317.647980  ESCORTS      NSE  \n",
       "3  325.804199  ESCORTS      NSE  \n",
       "4  324.518982  ESCORTS      NSE  "
      ]
     },
     "execution_count": 6,
     "metadata": {},
     "output_type": "execute_result"
    }
   ],
   "source": [
    "escorts_df = pd.read_csv(\"../../Storage/Companies_with_names_exchange/ESCORTSNSE.csv\")\n",
    "escorts_df.head()"
   ]
  },
  {
   "cell_type": "markdown",
   "metadata": {},
   "source": [
    "- We can see that we have data from 2017-01-02"
   ]
  },
  {
   "cell_type": "markdown",
   "metadata": {},
   "source": [
    "## 3.2. Get ESCORTS training data"
   ]
  },
  {
   "cell_type": "markdown",
   "metadata": {},
   "source": [
    "### 3.2.1 Get complete escorts dataset"
   ]
  },
  {
   "cell_type": "code",
   "execution_count": 7,
   "metadata": {},
   "outputs": [
    {
     "data": {
      "text/html": [
       "<div>\n",
       "<style scoped>\n",
       "    .dataframe tbody tr th:only-of-type {\n",
       "        vertical-align: middle;\n",
       "    }\n",
       "\n",
       "    .dataframe tbody tr th {\n",
       "        vertical-align: top;\n",
       "    }\n",
       "\n",
       "    .dataframe thead th {\n",
       "        text-align: right;\n",
       "    }\n",
       "</style>\n",
       "<table border=\"1\" class=\"dataframe\">\n",
       "  <thead>\n",
       "    <tr style=\"text-align: right;\">\n",
       "      <th></th>\n",
       "      <th>Date</th>\n",
       "      <th>Close</th>\n",
       "    </tr>\n",
       "  </thead>\n",
       "  <tbody>\n",
       "    <tr>\n",
       "      <th>0</th>\n",
       "      <td>2017-01-02</td>\n",
       "      <td>320.750000</td>\n",
       "    </tr>\n",
       "    <tr>\n",
       "      <th>1</th>\n",
       "      <td>2017-01-03</td>\n",
       "      <td>326.649994</td>\n",
       "    </tr>\n",
       "    <tr>\n",
       "      <th>2</th>\n",
       "      <td>2017-01-04</td>\n",
       "      <td>321.299988</td>\n",
       "    </tr>\n",
       "    <tr>\n",
       "      <th>3</th>\n",
       "      <td>2017-01-05</td>\n",
       "      <td>329.549988</td>\n",
       "    </tr>\n",
       "    <tr>\n",
       "      <th>4</th>\n",
       "      <td>2017-01-06</td>\n",
       "      <td>328.250000</td>\n",
       "    </tr>\n",
       "  </tbody>\n",
       "</table>\n",
       "</div>"
      ],
      "text/plain": [
       "         Date       Close\n",
       "0  2017-01-02  320.750000\n",
       "1  2017-01-03  326.649994\n",
       "2  2017-01-04  321.299988\n",
       "3  2017-01-05  329.549988\n",
       "4  2017-01-06  328.250000"
      ]
     },
     "execution_count": 7,
     "metadata": {},
     "output_type": "execute_result"
    }
   ],
   "source": [
    "escorts_df = escorts_df.drop(columns=['High', 'Low', 'Open', 'Volume', 'Adj Close', 'Company', 'Exchange'])\n",
    "escorts_df.head()"
   ]
  },
  {
   "cell_type": "markdown",
   "metadata": {},
   "source": [
    "- We can see that the period where the stocks are correlated and co-integration starts from 2018-09-04.\n",
    "- Thus the test data for which we need to make predictions is from 2018-09-04 to when the period ends at 2018-12-03.\n",
    "- We take 1 year's worth of training data for our model, which means that the time period of our training data is from 2017-09-03 to 2018-09-04.\n"
   ]
  },
  {
   "cell_type": "markdown",
   "metadata": {},
   "source": [
    "### 3.2.2. Crop dataset within training range"
   ]
  },
  {
   "cell_type": "code",
   "execution_count": 8,
   "metadata": {},
   "outputs": [
    {
     "data": {
      "text/html": [
       "<div>\n",
       "<style scoped>\n",
       "    .dataframe tbody tr th:only-of-type {\n",
       "        vertical-align: middle;\n",
       "    }\n",
       "\n",
       "    .dataframe tbody tr th {\n",
       "        vertical-align: top;\n",
       "    }\n",
       "\n",
       "    .dataframe thead th {\n",
       "        text-align: right;\n",
       "    }\n",
       "</style>\n",
       "<table border=\"1\" class=\"dataframe\">\n",
       "  <thead>\n",
       "    <tr style=\"text-align: right;\">\n",
       "      <th></th>\n",
       "      <th>Date</th>\n",
       "      <th>Close</th>\n",
       "    </tr>\n",
       "  </thead>\n",
       "  <tbody>\n",
       "    <tr>\n",
       "      <th>166</th>\n",
       "      <td>2017-09-04</td>\n",
       "      <td>645.750000</td>\n",
       "    </tr>\n",
       "    <tr>\n",
       "      <th>167</th>\n",
       "      <td>2017-09-05</td>\n",
       "      <td>650.299988</td>\n",
       "    </tr>\n",
       "    <tr>\n",
       "      <th>168</th>\n",
       "      <td>2017-09-06</td>\n",
       "      <td>651.250000</td>\n",
       "    </tr>\n",
       "    <tr>\n",
       "      <th>169</th>\n",
       "      <td>2017-09-07</td>\n",
       "      <td>657.750000</td>\n",
       "    </tr>\n",
       "    <tr>\n",
       "      <th>170</th>\n",
       "      <td>2017-09-08</td>\n",
       "      <td>652.950012</td>\n",
       "    </tr>\n",
       "  </tbody>\n",
       "</table>\n",
       "</div>"
      ],
      "text/plain": [
       "           Date       Close\n",
       "166  2017-09-04  645.750000\n",
       "167  2017-09-05  650.299988\n",
       "168  2017-09-06  651.250000\n",
       "169  2017-09-07  657.750000\n",
       "170  2017-09-08  652.950012"
      ]
     },
     "execution_count": 8,
     "metadata": {},
     "output_type": "execute_result"
    }
   ],
   "source": [
    "escorts_df_train = escorts_df[escorts_df['Date'] >= '2017-09-03']\n",
    "escorts_df_train.head()"
   ]
  },
  {
   "cell_type": "code",
   "execution_count": 9,
   "metadata": {},
   "outputs": [
    {
     "data": {
      "text/html": [
       "<div>\n",
       "<style scoped>\n",
       "    .dataframe tbody tr th:only-of-type {\n",
       "        vertical-align: middle;\n",
       "    }\n",
       "\n",
       "    .dataframe tbody tr th {\n",
       "        vertical-align: top;\n",
       "    }\n",
       "\n",
       "    .dataframe thead th {\n",
       "        text-align: right;\n",
       "    }\n",
       "</style>\n",
       "<table border=\"1\" class=\"dataframe\">\n",
       "  <thead>\n",
       "    <tr style=\"text-align: right;\">\n",
       "      <th></th>\n",
       "      <th>Date</th>\n",
       "      <th>Close</th>\n",
       "    </tr>\n",
       "  </thead>\n",
       "  <tbody>\n",
       "    <tr>\n",
       "      <th>412</th>\n",
       "      <td>2018-08-29</td>\n",
       "      <td>894.799988</td>\n",
       "    </tr>\n",
       "    <tr>\n",
       "      <th>413</th>\n",
       "      <td>2018-08-30</td>\n",
       "      <td>879.150024</td>\n",
       "    </tr>\n",
       "    <tr>\n",
       "      <th>414</th>\n",
       "      <td>2018-08-31</td>\n",
       "      <td>869.750000</td>\n",
       "    </tr>\n",
       "    <tr>\n",
       "      <th>415</th>\n",
       "      <td>2018-09-03</td>\n",
       "      <td>831.950012</td>\n",
       "    </tr>\n",
       "    <tr>\n",
       "      <th>416</th>\n",
       "      <td>2018-09-04</td>\n",
       "      <td>805.150024</td>\n",
       "    </tr>\n",
       "  </tbody>\n",
       "</table>\n",
       "</div>"
      ],
      "text/plain": [
       "           Date       Close\n",
       "412  2018-08-29  894.799988\n",
       "413  2018-08-30  879.150024\n",
       "414  2018-08-31  869.750000\n",
       "415  2018-09-03  831.950012\n",
       "416  2018-09-04  805.150024"
      ]
     },
     "execution_count": 9,
     "metadata": {},
     "output_type": "execute_result"
    }
   ],
   "source": [
    "escorts_df_train = escorts_df_train[escorts_df_train['Date'] <= '2018-09-04']\n",
    "escorts_df_train.tail()"
   ]
  },
  {
   "cell_type": "markdown",
   "metadata": {},
   "source": [
    "### 3.2.3 Get the training data and labels"
   ]
  },
  {
   "cell_type": "code",
   "execution_count": 10,
   "metadata": {},
   "outputs": [
    {
     "data": {
      "text/html": [
       "<div>\n",
       "<style scoped>\n",
       "    .dataframe tbody tr th:only-of-type {\n",
       "        vertical-align: middle;\n",
       "    }\n",
       "\n",
       "    .dataframe tbody tr th {\n",
       "        vertical-align: top;\n",
       "    }\n",
       "\n",
       "    .dataframe thead th {\n",
       "        text-align: right;\n",
       "    }\n",
       "</style>\n",
       "<table border=\"1\" class=\"dataframe\">\n",
       "  <thead>\n",
       "    <tr style=\"text-align: right;\">\n",
       "      <th></th>\n",
       "      <th>Date</th>\n",
       "      <th>Close</th>\n",
       "    </tr>\n",
       "  </thead>\n",
       "  <tbody>\n",
       "    <tr>\n",
       "      <th>166</th>\n",
       "      <td>2017-09-04</td>\n",
       "      <td>645.750000</td>\n",
       "    </tr>\n",
       "    <tr>\n",
       "      <th>167</th>\n",
       "      <td>2017-09-05</td>\n",
       "      <td>650.299988</td>\n",
       "    </tr>\n",
       "    <tr>\n",
       "      <th>168</th>\n",
       "      <td>2017-09-06</td>\n",
       "      <td>651.250000</td>\n",
       "    </tr>\n",
       "    <tr>\n",
       "      <th>169</th>\n",
       "      <td>2017-09-07</td>\n",
       "      <td>657.750000</td>\n",
       "    </tr>\n",
       "    <tr>\n",
       "      <th>170</th>\n",
       "      <td>2017-09-08</td>\n",
       "      <td>652.950012</td>\n",
       "    </tr>\n",
       "    <tr>\n",
       "      <th>...</th>\n",
       "      <td>...</td>\n",
       "      <td>...</td>\n",
       "    </tr>\n",
       "    <tr>\n",
       "      <th>412</th>\n",
       "      <td>2018-08-29</td>\n",
       "      <td>894.799988</td>\n",
       "    </tr>\n",
       "    <tr>\n",
       "      <th>413</th>\n",
       "      <td>2018-08-30</td>\n",
       "      <td>879.150024</td>\n",
       "    </tr>\n",
       "    <tr>\n",
       "      <th>414</th>\n",
       "      <td>2018-08-31</td>\n",
       "      <td>869.750000</td>\n",
       "    </tr>\n",
       "    <tr>\n",
       "      <th>415</th>\n",
       "      <td>2018-09-03</td>\n",
       "      <td>831.950012</td>\n",
       "    </tr>\n",
       "    <tr>\n",
       "      <th>416</th>\n",
       "      <td>2018-09-04</td>\n",
       "      <td>805.150024</td>\n",
       "    </tr>\n",
       "  </tbody>\n",
       "</table>\n",
       "<p>251 rows × 2 columns</p>\n",
       "</div>"
      ],
      "text/plain": [
       "           Date       Close\n",
       "166  2017-09-04  645.750000\n",
       "167  2017-09-05  650.299988\n",
       "168  2017-09-06  651.250000\n",
       "169  2017-09-07  657.750000\n",
       "170  2017-09-08  652.950012\n",
       "..          ...         ...\n",
       "412  2018-08-29  894.799988\n",
       "413  2018-08-30  879.150024\n",
       "414  2018-08-31  869.750000\n",
       "415  2018-09-03  831.950012\n",
       "416  2018-09-04  805.150024\n",
       "\n",
       "[251 rows x 2 columns]"
      ]
     },
     "execution_count": 10,
     "metadata": {},
     "output_type": "execute_result"
    }
   ],
   "source": [
    "escorts_train = escorts_df_train.copy()\n",
    "escorts_train"
   ]
  },
  {
   "cell_type": "code",
   "execution_count": 11,
   "metadata": {},
   "outputs": [
    {
     "data": {
      "text/plain": [
       "0      645.750000\n",
       "1      650.299988\n",
       "2      651.250000\n",
       "3      657.750000\n",
       "4      652.950012\n",
       "          ...    \n",
       "246    894.799988\n",
       "247    879.150024\n",
       "248    869.750000\n",
       "249    831.950012\n",
       "250    805.150024\n",
       "Name: Close, Length: 251, dtype: float64"
      ]
     },
     "execution_count": 11,
     "metadata": {},
     "output_type": "execute_result"
    }
   ],
   "source": [
    "escorts_train = escorts_train.reset_index(drop=True)\n",
    "escorts_train = escorts_train['Close']\n",
    "escorts_train"
   ]
  },
  {
   "cell_type": "code",
   "execution_count": 12,
   "metadata": {},
   "outputs": [
    {
     "data": {
      "text/plain": [
       "251"
      ]
     },
     "execution_count": 12,
     "metadata": {},
     "output_type": "execute_result"
    }
   ],
   "source": [
    "len(escorts_train)"
   ]
  },
  {
   "cell_type": "markdown",
   "metadata": {},
   "source": [
    "## 3.3. Get ESCORTS Test Data"
   ]
  },
  {
   "cell_type": "code",
   "execution_count": 13,
   "metadata": {},
   "outputs": [
    {
     "data": {
      "text/html": [
       "<div>\n",
       "<style scoped>\n",
       "    .dataframe tbody tr th:only-of-type {\n",
       "        vertical-align: middle;\n",
       "    }\n",
       "\n",
       "    .dataframe tbody tr th {\n",
       "        vertical-align: top;\n",
       "    }\n",
       "\n",
       "    .dataframe thead th {\n",
       "        text-align: right;\n",
       "    }\n",
       "</style>\n",
       "<table border=\"1\" class=\"dataframe\">\n",
       "  <thead>\n",
       "    <tr style=\"text-align: right;\">\n",
       "      <th></th>\n",
       "      <th>Date</th>\n",
       "      <th>Close</th>\n",
       "    </tr>\n",
       "  </thead>\n",
       "  <tbody>\n",
       "    <tr>\n",
       "      <th>416</th>\n",
       "      <td>2018-09-04</td>\n",
       "      <td>805.150024</td>\n",
       "    </tr>\n",
       "    <tr>\n",
       "      <th>417</th>\n",
       "      <td>2018-09-05</td>\n",
       "      <td>792.750000</td>\n",
       "    </tr>\n",
       "    <tr>\n",
       "      <th>418</th>\n",
       "      <td>2018-09-06</td>\n",
       "      <td>788.500000</td>\n",
       "    </tr>\n",
       "    <tr>\n",
       "      <th>419</th>\n",
       "      <td>2018-09-07</td>\n",
       "      <td>797.299988</td>\n",
       "    </tr>\n",
       "    <tr>\n",
       "      <th>420</th>\n",
       "      <td>2018-09-10</td>\n",
       "      <td>773.000000</td>\n",
       "    </tr>\n",
       "  </tbody>\n",
       "</table>\n",
       "</div>"
      ],
      "text/plain": [
       "           Date       Close\n",
       "416  2018-09-04  805.150024\n",
       "417  2018-09-05  792.750000\n",
       "418  2018-09-06  788.500000\n",
       "419  2018-09-07  797.299988\n",
       "420  2018-09-10  773.000000"
      ]
     },
     "execution_count": 13,
     "metadata": {},
     "output_type": "execute_result"
    }
   ],
   "source": [
    "escorts_test_df = orders_df.copy()\n",
    "escorts_test_df = escorts_df[(escorts_df['Date'] >= '2018-09-04') & (escorts_df['Date'] <= '2018-12-03')].copy()\n",
    "escorts_test_df.head()"
   ]
  },
  {
   "cell_type": "code",
   "execution_count": 14,
   "metadata": {},
   "outputs": [
    {
     "data": {
      "text/html": [
       "<div>\n",
       "<style scoped>\n",
       "    .dataframe tbody tr th:only-of-type {\n",
       "        vertical-align: middle;\n",
       "    }\n",
       "\n",
       "    .dataframe tbody tr th {\n",
       "        vertical-align: top;\n",
       "    }\n",
       "\n",
       "    .dataframe thead th {\n",
       "        text-align: right;\n",
       "    }\n",
       "</style>\n",
       "<table border=\"1\" class=\"dataframe\">\n",
       "  <thead>\n",
       "    <tr style=\"text-align: right;\">\n",
       "      <th></th>\n",
       "      <th>Date</th>\n",
       "      <th>Close</th>\n",
       "    </tr>\n",
       "  </thead>\n",
       "  <tbody>\n",
       "    <tr>\n",
       "      <th>470</th>\n",
       "      <td>2018-11-27</td>\n",
       "      <td>689.349976</td>\n",
       "    </tr>\n",
       "    <tr>\n",
       "      <th>471</th>\n",
       "      <td>2018-11-28</td>\n",
       "      <td>682.000000</td>\n",
       "    </tr>\n",
       "    <tr>\n",
       "      <th>472</th>\n",
       "      <td>2018-11-29</td>\n",
       "      <td>694.549988</td>\n",
       "    </tr>\n",
       "    <tr>\n",
       "      <th>473</th>\n",
       "      <td>2018-11-30</td>\n",
       "      <td>704.700012</td>\n",
       "    </tr>\n",
       "    <tr>\n",
       "      <th>474</th>\n",
       "      <td>2018-12-03</td>\n",
       "      <td>707.150024</td>\n",
       "    </tr>\n",
       "  </tbody>\n",
       "</table>\n",
       "</div>"
      ],
      "text/plain": [
       "           Date       Close\n",
       "470  2018-11-27  689.349976\n",
       "471  2018-11-28  682.000000\n",
       "472  2018-11-29  694.549988\n",
       "473  2018-11-30  704.700012\n",
       "474  2018-12-03  707.150024"
      ]
     },
     "execution_count": 14,
     "metadata": {},
     "output_type": "execute_result"
    }
   ],
   "source": [
    "escorts_test_df.tail()"
   ]
  },
  {
   "cell_type": "code",
   "execution_count": 15,
   "metadata": {},
   "outputs": [
    {
     "data": {
      "text/html": [
       "<div>\n",
       "<style scoped>\n",
       "    .dataframe tbody tr th:only-of-type {\n",
       "        vertical-align: middle;\n",
       "    }\n",
       "\n",
       "    .dataframe tbody tr th {\n",
       "        vertical-align: top;\n",
       "    }\n",
       "\n",
       "    .dataframe thead th {\n",
       "        text-align: right;\n",
       "    }\n",
       "</style>\n",
       "<table border=\"1\" class=\"dataframe\">\n",
       "  <thead>\n",
       "    <tr style=\"text-align: right;\">\n",
       "      <th></th>\n",
       "      <th>Date</th>\n",
       "      <th>Close</th>\n",
       "    </tr>\n",
       "  </thead>\n",
       "  <tbody>\n",
       "    <tr>\n",
       "      <th>251</th>\n",
       "      <td>2018-09-04</td>\n",
       "      <td>805.150024</td>\n",
       "    </tr>\n",
       "    <tr>\n",
       "      <th>252</th>\n",
       "      <td>2018-09-05</td>\n",
       "      <td>792.750000</td>\n",
       "    </tr>\n",
       "    <tr>\n",
       "      <th>253</th>\n",
       "      <td>2018-09-06</td>\n",
       "      <td>788.500000</td>\n",
       "    </tr>\n",
       "    <tr>\n",
       "      <th>254</th>\n",
       "      <td>2018-09-07</td>\n",
       "      <td>797.299988</td>\n",
       "    </tr>\n",
       "    <tr>\n",
       "      <th>255</th>\n",
       "      <td>2018-09-10</td>\n",
       "      <td>773.000000</td>\n",
       "    </tr>\n",
       "  </tbody>\n",
       "</table>\n",
       "</div>"
      ],
      "text/plain": [
       "           Date       Close\n",
       "251  2018-09-04  805.150024\n",
       "252  2018-09-05  792.750000\n",
       "253  2018-09-06  788.500000\n",
       "254  2018-09-07  797.299988\n",
       "255  2018-09-10  773.000000"
      ]
     },
     "execution_count": 15,
     "metadata": {},
     "output_type": "execute_result"
    }
   ],
   "source": [
    "escorts_test = escorts_test_df.copy()\n",
    "escorts_test.reset_index(drop=True, inplace=True)\n",
    "escorts_test.index += 251\n",
    "escorts_test.head()"
   ]
  },
  {
   "cell_type": "code",
   "execution_count": 16,
   "metadata": {},
   "outputs": [
    {
     "data": {
      "text/html": [
       "<div>\n",
       "<style scoped>\n",
       "    .dataframe tbody tr th:only-of-type {\n",
       "        vertical-align: middle;\n",
       "    }\n",
       "\n",
       "    .dataframe tbody tr th {\n",
       "        vertical-align: top;\n",
       "    }\n",
       "\n",
       "    .dataframe thead th {\n",
       "        text-align: right;\n",
       "    }\n",
       "</style>\n",
       "<table border=\"1\" class=\"dataframe\">\n",
       "  <thead>\n",
       "    <tr style=\"text-align: right;\">\n",
       "      <th></th>\n",
       "      <th>Date</th>\n",
       "      <th>Close</th>\n",
       "    </tr>\n",
       "  </thead>\n",
       "  <tbody>\n",
       "    <tr>\n",
       "      <th>305</th>\n",
       "      <td>2018-11-27</td>\n",
       "      <td>689.349976</td>\n",
       "    </tr>\n",
       "    <tr>\n",
       "      <th>306</th>\n",
       "      <td>2018-11-28</td>\n",
       "      <td>682.000000</td>\n",
       "    </tr>\n",
       "    <tr>\n",
       "      <th>307</th>\n",
       "      <td>2018-11-29</td>\n",
       "      <td>694.549988</td>\n",
       "    </tr>\n",
       "    <tr>\n",
       "      <th>308</th>\n",
       "      <td>2018-11-30</td>\n",
       "      <td>704.700012</td>\n",
       "    </tr>\n",
       "    <tr>\n",
       "      <th>309</th>\n",
       "      <td>2018-12-03</td>\n",
       "      <td>707.150024</td>\n",
       "    </tr>\n",
       "  </tbody>\n",
       "</table>\n",
       "</div>"
      ],
      "text/plain": [
       "           Date       Close\n",
       "305  2018-11-27  689.349976\n",
       "306  2018-11-28  682.000000\n",
       "307  2018-11-29  694.549988\n",
       "308  2018-11-30  704.700012\n",
       "309  2018-12-03  707.150024"
      ]
     },
     "execution_count": 16,
     "metadata": {},
     "output_type": "execute_result"
    }
   ],
   "source": [
    "escorts_test.tail()"
   ]
  },
  {
   "cell_type": "code",
   "execution_count": 17,
   "metadata": {},
   "outputs": [],
   "source": [
    "escorts_test = escorts_test['Close']"
   ]
  },
  {
   "cell_type": "code",
   "execution_count": 18,
   "metadata": {},
   "outputs": [
    {
     "data": {
      "text/plain": [
       "59"
      ]
     },
     "execution_count": 18,
     "metadata": {},
     "output_type": "execute_result"
    }
   ],
   "source": [
    "len(escorts_test)"
   ]
  },
  {
   "cell_type": "markdown",
   "metadata": {},
   "source": [
    "## 3.4 Create and Train ESCORTS Model"
   ]
  },
  {
   "cell_type": "code",
   "execution_count": 19,
   "metadata": {},
   "outputs": [
    {
     "name": "stdout",
     "output_type": "stream",
     "text": [
      "Performing stepwise search to minimize aic\n",
      " ARIMA(1,1,1)(0,1,1)[12]             : AIC=inf, Time=2.37 sec\n",
      " ARIMA(0,1,0)(0,1,0)[12]             : AIC=2172.835, Time=0.05 sec\n",
      " ARIMA(1,1,0)(1,1,0)[12]             : AIC=2128.898, Time=0.44 sec\n",
      " ARIMA(0,1,1)(0,1,1)[12]             : AIC=inf, Time=1.33 sec\n",
      " ARIMA(1,1,0)(0,1,0)[12]             : AIC=2174.766, Time=0.11 sec\n",
      " ARIMA(1,1,0)(2,1,0)[12]             : AIC=2108.619, Time=1.35 sec\n",
      " ARIMA(1,1,0)(2,1,1)[12]             : AIC=inf, Time=10.16 sec\n",
      " ARIMA(1,1,0)(1,1,1)[12]             : AIC=inf, Time=3.26 sec\n",
      " ARIMA(0,1,0)(2,1,0)[12]             : AIC=2106.625, Time=0.90 sec\n",
      " ARIMA(0,1,0)(1,1,0)[12]             : AIC=2126.898, Time=0.33 sec\n",
      " ARIMA(0,1,0)(2,1,1)[12]             : AIC=inf, Time=7.45 sec\n",
      " ARIMA(0,1,0)(1,1,1)[12]             : AIC=inf, Time=2.32 sec\n",
      " ARIMA(0,1,1)(2,1,0)[12]             : AIC=2108.618, Time=1.36 sec\n",
      " ARIMA(1,1,1)(2,1,0)[12]             : AIC=2109.514, Time=3.65 sec\n",
      " ARIMA(0,1,0)(2,1,0)[12] intercept   : AIC=2108.429, Time=4.34 sec\n",
      "\n",
      "Best model:  ARIMA(0,1,0)(2,1,0)[12]          \n",
      "Total fit time: 39.435 seconds\n"
     ]
    },
    {
     "data": {
      "text/plain": [
       "ARIMA(order=(0, 1, 0), scoring_args={}, seasonal_order=(2, 1, 0, 12),\n",
       "      suppress_warnings=True, with_intercept=False)"
      ]
     },
     "execution_count": 19,
     "metadata": {},
     "output_type": "execute_result"
    }
   ],
   "source": [
    "model = auto_arima(escorts_train, start_p=1, start_q=1,max_p=3, max_q=3, m=12,start_P=0, seasonal=True,d=1, D=1, trace=True, error_action='ignore', suppress_warnings=True)\n",
    "model.fit(escorts_train)"
   ]
  },
  {
   "cell_type": "markdown",
   "metadata": {},
   "source": [
    "## 3.5. Get predictions"
   ]
  },
  {
   "cell_type": "code",
   "execution_count": 20,
   "metadata": {},
   "outputs": [
    {
     "data": {
      "text/html": [
       "<div>\n",
       "<style scoped>\n",
       "    .dataframe tbody tr th:only-of-type {\n",
       "        vertical-align: middle;\n",
       "    }\n",
       "\n",
       "    .dataframe tbody tr th {\n",
       "        vertical-align: top;\n",
       "    }\n",
       "\n",
       "    .dataframe thead th {\n",
       "        text-align: right;\n",
       "    }\n",
       "</style>\n",
       "<table border=\"1\" class=\"dataframe\">\n",
       "  <thead>\n",
       "    <tr style=\"text-align: right;\">\n",
       "      <th></th>\n",
       "      <th>Prediction</th>\n",
       "    </tr>\n",
       "  </thead>\n",
       "  <tbody>\n",
       "    <tr>\n",
       "      <th>251</th>\n",
       "      <td>814.415519</td>\n",
       "    </tr>\n",
       "    <tr>\n",
       "      <th>252</th>\n",
       "      <td>807.619558</td>\n",
       "    </tr>\n",
       "    <tr>\n",
       "      <th>253</th>\n",
       "      <td>816.193006</td>\n",
       "    </tr>\n",
       "    <tr>\n",
       "      <th>254</th>\n",
       "      <td>799.530341</td>\n",
       "    </tr>\n",
       "    <tr>\n",
       "      <th>255</th>\n",
       "      <td>790.553107</td>\n",
       "    </tr>\n",
       "    <tr>\n",
       "      <th>256</th>\n",
       "      <td>789.476776</td>\n",
       "    </tr>\n",
       "    <tr>\n",
       "      <th>257</th>\n",
       "      <td>795.684769</td>\n",
       "    </tr>\n",
       "    <tr>\n",
       "      <th>258</th>\n",
       "      <td>800.431765</td>\n",
       "    </tr>\n",
       "    <tr>\n",
       "      <th>259</th>\n",
       "      <td>794.861088</td>\n",
       "    </tr>\n",
       "    <tr>\n",
       "      <th>260</th>\n",
       "      <td>789.315227</td>\n",
       "    </tr>\n",
       "    <tr>\n",
       "      <th>261</th>\n",
       "      <td>788.404502</td>\n",
       "    </tr>\n",
       "    <tr>\n",
       "      <th>262</th>\n",
       "      <td>771.156251</td>\n",
       "    </tr>\n",
       "    <tr>\n",
       "      <th>263</th>\n",
       "      <td>781.207008</td>\n",
       "    </tr>\n",
       "    <tr>\n",
       "      <th>264</th>\n",
       "      <td>777.475221</td>\n",
       "    </tr>\n",
       "    <tr>\n",
       "      <th>265</th>\n",
       "      <td>782.814349</td>\n",
       "    </tr>\n",
       "    <tr>\n",
       "      <th>266</th>\n",
       "      <td>770.705325</td>\n",
       "    </tr>\n",
       "    <tr>\n",
       "      <th>267</th>\n",
       "      <td>762.385438</td>\n",
       "    </tr>\n",
       "    <tr>\n",
       "      <th>268</th>\n",
       "      <td>759.164648</td>\n",
       "    </tr>\n",
       "    <tr>\n",
       "      <th>269</th>\n",
       "      <td>764.475555</td>\n",
       "    </tr>\n",
       "    <tr>\n",
       "      <th>270</th>\n",
       "      <td>767.034086</td>\n",
       "    </tr>\n",
       "    <tr>\n",
       "      <th>271</th>\n",
       "      <td>756.326681</td>\n",
       "    </tr>\n",
       "    <tr>\n",
       "      <th>272</th>\n",
       "      <td>748.702753</td>\n",
       "    </tr>\n",
       "    <tr>\n",
       "      <th>273</th>\n",
       "      <td>744.117851</td>\n",
       "    </tr>\n",
       "    <tr>\n",
       "      <th>274</th>\n",
       "      <td>727.651195</td>\n",
       "    </tr>\n",
       "    <tr>\n",
       "      <th>275</th>\n",
       "      <td>734.354097</td>\n",
       "    </tr>\n",
       "    <tr>\n",
       "      <th>276</th>\n",
       "      <td>737.641559</td>\n",
       "    </tr>\n",
       "    <tr>\n",
       "      <th>277</th>\n",
       "      <td>744.771724</td>\n",
       "    </tr>\n",
       "    <tr>\n",
       "      <th>278</th>\n",
       "      <td>731.165560</td>\n",
       "    </tr>\n",
       "    <tr>\n",
       "      <th>279</th>\n",
       "      <td>726.775348</td>\n",
       "    </tr>\n",
       "    <tr>\n",
       "      <th>280</th>\n",
       "      <td>724.183464</td>\n",
       "    </tr>\n",
       "    <tr>\n",
       "      <th>281</th>\n",
       "      <td>730.175960</td>\n",
       "    </tr>\n",
       "    <tr>\n",
       "      <th>282</th>\n",
       "      <td>732.371790</td>\n",
       "    </tr>\n",
       "    <tr>\n",
       "      <th>283</th>\n",
       "      <td>721.533284</td>\n",
       "    </tr>\n",
       "    <tr>\n",
       "      <th>284</th>\n",
       "      <td>713.924685</td>\n",
       "    </tr>\n",
       "    <tr>\n",
       "      <th>285</th>\n",
       "      <td>700.164118</td>\n",
       "    </tr>\n",
       "    <tr>\n",
       "      <th>286</th>\n",
       "      <td>680.325330</td>\n",
       "    </tr>\n",
       "    <tr>\n",
       "      <th>287</th>\n",
       "      <td>688.712636</td>\n",
       "    </tr>\n",
       "    <tr>\n",
       "      <th>288</th>\n",
       "      <td>687.027089</td>\n",
       "    </tr>\n",
       "    <tr>\n",
       "      <th>289</th>\n",
       "      <td>694.117270</td>\n",
       "    </tr>\n",
       "    <tr>\n",
       "      <th>290</th>\n",
       "      <td>679.978421</td>\n",
       "    </tr>\n",
       "    <tr>\n",
       "      <th>291</th>\n",
       "      <td>673.127884</td>\n",
       "    </tr>\n",
       "    <tr>\n",
       "      <th>292</th>\n",
       "      <td>670.830635</td>\n",
       "    </tr>\n",
       "    <tr>\n",
       "      <th>293</th>\n",
       "      <td>676.705788</td>\n",
       "    </tr>\n",
       "    <tr>\n",
       "      <th>294</th>\n",
       "      <td>679.779797</td>\n",
       "    </tr>\n",
       "    <tr>\n",
       "      <th>295</th>\n",
       "      <td>670.588479</td>\n",
       "    </tr>\n",
       "    <tr>\n",
       "      <th>296</th>\n",
       "      <td>663.606947</td>\n",
       "    </tr>\n",
       "    <tr>\n",
       "      <th>297</th>\n",
       "      <td>656.245776</td>\n",
       "    </tr>\n",
       "    <tr>\n",
       "      <th>298</th>\n",
       "      <td>638.106470</td>\n",
       "    </tr>\n",
       "    <tr>\n",
       "      <th>299</th>\n",
       "      <td>646.549838</td>\n",
       "    </tr>\n",
       "    <tr>\n",
       "      <th>300</th>\n",
       "      <td>645.575426</td>\n",
       "    </tr>\n",
       "    <tr>\n",
       "      <th>301</th>\n",
       "      <td>652.140544</td>\n",
       "    </tr>\n",
       "    <tr>\n",
       "      <th>302</th>\n",
       "      <td>638.766056</td>\n",
       "    </tr>\n",
       "    <tr>\n",
       "      <th>303</th>\n",
       "      <td>632.127502</td>\n",
       "    </tr>\n",
       "    <tr>\n",
       "      <th>304</th>\n",
       "      <td>629.468424</td>\n",
       "    </tr>\n",
       "    <tr>\n",
       "      <th>305</th>\n",
       "      <td>635.202474</td>\n",
       "    </tr>\n",
       "    <tr>\n",
       "      <th>306</th>\n",
       "      <td>637.882601</td>\n",
       "    </tr>\n",
       "    <tr>\n",
       "      <th>307</th>\n",
       "      <td>627.784426</td>\n",
       "    </tr>\n",
       "    <tr>\n",
       "      <th>308</th>\n",
       "      <td>620.437701</td>\n",
       "    </tr>\n",
       "    <tr>\n",
       "      <th>309</th>\n",
       "      <td>612.205215</td>\n",
       "    </tr>\n",
       "  </tbody>\n",
       "</table>\n",
       "</div>"
      ],
      "text/plain": [
       "     Prediction\n",
       "251  814.415519\n",
       "252  807.619558\n",
       "253  816.193006\n",
       "254  799.530341\n",
       "255  790.553107\n",
       "256  789.476776\n",
       "257  795.684769\n",
       "258  800.431765\n",
       "259  794.861088\n",
       "260  789.315227\n",
       "261  788.404502\n",
       "262  771.156251\n",
       "263  781.207008\n",
       "264  777.475221\n",
       "265  782.814349\n",
       "266  770.705325\n",
       "267  762.385438\n",
       "268  759.164648\n",
       "269  764.475555\n",
       "270  767.034086\n",
       "271  756.326681\n",
       "272  748.702753\n",
       "273  744.117851\n",
       "274  727.651195\n",
       "275  734.354097\n",
       "276  737.641559\n",
       "277  744.771724\n",
       "278  731.165560\n",
       "279  726.775348\n",
       "280  724.183464\n",
       "281  730.175960\n",
       "282  732.371790\n",
       "283  721.533284\n",
       "284  713.924685\n",
       "285  700.164118\n",
       "286  680.325330\n",
       "287  688.712636\n",
       "288  687.027089\n",
       "289  694.117270\n",
       "290  679.978421\n",
       "291  673.127884\n",
       "292  670.830635\n",
       "293  676.705788\n",
       "294  679.779797\n",
       "295  670.588479\n",
       "296  663.606947\n",
       "297  656.245776\n",
       "298  638.106470\n",
       "299  646.549838\n",
       "300  645.575426\n",
       "301  652.140544\n",
       "302  638.766056\n",
       "303  632.127502\n",
       "304  629.468424\n",
       "305  635.202474\n",
       "306  637.882601\n",
       "307  627.784426\n",
       "308  620.437701\n",
       "309  612.205215"
      ]
     },
     "execution_count": 20,
     "metadata": {},
     "output_type": "execute_result"
    }
   ],
   "source": [
    "forecast = model.predict(n_periods=len(escorts_test))\n",
    "forecast = pd.DataFrame(forecast, index = escorts_test.index, columns=['Prediction'])\n",
    "forecast"
   ]
  },
  {
   "cell_type": "code",
   "execution_count": 21,
   "metadata": {},
   "outputs": [
    {
     "name": "stdout",
     "output_type": "stream",
     "text": [
      "Mean Absolute Error: 74.3617453715735\n",
      "Mean Squared Error: 9035.193724722436\n",
      "Root Mean Squared Error: 95.0536360415657\n"
     ]
    }
   ],
   "source": [
    "predictions = forecast['Prediction']\n",
    "print('Mean Absolute Error:', metrics.mean_absolute_error(escorts_test, predictions))\n",
    "print('Mean Squared Error:', metrics.mean_squared_error(escorts_test, predictions))\n",
    "print('Root Mean Squared Error:', np.sqrt(metrics.mean_squared_error(escorts_test, predictions)))"
   ]
  },
  {
   "cell_type": "markdown",
   "metadata": {},
   "source": [
    "## 3.6. Visualize the predicitons vs test data"
   ]
  },
  {
   "cell_type": "code",
   "execution_count": 22,
   "metadata": {},
   "outputs": [
    {
     "data": {
      "text/plain": [
       "[<matplotlib.lines.Line2D at 0x7f05a57eef28>]"
      ]
     },
     "execution_count": 22,
     "metadata": {},
     "output_type": "execute_result"
    },
    {
     "data": {
      "image/png": "[encoded data removed]",
      "text/plain": [
       "<Figure size 2160x1080 with 1 Axes>"
      ]
     },
     "metadata": {
      "needs_background": "light"
     },
     "output_type": "display_data"
    }
   ],
   "source": [
    "escorts_model_plt = forecast.plot(y=['Prediction'], figsize=(30,15), c='green')\n",
    "escorts_model_plt.plot(escorts_train, c='blue')\n",
    "escorts_model_plt.plot(escorts_test, c='orange')"
   ]
  },
  {
   "cell_type": "markdown",
   "metadata": {},
   "source": [
    "__In the graph above:__\n",
    "- We can see the training data in blue\n",
    "- The test data in orange\n",
    "- The predictions made by the models in green"
   ]
  },
  {
   "cell_type": "markdown",
   "metadata": {},
   "source": [
    "# 4. Put the results in a file"
   ]
  },
  {
   "cell_type": "code",
   "execution_count": 23,
   "metadata": {},
   "outputs": [
    {
     "data": {
      "text/html": [
       "<div>\n",
       "<style scoped>\n",
       "    .dataframe tbody tr th:only-of-type {\n",
       "        vertical-align: middle;\n",
       "    }\n",
       "\n",
       "    .dataframe tbody tr th {\n",
       "        vertical-align: top;\n",
       "    }\n",
       "\n",
       "    .dataframe thead th {\n",
       "        text-align: right;\n",
       "    }\n",
       "</style>\n",
       "<table border=\"1\" class=\"dataframe\">\n",
       "  <thead>\n",
       "    <tr style=\"text-align: right;\">\n",
       "      <th></th>\n",
       "      <th>Date</th>\n",
       "      <th>Actual_Close</th>\n",
       "      <th>Linear_regression_Close</th>\n",
       "    </tr>\n",
       "  </thead>\n",
       "  <tbody>\n",
       "    <tr>\n",
       "      <th>0</th>\n",
       "      <td>2018-08-06</td>\n",
       "      <td>880.049988</td>\n",
       "      <td>894.957322</td>\n",
       "    </tr>\n",
       "    <tr>\n",
       "      <th>1</th>\n",
       "      <td>2018-08-07</td>\n",
       "      <td>873.700012</td>\n",
       "      <td>896.301668</td>\n",
       "    </tr>\n",
       "    <tr>\n",
       "      <th>2</th>\n",
       "      <td>2018-08-08</td>\n",
       "      <td>876.500000</td>\n",
       "      <td>897.646014</td>\n",
       "    </tr>\n",
       "    <tr>\n",
       "      <th>3</th>\n",
       "      <td>2018-08-09</td>\n",
       "      <td>878.750000</td>\n",
       "      <td>898.990361</td>\n",
       "    </tr>\n",
       "    <tr>\n",
       "      <th>4</th>\n",
       "      <td>2018-08-10</td>\n",
       "      <td>865.250000</td>\n",
       "      <td>896.179214</td>\n",
       "    </tr>\n",
       "  </tbody>\n",
       "</table>\n",
       "</div>"
      ],
      "text/plain": [
       "         Date  Actual_Close  Linear_regression_Close\n",
       "0  2018-08-06    880.049988               894.957322\n",
       "1  2018-08-07    873.700012               896.301668\n",
       "2  2018-08-08    876.500000               897.646014\n",
       "3  2018-08-09    878.750000               898.990361\n",
       "4  2018-08-10    865.250000               896.179214"
      ]
     },
     "execution_count": 23,
     "metadata": {},
     "output_type": "execute_result"
    }
   ],
   "source": [
    "escorts_predictions_df = pd.read_csv('Escorts_predicitions.csv')\n",
    "escorts_predictions_df.head()"
   ]
  },
  {
   "cell_type": "code",
   "execution_count": 24,
   "metadata": {},
   "outputs": [
    {
     "data": {
      "text/html": [
       "<div>\n",
       "<style scoped>\n",
       "    .dataframe tbody tr th:only-of-type {\n",
       "        vertical-align: middle;\n",
       "    }\n",
       "\n",
       "    .dataframe tbody tr th {\n",
       "        vertical-align: top;\n",
       "    }\n",
       "\n",
       "    .dataframe thead th {\n",
       "        text-align: right;\n",
       "    }\n",
       "</style>\n",
       "<table border=\"1\" class=\"dataframe\">\n",
       "  <thead>\n",
       "    <tr style=\"text-align: right;\">\n",
       "      <th></th>\n",
       "      <th>Date</th>\n",
       "      <th>Actual_Close</th>\n",
       "      <th>Linear_regression_Close</th>\n",
       "      <th>ARIMA_Close</th>\n",
       "    </tr>\n",
       "  </thead>\n",
       "  <tbody>\n",
       "    <tr>\n",
       "      <th>0</th>\n",
       "      <td>2018-08-06</td>\n",
       "      <td>880.049988</td>\n",
       "      <td>894.957322</td>\n",
       "      <td>814.415519</td>\n",
       "    </tr>\n",
       "    <tr>\n",
       "      <th>1</th>\n",
       "      <td>2018-08-07</td>\n",
       "      <td>873.700012</td>\n",
       "      <td>896.301668</td>\n",
       "      <td>807.619558</td>\n",
       "    </tr>\n",
       "    <tr>\n",
       "      <th>2</th>\n",
       "      <td>2018-08-08</td>\n",
       "      <td>876.500000</td>\n",
       "      <td>897.646014</td>\n",
       "      <td>816.193006</td>\n",
       "    </tr>\n",
       "    <tr>\n",
       "      <th>3</th>\n",
       "      <td>2018-08-09</td>\n",
       "      <td>878.750000</td>\n",
       "      <td>898.990361</td>\n",
       "      <td>799.530341</td>\n",
       "    </tr>\n",
       "    <tr>\n",
       "      <th>4</th>\n",
       "      <td>2018-08-10</td>\n",
       "      <td>865.250000</td>\n",
       "      <td>896.179214</td>\n",
       "      <td>790.553107</td>\n",
       "    </tr>\n",
       "  </tbody>\n",
       "</table>\n",
       "</div>"
      ],
      "text/plain": [
       "         Date  Actual_Close  Linear_regression_Close  ARIMA_Close\n",
       "0  2018-08-06    880.049988               894.957322   814.415519\n",
       "1  2018-08-07    873.700012               896.301668   807.619558\n",
       "2  2018-08-08    876.500000               897.646014   816.193006\n",
       "3  2018-08-09    878.750000               898.990361   799.530341\n",
       "4  2018-08-10    865.250000               896.179214   790.553107"
      ]
     },
     "execution_count": 24,
     "metadata": {},
     "output_type": "execute_result"
    }
   ],
   "source": [
    "forecast = forecast.reset_index()\n",
    "forecast = forecast.drop(columns='index')\n",
    "escorts_predictions_df['ARIMA_Close'] = forecast['Prediction']\n",
    "escorts_predictions_df.head()"
   ]
  },
  {
   "cell_type": "code",
   "execution_count": 25,
   "metadata": {},
   "outputs": [],
   "source": [
    "escorts_predictions_df.to_csv('Escorts_predicitions.csv', index=False)"
   ]
  },
  {
   "cell_type": "code",
   "execution_count": null,
   "metadata": {},
   "outputs": [],
   "source": []
  }
 ],
 "metadata": {
  "kernelspec": {
   "display_name": "Python 3",
   "language": "python",
   "name": "python3"
  },
  "language_info": {
   "codemirror_mode": {
    "name": "ipython",
    "version": 3
   },
   "file_extension": ".py",
   "mimetype": "text/x-python",
   "name": "python",
   "nbconvert_exporter": "python",
   "pygments_lexer": "ipython3",
   "version": "3.6.9"
  }
 },
 "nbformat": 4,
 "nbformat_minor": 4
}
