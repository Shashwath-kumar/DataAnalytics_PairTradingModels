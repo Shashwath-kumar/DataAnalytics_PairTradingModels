{
 "cells": [
  {
   "cell_type": "markdown",
   "metadata": {},
   "source": [
    "# Data Analytics Project - Models\n",
    "\n",
    "# Pair 2 - BEML ARIMA Model\n",
    "\n",
    "---"
   ]
  },
  {
   "cell_type": "markdown",
   "metadata": {},
   "source": [
    "# 1. Import required modules"
   ]
  },
  {
   "cell_type": "code",
   "execution_count": 1,
   "metadata": {},
   "outputs": [
    {
     "name": "stderr",
     "output_type": "stream",
     "text": [
      "/home/varun487/.local/lib/python3.6/site-packages/torch/cuda/__init__.py:52: UserWarning: CUDA initialization: Found no NVIDIA driver on your system. Please check that you have an NVIDIA GPU and installed a driver from http://www.nvidia.com/Download/index.aspx (Triggered internally at  /pytorch/c10/cuda/CUDAFunctions.cpp:100.)\n",
      "  return torch._C._cuda_getDeviceCount() > 0\n"
     ]
    }
   ],
   "source": [
    "import numpy as np\n",
    "import pandas as pd\n",
    "from fastai.tabular.core import add_datepart\n",
    "from pmdarima.arima import auto_arima\n",
    "from sklearn import metrics"
   ]
  },
  {
   "cell_type": "markdown",
   "metadata": {},
   "source": [
    "---"
   ]
  },
  {
   "cell_type": "markdown",
   "metadata": {},
   "source": [
    "# 2. Get Pair 2 Orders Dataset"
   ]
  },
  {
   "cell_type": "markdown",
   "metadata": {},
   "source": [
    "## 2.1. Get the orders"
   ]
  },
  {
   "cell_type": "code",
   "execution_count": 2,
   "metadata": {},
   "outputs": [
    {
     "data": {
      "text/html": [
       "<div>\n",
       "<style scoped>\n",
       "    .dataframe tbody tr th:only-of-type {\n",
       "        vertical-align: middle;\n",
       "    }\n",
       "\n",
       "    .dataframe tbody tr th {\n",
       "        vertical-align: top;\n",
       "    }\n",
       "\n",
       "    .dataframe thead th {\n",
       "        text-align: right;\n",
       "    }\n",
       "</style>\n",
       "<table border=\"1\" class=\"dataframe\">\n",
       "  <thead>\n",
       "    <tr style=\"text-align: right;\">\n",
       "      <th></th>\n",
       "      <th>Date</th>\n",
       "      <th>BEML_Close</th>\n",
       "      <th>ESCORTS_Close</th>\n",
       "      <th>Spread</th>\n",
       "      <th>zscore</th>\n",
       "      <th>Orders</th>\n",
       "    </tr>\n",
       "  </thead>\n",
       "  <tbody>\n",
       "    <tr>\n",
       "      <th>0</th>\n",
       "      <td>2018-08-06</td>\n",
       "      <td>909.099976</td>\n",
       "      <td>880.049988</td>\n",
       "      <td>29.049988</td>\n",
       "      <td>1.821236</td>\n",
       "      <td>SHORT</td>\n",
       "    </tr>\n",
       "    <tr>\n",
       "      <th>1</th>\n",
       "      <td>2018-08-07</td>\n",
       "      <td>868.599976</td>\n",
       "      <td>873.700012</td>\n",
       "      <td>-5.100037</td>\n",
       "      <td>0.672698</td>\n",
       "      <td>FLAT</td>\n",
       "    </tr>\n",
       "    <tr>\n",
       "      <th>2</th>\n",
       "      <td>2018-08-08</td>\n",
       "      <td>825.150024</td>\n",
       "      <td>876.500000</td>\n",
       "      <td>-51.349976</td>\n",
       "      <td>-0.882785</td>\n",
       "      <td>GET_OUT_OF_POSITION</td>\n",
       "    </tr>\n",
       "    <tr>\n",
       "      <th>3</th>\n",
       "      <td>2018-08-09</td>\n",
       "      <td>810.150024</td>\n",
       "      <td>878.750000</td>\n",
       "      <td>-68.599976</td>\n",
       "      <td>-1.462939</td>\n",
       "      <td>FLAT</td>\n",
       "    </tr>\n",
       "    <tr>\n",
       "      <th>4</th>\n",
       "      <td>2018-08-10</td>\n",
       "      <td>807.750000</td>\n",
       "      <td>865.250000</td>\n",
       "      <td>-57.500000</td>\n",
       "      <td>-1.089624</td>\n",
       "      <td>FLAT</td>\n",
       "    </tr>\n",
       "  </tbody>\n",
       "</table>\n",
       "</div>"
      ],
      "text/plain": [
       "         Date  BEML_Close  ESCORTS_Close     Spread    zscore  \\\n",
       "0  2018-08-06  909.099976     880.049988  29.049988  1.821236   \n",
       "1  2018-08-07  868.599976     873.700012  -5.100037  0.672698   \n",
       "2  2018-08-08  825.150024     876.500000 -51.349976 -0.882785   \n",
       "3  2018-08-09  810.150024     878.750000 -68.599976 -1.462939   \n",
       "4  2018-08-10  807.750000     865.250000 -57.500000 -1.089624   \n",
       "\n",
       "                Orders  \n",
       "0                SHORT  \n",
       "1                 FLAT  \n",
       "2  GET_OUT_OF_POSITION  \n",
       "3                 FLAT  \n",
       "4                 FLAT  "
      ]
     },
     "execution_count": 2,
     "metadata": {},
     "output_type": "execute_result"
    }
   ],
   "source": [
    "orders_df = pd.read_csv('../../Preprocess/Pair2/Pair2_orders.csv')\n",
    "orders_df.head()"
   ]
  },
  {
   "cell_type": "code",
   "execution_count": 3,
   "metadata": {},
   "outputs": [
    {
     "data": {
      "text/html": [
       "<div>\n",
       "<style scoped>\n",
       "    .dataframe tbody tr th:only-of-type {\n",
       "        vertical-align: middle;\n",
       "    }\n",
       "\n",
       "    .dataframe tbody tr th {\n",
       "        vertical-align: top;\n",
       "    }\n",
       "\n",
       "    .dataframe thead th {\n",
       "        text-align: right;\n",
       "    }\n",
       "</style>\n",
       "<table border=\"1\" class=\"dataframe\">\n",
       "  <thead>\n",
       "    <tr style=\"text-align: right;\">\n",
       "      <th></th>\n",
       "      <th>Date</th>\n",
       "      <th>BEML_Close</th>\n",
       "      <th>ESCORTS_Close</th>\n",
       "      <th>Spread</th>\n",
       "      <th>zscore</th>\n",
       "      <th>Orders</th>\n",
       "    </tr>\n",
       "  </thead>\n",
       "  <tbody>\n",
       "    <tr>\n",
       "      <th>54</th>\n",
       "      <td>2018-10-29</td>\n",
       "      <td>561.150024</td>\n",
       "      <td>591.450012</td>\n",
       "      <td>-30.299988</td>\n",
       "      <td>-0.174830</td>\n",
       "      <td>FLAT</td>\n",
       "    </tr>\n",
       "    <tr>\n",
       "      <th>55</th>\n",
       "      <td>2018-10-30</td>\n",
       "      <td>585.650024</td>\n",
       "      <td>603.950012</td>\n",
       "      <td>-18.299988</td>\n",
       "      <td>0.228756</td>\n",
       "      <td>FLAT</td>\n",
       "    </tr>\n",
       "    <tr>\n",
       "      <th>56</th>\n",
       "      <td>2018-10-31</td>\n",
       "      <td>587.250000</td>\n",
       "      <td>627.000000</td>\n",
       "      <td>-39.750000</td>\n",
       "      <td>-0.492654</td>\n",
       "      <td>FLAT</td>\n",
       "    </tr>\n",
       "    <tr>\n",
       "      <th>57</th>\n",
       "      <td>2018-11-01</td>\n",
       "      <td>632.400024</td>\n",
       "      <td>674.450012</td>\n",
       "      <td>-42.049988</td>\n",
       "      <td>-0.570007</td>\n",
       "      <td>FLAT</td>\n",
       "    </tr>\n",
       "    <tr>\n",
       "      <th>58</th>\n",
       "      <td>2018-11-02</td>\n",
       "      <td>688.900024</td>\n",
       "      <td>676.000000</td>\n",
       "      <td>12.900024</td>\n",
       "      <td>1.278078</td>\n",
       "      <td>FLAT</td>\n",
       "    </tr>\n",
       "  </tbody>\n",
       "</table>\n",
       "</div>"
      ],
      "text/plain": [
       "          Date  BEML_Close  ESCORTS_Close     Spread    zscore Orders\n",
       "54  2018-10-29  561.150024     591.450012 -30.299988 -0.174830   FLAT\n",
       "55  2018-10-30  585.650024     603.950012 -18.299988  0.228756   FLAT\n",
       "56  2018-10-31  587.250000     627.000000 -39.750000 -0.492654   FLAT\n",
       "57  2018-11-01  632.400024     674.450012 -42.049988 -0.570007   FLAT\n",
       "58  2018-11-02  688.900024     676.000000  12.900024  1.278078   FLAT"
      ]
     },
     "execution_count": 3,
     "metadata": {},
     "output_type": "execute_result"
    }
   ],
   "source": [
    "orders_df.tail()"
   ]
  },
  {
   "cell_type": "markdown",
   "metadata": {},
   "source": [
    "## 2.2. Visualize the orders"
   ]
  },
  {
   "cell_type": "code",
   "execution_count": 4,
   "metadata": {},
   "outputs": [
    {
     "data": {
      "text/plain": [
       "Text(0, 0.5, 'zscore')"
      ]
     },
     "execution_count": 4,
     "metadata": {},
     "output_type": "execute_result"
    },
    {
     "data": {
      "image/png": "[encoded data removed]",
      "text/plain": [
       "<Figure size 2160x1080 with 1 Axes>"
      ]
     },
     "metadata": {
      "needs_background": "light"
     },
     "output_type": "display_data"
    }
   ],
   "source": [
    "# Plotting the zscore of the Spread\n",
    "orders_plt = orders_df.plot(x='Date', y='zscore', figsize=(30,15))\n",
    "\n",
    "# Plotting the lines at mean, 1 and 2 std. dev.\n",
    "orders_plt.axhline(0, c='black')\n",
    "orders_plt.axhline(1, c='red', ls = \"--\")\n",
    "orders_plt.axhline(-1, c='red', ls = \"--\")\n",
    "\n",
    "# Extracting orders\n",
    "Orders = orders_df['Orders']\n",
    "\n",
    "# Plot vertical lines where orders are placed\n",
    "for order in range(len(Orders)):\n",
    "    \n",
    "    if Orders[order] != \"FLAT\":\n",
    "        \n",
    "        # GREEN line for a long position\n",
    "        if Orders[order] == \"LONG\":\n",
    "            orders_plt.axvline(x=order, c = \"green\")\n",
    "        \n",
    "        # RED line for a short position\n",
    "        elif Orders[order] == \"SHORT\":\n",
    "            orders_plt.axvline(x=order, c = \"red\")\n",
    "        \n",
    "        # BLACK line for getting out of all positions at that point\n",
    "        else:\n",
    "            orders_plt.axvline(x=order, c = \"black\")\n",
    "\n",
    "orders_plt.set_ylabel(\"zscore\")"
   ]
  },
  {
   "cell_type": "markdown",
   "metadata": {},
   "source": [
    "__In the figure above:__\n",
    "- __Blue line__ - zscore of the Spread\n",
    "- __Black horizontal line__ at 0 - Mean\n",
    "- __Red dotted horizontal lines__ - at +1 and -1 standard deviations\n",
    "- __Green vertical line__ - represents long position taken on that day\n",
    "- __Red vertical line__ - represents short position taken on that day\n",
    "- __Black vertical line__ - represents getting out of all open positions till that point\n"
   ]
  },
  {
   "cell_type": "markdown",
   "metadata": {},
   "source": [
    "## 2.3 Visualize the close prices of both stocks"
   ]
  },
  {
   "cell_type": "code",
   "execution_count": 5,
   "metadata": {},
   "outputs": [
    {
     "data": {
      "text/plain": [
       "Text(0, 0.5, 'Price')"
      ]
     },
     "execution_count": 5,
     "metadata": {},
     "output_type": "execute_result"
    },
    {
     "data": {
      "image/png": "[encoded data removed]",
      "text/plain": [
       "<Figure size 2160x1080 with 1 Axes>"
      ]
     },
     "metadata": {
      "needs_background": "light"
     },
     "output_type": "display_data"
    }
   ],
   "source": [
    "orders_df_plt = orders_df.plot(x='Date', y=['ESCORTS_Close', 'BEML_Close'], figsize=(30,15))\n",
    "orders_df_plt.set_xlabel(\"Date\")\n",
    "orders_df_plt.set_ylabel(\"Price\")"
   ]
  },
  {
   "cell_type": "markdown",
   "metadata": {},
   "source": [
    "---"
   ]
  },
  {
   "cell_type": "markdown",
   "metadata": {},
   "source": [
    "# 3. BEML Linear Regression Model"
   ]
  },
  {
   "cell_type": "markdown",
   "metadata": {},
   "source": [
    "## 3.1. Get the Complete BEML dataset"
   ]
  },
  {
   "cell_type": "code",
   "execution_count": 6,
   "metadata": {},
   "outputs": [
    {
     "data": {
      "text/html": [
       "<div>\n",
       "<style scoped>\n",
       "    .dataframe tbody tr th:only-of-type {\n",
       "        vertical-align: middle;\n",
       "    }\n",
       "\n",
       "    .dataframe tbody tr th {\n",
       "        vertical-align: top;\n",
       "    }\n",
       "\n",
       "    .dataframe thead th {\n",
       "        text-align: right;\n",
       "    }\n",
       "</style>\n",
       "<table border=\"1\" class=\"dataframe\">\n",
       "  <thead>\n",
       "    <tr style=\"text-align: right;\">\n",
       "      <th></th>\n",
       "      <th>Date</th>\n",
       "      <th>High</th>\n",
       "      <th>Low</th>\n",
       "      <th>Open</th>\n",
       "      <th>Close</th>\n",
       "      <th>Volume</th>\n",
       "      <th>Adj Close</th>\n",
       "      <th>Company</th>\n",
       "      <th>Exchange</th>\n",
       "    </tr>\n",
       "  </thead>\n",
       "  <tbody>\n",
       "    <tr>\n",
       "      <th>0</th>\n",
       "      <td>2017-01-02</td>\n",
       "      <td>1006.500000</td>\n",
       "      <td>989.150024</td>\n",
       "      <td>1004.000000</td>\n",
       "      <td>996.299988</td>\n",
       "      <td>150354.0</td>\n",
       "      <td>968.879944</td>\n",
       "      <td>BEML</td>\n",
       "      <td>NSE</td>\n",
       "    </tr>\n",
       "    <tr>\n",
       "      <th>1</th>\n",
       "      <td>2017-01-03</td>\n",
       "      <td>1015.950012</td>\n",
       "      <td>996.200012</td>\n",
       "      <td>1002.799988</td>\n",
       "      <td>1009.299988</td>\n",
       "      <td>285489.0</td>\n",
       "      <td>981.522095</td>\n",
       "      <td>BEML</td>\n",
       "      <td>NSE</td>\n",
       "    </tr>\n",
       "    <tr>\n",
       "      <th>2</th>\n",
       "      <td>2017-01-04</td>\n",
       "      <td>1023.000000</td>\n",
       "      <td>1002.750000</td>\n",
       "      <td>1013.799988</td>\n",
       "      <td>1005.799988</td>\n",
       "      <td>202005.0</td>\n",
       "      <td>978.118469</td>\n",
       "      <td>BEML</td>\n",
       "      <td>NSE</td>\n",
       "    </tr>\n",
       "    <tr>\n",
       "      <th>3</th>\n",
       "      <td>2017-01-05</td>\n",
       "      <td>1017.500000</td>\n",
       "      <td>993.599976</td>\n",
       "      <td>1006.400024</td>\n",
       "      <td>1001.599976</td>\n",
       "      <td>150463.0</td>\n",
       "      <td>974.033997</td>\n",
       "      <td>BEML</td>\n",
       "      <td>NSE</td>\n",
       "    </tr>\n",
       "    <tr>\n",
       "      <th>4</th>\n",
       "      <td>2017-01-06</td>\n",
       "      <td>1009.000000</td>\n",
       "      <td>987.900024</td>\n",
       "      <td>998.500000</td>\n",
       "      <td>993.549988</td>\n",
       "      <td>161214.0</td>\n",
       "      <td>966.205627</td>\n",
       "      <td>BEML</td>\n",
       "      <td>NSE</td>\n",
       "    </tr>\n",
       "  </tbody>\n",
       "</table>\n",
       "</div>"
      ],
      "text/plain": [
       "         Date         High          Low         Open        Close    Volume  \\\n",
       "0  2017-01-02  1006.500000   989.150024  1004.000000   996.299988  150354.0   \n",
       "1  2017-01-03  1015.950012   996.200012  1002.799988  1009.299988  285489.0   \n",
       "2  2017-01-04  1023.000000  1002.750000  1013.799988  1005.799988  202005.0   \n",
       "3  2017-01-05  1017.500000   993.599976  1006.400024  1001.599976  150463.0   \n",
       "4  2017-01-06  1009.000000   987.900024   998.500000   993.549988  161214.0   \n",
       "\n",
       "    Adj Close Company Exchange  \n",
       "0  968.879944    BEML      NSE  \n",
       "1  981.522095    BEML      NSE  \n",
       "2  978.118469    BEML      NSE  \n",
       "3  974.033997    BEML      NSE  \n",
       "4  966.205627    BEML      NSE  "
      ]
     },
     "execution_count": 6,
     "metadata": {},
     "output_type": "execute_result"
    }
   ],
   "source": [
    "beml_df = pd.read_csv(\"../../Storage/Companies_with_names_exchange/BEMLNSE.csv\")\n",
    "beml_df.head()"
   ]
  },
  {
   "cell_type": "markdown",
   "metadata": {},
   "source": [
    "- We can see that we have data from 2017-01-02"
   ]
  },
  {
   "cell_type": "markdown",
   "metadata": {},
   "source": [
    "## 3.2. Get BEML training data"
   ]
  },
  {
   "cell_type": "markdown",
   "metadata": {},
   "source": [
    "### 3.2.1 Get complete beml dataset"
   ]
  },
  {
   "cell_type": "code",
   "execution_count": 7,
   "metadata": {},
   "outputs": [
    {
     "data": {
      "text/html": [
       "<div>\n",
       "<style scoped>\n",
       "    .dataframe tbody tr th:only-of-type {\n",
       "        vertical-align: middle;\n",
       "    }\n",
       "\n",
       "    .dataframe tbody tr th {\n",
       "        vertical-align: top;\n",
       "    }\n",
       "\n",
       "    .dataframe thead th {\n",
       "        text-align: right;\n",
       "    }\n",
       "</style>\n",
       "<table border=\"1\" class=\"dataframe\">\n",
       "  <thead>\n",
       "    <tr style=\"text-align: right;\">\n",
       "      <th></th>\n",
       "      <th>Date</th>\n",
       "      <th>Close</th>\n",
       "    </tr>\n",
       "  </thead>\n",
       "  <tbody>\n",
       "    <tr>\n",
       "      <th>0</th>\n",
       "      <td>2017-01-02</td>\n",
       "      <td>996.299988</td>\n",
       "    </tr>\n",
       "    <tr>\n",
       "      <th>1</th>\n",
       "      <td>2017-01-03</td>\n",
       "      <td>1009.299988</td>\n",
       "    </tr>\n",
       "    <tr>\n",
       "      <th>2</th>\n",
       "      <td>2017-01-04</td>\n",
       "      <td>1005.799988</td>\n",
       "    </tr>\n",
       "    <tr>\n",
       "      <th>3</th>\n",
       "      <td>2017-01-05</td>\n",
       "      <td>1001.599976</td>\n",
       "    </tr>\n",
       "    <tr>\n",
       "      <th>4</th>\n",
       "      <td>2017-01-06</td>\n",
       "      <td>993.549988</td>\n",
       "    </tr>\n",
       "  </tbody>\n",
       "</table>\n",
       "</div>"
      ],
      "text/plain": [
       "         Date        Close\n",
       "0  2017-01-02   996.299988\n",
       "1  2017-01-03  1009.299988\n",
       "2  2017-01-04  1005.799988\n",
       "3  2017-01-05  1001.599976\n",
       "4  2017-01-06   993.549988"
      ]
     },
     "execution_count": 7,
     "metadata": {},
     "output_type": "execute_result"
    }
   ],
   "source": [
    "beml_df = beml_df.drop(columns=['High', 'Low', 'Open', 'Volume', 'Adj Close', 'Company', 'Exchange'])\n",
    "beml_df.head()"
   ]
  },
  {
   "cell_type": "markdown",
   "metadata": {},
   "source": [
    "- We can see that the period where the stocks are correlated and co-integration starts from 2018-09-04.\n",
    "- Thus the test data for which we need to make predictions is from 2018-09-04 to when the period ends at 2018-12-03.\n",
    "- We take 1 year's worth of training data for our model, which means that the time period of our training data is from 2017-09-03 to 2018-09-04.\n"
   ]
  },
  {
   "cell_type": "markdown",
   "metadata": {},
   "source": [
    "### 3.2.2. Crop dataset within training range"
   ]
  },
  {
   "cell_type": "code",
   "execution_count": 8,
   "metadata": {},
   "outputs": [
    {
     "data": {
      "text/html": [
       "<div>\n",
       "<style scoped>\n",
       "    .dataframe tbody tr th:only-of-type {\n",
       "        vertical-align: middle;\n",
       "    }\n",
       "\n",
       "    .dataframe tbody tr th {\n",
       "        vertical-align: top;\n",
       "    }\n",
       "\n",
       "    .dataframe thead th {\n",
       "        text-align: right;\n",
       "    }\n",
       "</style>\n",
       "<table border=\"1\" class=\"dataframe\">\n",
       "  <thead>\n",
       "    <tr style=\"text-align: right;\">\n",
       "      <th></th>\n",
       "      <th>Date</th>\n",
       "      <th>Close</th>\n",
       "    </tr>\n",
       "  </thead>\n",
       "  <tbody>\n",
       "    <tr>\n",
       "      <th>166</th>\n",
       "      <td>2017-09-04</td>\n",
       "      <td>1855.599976</td>\n",
       "    </tr>\n",
       "    <tr>\n",
       "      <th>167</th>\n",
       "      <td>2017-09-05</td>\n",
       "      <td>1851.000000</td>\n",
       "    </tr>\n",
       "    <tr>\n",
       "      <th>168</th>\n",
       "      <td>2017-09-06</td>\n",
       "      <td>1836.150024</td>\n",
       "    </tr>\n",
       "    <tr>\n",
       "      <th>169</th>\n",
       "      <td>2017-09-07</td>\n",
       "      <td>1882.949951</td>\n",
       "    </tr>\n",
       "    <tr>\n",
       "      <th>170</th>\n",
       "      <td>2017-09-08</td>\n",
       "      <td>1855.949951</td>\n",
       "    </tr>\n",
       "  </tbody>\n",
       "</table>\n",
       "</div>"
      ],
      "text/plain": [
       "           Date        Close\n",
       "166  2017-09-04  1855.599976\n",
       "167  2017-09-05  1851.000000\n",
       "168  2017-09-06  1836.150024\n",
       "169  2017-09-07  1882.949951\n",
       "170  2017-09-08  1855.949951"
      ]
     },
     "execution_count": 8,
     "metadata": {},
     "output_type": "execute_result"
    }
   ],
   "source": [
    "beml_df_train = beml_df[beml_df['Date'] >= '2017-09-03']\n",
    "beml_df_train.head()"
   ]
  },
  {
   "cell_type": "code",
   "execution_count": 9,
   "metadata": {},
   "outputs": [
    {
     "data": {
      "text/html": [
       "<div>\n",
       "<style scoped>\n",
       "    .dataframe tbody tr th:only-of-type {\n",
       "        vertical-align: middle;\n",
       "    }\n",
       "\n",
       "    .dataframe tbody tr th {\n",
       "        vertical-align: top;\n",
       "    }\n",
       "\n",
       "    .dataframe thead th {\n",
       "        text-align: right;\n",
       "    }\n",
       "</style>\n",
       "<table border=\"1\" class=\"dataframe\">\n",
       "  <thead>\n",
       "    <tr style=\"text-align: right;\">\n",
       "      <th></th>\n",
       "      <th>Date</th>\n",
       "      <th>Close</th>\n",
       "    </tr>\n",
       "  </thead>\n",
       "  <tbody>\n",
       "    <tr>\n",
       "      <th>412</th>\n",
       "      <td>2018-08-29</td>\n",
       "      <td>822.450012</td>\n",
       "    </tr>\n",
       "    <tr>\n",
       "      <th>413</th>\n",
       "      <td>2018-08-30</td>\n",
       "      <td>818.950012</td>\n",
       "    </tr>\n",
       "    <tr>\n",
       "      <th>414</th>\n",
       "      <td>2018-08-31</td>\n",
       "      <td>840.400024</td>\n",
       "    </tr>\n",
       "    <tr>\n",
       "      <th>415</th>\n",
       "      <td>2018-09-03</td>\n",
       "      <td>841.150024</td>\n",
       "    </tr>\n",
       "    <tr>\n",
       "      <th>416</th>\n",
       "      <td>2018-09-04</td>\n",
       "      <td>794.700012</td>\n",
       "    </tr>\n",
       "  </tbody>\n",
       "</table>\n",
       "</div>"
      ],
      "text/plain": [
       "           Date       Close\n",
       "412  2018-08-29  822.450012\n",
       "413  2018-08-30  818.950012\n",
       "414  2018-08-31  840.400024\n",
       "415  2018-09-03  841.150024\n",
       "416  2018-09-04  794.700012"
      ]
     },
     "execution_count": 9,
     "metadata": {},
     "output_type": "execute_result"
    }
   ],
   "source": [
    "beml_df_train = beml_df_train[beml_df_train['Date'] <= '2018-09-04']\n",
    "beml_df_train.tail()"
   ]
  },
  {
   "cell_type": "markdown",
   "metadata": {},
   "source": [
    "### 3.2.3 Get the training data and labels"
   ]
  },
  {
   "cell_type": "code",
   "execution_count": 10,
   "metadata": {},
   "outputs": [
    {
     "data": {
      "text/html": [
       "<div>\n",
       "<style scoped>\n",
       "    .dataframe tbody tr th:only-of-type {\n",
       "        vertical-align: middle;\n",
       "    }\n",
       "\n",
       "    .dataframe tbody tr th {\n",
       "        vertical-align: top;\n",
       "    }\n",
       "\n",
       "    .dataframe thead th {\n",
       "        text-align: right;\n",
       "    }\n",
       "</style>\n",
       "<table border=\"1\" class=\"dataframe\">\n",
       "  <thead>\n",
       "    <tr style=\"text-align: right;\">\n",
       "      <th></th>\n",
       "      <th>Date</th>\n",
       "      <th>Close</th>\n",
       "    </tr>\n",
       "  </thead>\n",
       "  <tbody>\n",
       "    <tr>\n",
       "      <th>166</th>\n",
       "      <td>2017-09-04</td>\n",
       "      <td>1855.599976</td>\n",
       "    </tr>\n",
       "    <tr>\n",
       "      <th>167</th>\n",
       "      <td>2017-09-05</td>\n",
       "      <td>1851.000000</td>\n",
       "    </tr>\n",
       "    <tr>\n",
       "      <th>168</th>\n",
       "      <td>2017-09-06</td>\n",
       "      <td>1836.150024</td>\n",
       "    </tr>\n",
       "    <tr>\n",
       "      <th>169</th>\n",
       "      <td>2017-09-07</td>\n",
       "      <td>1882.949951</td>\n",
       "    </tr>\n",
       "    <tr>\n",
       "      <th>170</th>\n",
       "      <td>2017-09-08</td>\n",
       "      <td>1855.949951</td>\n",
       "    </tr>\n",
       "    <tr>\n",
       "      <th>...</th>\n",
       "      <td>...</td>\n",
       "      <td>...</td>\n",
       "    </tr>\n",
       "    <tr>\n",
       "      <th>412</th>\n",
       "      <td>2018-08-29</td>\n",
       "      <td>822.450012</td>\n",
       "    </tr>\n",
       "    <tr>\n",
       "      <th>413</th>\n",
       "      <td>2018-08-30</td>\n",
       "      <td>818.950012</td>\n",
       "    </tr>\n",
       "    <tr>\n",
       "      <th>414</th>\n",
       "      <td>2018-08-31</td>\n",
       "      <td>840.400024</td>\n",
       "    </tr>\n",
       "    <tr>\n",
       "      <th>415</th>\n",
       "      <td>2018-09-03</td>\n",
       "      <td>841.150024</td>\n",
       "    </tr>\n",
       "    <tr>\n",
       "      <th>416</th>\n",
       "      <td>2018-09-04</td>\n",
       "      <td>794.700012</td>\n",
       "    </tr>\n",
       "  </tbody>\n",
       "</table>\n",
       "<p>251 rows × 2 columns</p>\n",
       "</div>"
      ],
      "text/plain": [
       "           Date        Close\n",
       "166  2017-09-04  1855.599976\n",
       "167  2017-09-05  1851.000000\n",
       "168  2017-09-06  1836.150024\n",
       "169  2017-09-07  1882.949951\n",
       "170  2017-09-08  1855.949951\n",
       "..          ...          ...\n",
       "412  2018-08-29   822.450012\n",
       "413  2018-08-30   818.950012\n",
       "414  2018-08-31   840.400024\n",
       "415  2018-09-03   841.150024\n",
       "416  2018-09-04   794.700012\n",
       "\n",
       "[251 rows x 2 columns]"
      ]
     },
     "execution_count": 10,
     "metadata": {},
     "output_type": "execute_result"
    }
   ],
   "source": [
    "beml_train = beml_df_train.copy()\n",
    "beml_train"
   ]
  },
  {
   "cell_type": "code",
   "execution_count": 11,
   "metadata": {},
   "outputs": [
    {
     "data": {
      "text/plain": [
       "0      1855.599976\n",
       "1      1851.000000\n",
       "2      1836.150024\n",
       "3      1882.949951\n",
       "4      1855.949951\n",
       "          ...     \n",
       "246     822.450012\n",
       "247     818.950012\n",
       "248     840.400024\n",
       "249     841.150024\n",
       "250     794.700012\n",
       "Name: Close, Length: 251, dtype: float64"
      ]
     },
     "execution_count": 11,
     "metadata": {},
     "output_type": "execute_result"
    }
   ],
   "source": [
    "beml_train = beml_train.reset_index(drop=True)\n",
    "beml_train = beml_train['Close']\n",
    "beml_train"
   ]
  },
  {
   "cell_type": "code",
   "execution_count": 12,
   "metadata": {},
   "outputs": [
    {
     "data": {
      "text/plain": [
       "251"
      ]
     },
     "execution_count": 12,
     "metadata": {},
     "output_type": "execute_result"
    }
   ],
   "source": [
    "len(beml_train)"
   ]
  },
  {
   "cell_type": "markdown",
   "metadata": {},
   "source": [
    "## 3.3. Get BEML Test Data"
   ]
  },
  {
   "cell_type": "code",
   "execution_count": 13,
   "metadata": {},
   "outputs": [
    {
     "data": {
      "text/html": [
       "<div>\n",
       "<style scoped>\n",
       "    .dataframe tbody tr th:only-of-type {\n",
       "        vertical-align: middle;\n",
       "    }\n",
       "\n",
       "    .dataframe tbody tr th {\n",
       "        vertical-align: top;\n",
       "    }\n",
       "\n",
       "    .dataframe thead th {\n",
       "        text-align: right;\n",
       "    }\n",
       "</style>\n",
       "<table border=\"1\" class=\"dataframe\">\n",
       "  <thead>\n",
       "    <tr style=\"text-align: right;\">\n",
       "      <th></th>\n",
       "      <th>Date</th>\n",
       "      <th>Close</th>\n",
       "    </tr>\n",
       "  </thead>\n",
       "  <tbody>\n",
       "    <tr>\n",
       "      <th>416</th>\n",
       "      <td>2018-09-04</td>\n",
       "      <td>794.700012</td>\n",
       "    </tr>\n",
       "    <tr>\n",
       "      <th>417</th>\n",
       "      <td>2018-09-05</td>\n",
       "      <td>767.750000</td>\n",
       "    </tr>\n",
       "    <tr>\n",
       "      <th>418</th>\n",
       "      <td>2018-09-06</td>\n",
       "      <td>772.549988</td>\n",
       "    </tr>\n",
       "    <tr>\n",
       "      <th>419</th>\n",
       "      <td>2018-09-07</td>\n",
       "      <td>776.250000</td>\n",
       "    </tr>\n",
       "    <tr>\n",
       "      <th>420</th>\n",
       "      <td>2018-09-10</td>\n",
       "      <td>764.450012</td>\n",
       "    </tr>\n",
       "  </tbody>\n",
       "</table>\n",
       "</div>"
      ],
      "text/plain": [
       "           Date       Close\n",
       "416  2018-09-04  794.700012\n",
       "417  2018-09-05  767.750000\n",
       "418  2018-09-06  772.549988\n",
       "419  2018-09-07  776.250000\n",
       "420  2018-09-10  764.450012"
      ]
     },
     "execution_count": 13,
     "metadata": {},
     "output_type": "execute_result"
    }
   ],
   "source": [
    "beml_test_df = orders_df.copy()\n",
    "beml_test_df = beml_df[(beml_df['Date'] >= '2018-09-04') & (beml_df['Date'] <= '2018-12-03')].copy()\n",
    "beml_test_df.head()"
   ]
  },
  {
   "cell_type": "code",
   "execution_count": 14,
   "metadata": {},
   "outputs": [
    {
     "data": {
      "text/html": [
       "<div>\n",
       "<style scoped>\n",
       "    .dataframe tbody tr th:only-of-type {\n",
       "        vertical-align: middle;\n",
       "    }\n",
       "\n",
       "    .dataframe tbody tr th {\n",
       "        vertical-align: top;\n",
       "    }\n",
       "\n",
       "    .dataframe thead th {\n",
       "        text-align: right;\n",
       "    }\n",
       "</style>\n",
       "<table border=\"1\" class=\"dataframe\">\n",
       "  <thead>\n",
       "    <tr style=\"text-align: right;\">\n",
       "      <th></th>\n",
       "      <th>Date</th>\n",
       "      <th>Close</th>\n",
       "    </tr>\n",
       "  </thead>\n",
       "  <tbody>\n",
       "    <tr>\n",
       "      <th>470</th>\n",
       "      <td>2018-11-27</td>\n",
       "      <td>758.849976</td>\n",
       "    </tr>\n",
       "    <tr>\n",
       "      <th>471</th>\n",
       "      <td>2018-11-28</td>\n",
       "      <td>775.200012</td>\n",
       "    </tr>\n",
       "    <tr>\n",
       "      <th>472</th>\n",
       "      <td>2018-11-29</td>\n",
       "      <td>764.950012</td>\n",
       "    </tr>\n",
       "    <tr>\n",
       "      <th>473</th>\n",
       "      <td>2018-11-30</td>\n",
       "      <td>752.849976</td>\n",
       "    </tr>\n",
       "    <tr>\n",
       "      <th>474</th>\n",
       "      <td>2018-12-03</td>\n",
       "      <td>747.599976</td>\n",
       "    </tr>\n",
       "  </tbody>\n",
       "</table>\n",
       "</div>"
      ],
      "text/plain": [
       "           Date       Close\n",
       "470  2018-11-27  758.849976\n",
       "471  2018-11-28  775.200012\n",
       "472  2018-11-29  764.950012\n",
       "473  2018-11-30  752.849976\n",
       "474  2018-12-03  747.599976"
      ]
     },
     "execution_count": 14,
     "metadata": {},
     "output_type": "execute_result"
    }
   ],
   "source": [
    "beml_test_df.tail()"
   ]
  },
  {
   "cell_type": "code",
   "execution_count": 15,
   "metadata": {},
   "outputs": [
    {
     "data": {
      "text/html": [
       "<div>\n",
       "<style scoped>\n",
       "    .dataframe tbody tr th:only-of-type {\n",
       "        vertical-align: middle;\n",
       "    }\n",
       "\n",
       "    .dataframe tbody tr th {\n",
       "        vertical-align: top;\n",
       "    }\n",
       "\n",
       "    .dataframe thead th {\n",
       "        text-align: right;\n",
       "    }\n",
       "</style>\n",
       "<table border=\"1\" class=\"dataframe\">\n",
       "  <thead>\n",
       "    <tr style=\"text-align: right;\">\n",
       "      <th></th>\n",
       "      <th>Date</th>\n",
       "      <th>Close</th>\n",
       "    </tr>\n",
       "  </thead>\n",
       "  <tbody>\n",
       "    <tr>\n",
       "      <th>251</th>\n",
       "      <td>2018-09-04</td>\n",
       "      <td>794.700012</td>\n",
       "    </tr>\n",
       "    <tr>\n",
       "      <th>252</th>\n",
       "      <td>2018-09-05</td>\n",
       "      <td>767.750000</td>\n",
       "    </tr>\n",
       "    <tr>\n",
       "      <th>253</th>\n",
       "      <td>2018-09-06</td>\n",
       "      <td>772.549988</td>\n",
       "    </tr>\n",
       "    <tr>\n",
       "      <th>254</th>\n",
       "      <td>2018-09-07</td>\n",
       "      <td>776.250000</td>\n",
       "    </tr>\n",
       "    <tr>\n",
       "      <th>255</th>\n",
       "      <td>2018-09-10</td>\n",
       "      <td>764.450012</td>\n",
       "    </tr>\n",
       "  </tbody>\n",
       "</table>\n",
       "</div>"
      ],
      "text/plain": [
       "           Date       Close\n",
       "251  2018-09-04  794.700012\n",
       "252  2018-09-05  767.750000\n",
       "253  2018-09-06  772.549988\n",
       "254  2018-09-07  776.250000\n",
       "255  2018-09-10  764.450012"
      ]
     },
     "execution_count": 15,
     "metadata": {},
     "output_type": "execute_result"
    }
   ],
   "source": [
    "beml_test = beml_test_df.copy()\n",
    "beml_test.reset_index(drop=True, inplace=True)\n",
    "beml_test.index += 251\n",
    "beml_test.head()"
   ]
  },
  {
   "cell_type": "code",
   "execution_count": 16,
   "metadata": {},
   "outputs": [
    {
     "data": {
      "text/html": [
       "<div>\n",
       "<style scoped>\n",
       "    .dataframe tbody tr th:only-of-type {\n",
       "        vertical-align: middle;\n",
       "    }\n",
       "\n",
       "    .dataframe tbody tr th {\n",
       "        vertical-align: top;\n",
       "    }\n",
       "\n",
       "    .dataframe thead th {\n",
       "        text-align: right;\n",
       "    }\n",
       "</style>\n",
       "<table border=\"1\" class=\"dataframe\">\n",
       "  <thead>\n",
       "    <tr style=\"text-align: right;\">\n",
       "      <th></th>\n",
       "      <th>Date</th>\n",
       "      <th>Close</th>\n",
       "    </tr>\n",
       "  </thead>\n",
       "  <tbody>\n",
       "    <tr>\n",
       "      <th>305</th>\n",
       "      <td>2018-11-27</td>\n",
       "      <td>758.849976</td>\n",
       "    </tr>\n",
       "    <tr>\n",
       "      <th>306</th>\n",
       "      <td>2018-11-28</td>\n",
       "      <td>775.200012</td>\n",
       "    </tr>\n",
       "    <tr>\n",
       "      <th>307</th>\n",
       "      <td>2018-11-29</td>\n",
       "      <td>764.950012</td>\n",
       "    </tr>\n",
       "    <tr>\n",
       "      <th>308</th>\n",
       "      <td>2018-11-30</td>\n",
       "      <td>752.849976</td>\n",
       "    </tr>\n",
       "    <tr>\n",
       "      <th>309</th>\n",
       "      <td>2018-12-03</td>\n",
       "      <td>747.599976</td>\n",
       "    </tr>\n",
       "  </tbody>\n",
       "</table>\n",
       "</div>"
      ],
      "text/plain": [
       "           Date       Close\n",
       "305  2018-11-27  758.849976\n",
       "306  2018-11-28  775.200012\n",
       "307  2018-11-29  764.950012\n",
       "308  2018-11-30  752.849976\n",
       "309  2018-12-03  747.599976"
      ]
     },
     "execution_count": 16,
     "metadata": {},
     "output_type": "execute_result"
    }
   ],
   "source": [
    "beml_test.tail()"
   ]
  },
  {
   "cell_type": "code",
   "execution_count": 17,
   "metadata": {},
   "outputs": [],
   "source": [
    "beml_test = beml_test['Close']"
   ]
  },
  {
   "cell_type": "code",
   "execution_count": 18,
   "metadata": {},
   "outputs": [
    {
     "data": {
      "text/plain": [
       "59"
      ]
     },
     "execution_count": 18,
     "metadata": {},
     "output_type": "execute_result"
    }
   ],
   "source": [
    "len(beml_test)"
   ]
  },
  {
   "cell_type": "markdown",
   "metadata": {},
   "source": [
    "## 3.4 Create and Train BEML Model"
   ]
  },
  {
   "cell_type": "code",
   "execution_count": 19,
   "metadata": {},
   "outputs": [
    {
     "name": "stdout",
     "output_type": "stream",
     "text": [
      "Performing stepwise search to minimize aic\n",
      " ARIMA(1,1,1)(0,1,1)[12]             : AIC=inf, Time=3.41 sec\n",
      " ARIMA(0,1,0)(0,1,0)[12]             : AIC=2466.729, Time=0.04 sec\n",
      " ARIMA(1,1,0)(1,1,0)[12]             : AIC=2426.173, Time=0.47 sec\n",
      " ARIMA(0,1,1)(0,1,1)[12]             : AIC=inf, Time=2.76 sec\n",
      " ARIMA(1,1,0)(0,1,0)[12]             : AIC=2467.447, Time=0.06 sec\n",
      " ARIMA(1,1,0)(2,1,0)[12]             : AIC=2395.570, Time=1.34 sec\n",
      " ARIMA(1,1,0)(2,1,1)[12]             : AIC=inf, Time=5.08 sec\n",
      " ARIMA(1,1,0)(1,1,1)[12]             : AIC=inf, Time=3.31 sec\n",
      " ARIMA(0,1,0)(2,1,0)[12]             : AIC=2394.269, Time=1.17 sec\n",
      " ARIMA(0,1,0)(1,1,0)[12]             : AIC=2425.107, Time=0.36 sec\n",
      " ARIMA(0,1,0)(2,1,1)[12]             : AIC=inf, Time=8.30 sec\n",
      " ARIMA(0,1,0)(1,1,1)[12]             : AIC=inf, Time=2.20 sec\n",
      " ARIMA(0,1,1)(2,1,0)[12]             : AIC=2395.572, Time=1.86 sec\n",
      " ARIMA(1,1,1)(2,1,0)[12]             : AIC=2397.570, Time=2.68 sec\n",
      " ARIMA(0,1,0)(2,1,0)[12] intercept   : AIC=2396.264, Time=3.22 sec\n",
      "\n",
      "Best model:  ARIMA(0,1,0)(2,1,0)[12]          \n",
      "Total fit time: 36.298 seconds\n"
     ]
    },
    {
     "data": {
      "text/plain": [
       "ARIMA(order=(0, 1, 0), scoring_args={}, seasonal_order=(2, 1, 0, 12),\n",
       "      suppress_warnings=True, with_intercept=False)"
      ]
     },
     "execution_count": 19,
     "metadata": {},
     "output_type": "execute_result"
    }
   ],
   "source": [
    "model = auto_arima(beml_train, start_p=1, start_q=1,max_p=3, max_q=3, m=12,start_P=0, seasonal=True,d=1, D=1, trace=True, error_action='ignore', suppress_warnings=True)\n",
    "model.fit(beml_train)"
   ]
  },
  {
   "cell_type": "markdown",
   "metadata": {},
   "source": [
    "## 3.5. Get predictions"
   ]
  },
  {
   "cell_type": "code",
   "execution_count": 20,
   "metadata": {},
   "outputs": [
    {
     "data": {
      "text/html": [
       "<div>\n",
       "<style scoped>\n",
       "    .dataframe tbody tr th:only-of-type {\n",
       "        vertical-align: middle;\n",
       "    }\n",
       "\n",
       "    .dataframe tbody tr th {\n",
       "        vertical-align: top;\n",
       "    }\n",
       "\n",
       "    .dataframe thead th {\n",
       "        text-align: right;\n",
       "    }\n",
       "</style>\n",
       "<table border=\"1\" class=\"dataframe\">\n",
       "  <thead>\n",
       "    <tr style=\"text-align: right;\">\n",
       "      <th></th>\n",
       "      <th>Prediction</th>\n",
       "    </tr>\n",
       "  </thead>\n",
       "  <tbody>\n",
       "    <tr>\n",
       "      <th>251</th>\n",
       "      <td>793.382360</td>\n",
       "    </tr>\n",
       "    <tr>\n",
       "      <th>252</th>\n",
       "      <td>786.817999</td>\n",
       "    </tr>\n",
       "    <tr>\n",
       "      <th>253</th>\n",
       "      <td>801.045660</td>\n",
       "    </tr>\n",
       "    <tr>\n",
       "      <th>254</th>\n",
       "      <td>793.949767</td>\n",
       "    </tr>\n",
       "    <tr>\n",
       "      <th>255</th>\n",
       "      <td>784.870888</td>\n",
       "    </tr>\n",
       "    <tr>\n",
       "      <th>256</th>\n",
       "      <td>780.706759</td>\n",
       "    </tr>\n",
       "    <tr>\n",
       "      <th>257</th>\n",
       "      <td>766.809046</td>\n",
       "    </tr>\n",
       "    <tr>\n",
       "      <th>258</th>\n",
       "      <td>774.102287</td>\n",
       "    </tr>\n",
       "    <tr>\n",
       "      <th>259</th>\n",
       "      <td>767.933075</td>\n",
       "    </tr>\n",
       "    <tr>\n",
       "      <th>260</th>\n",
       "      <td>782.385302</td>\n",
       "    </tr>\n",
       "    <tr>\n",
       "      <th>261</th>\n",
       "      <td>794.303382</td>\n",
       "    </tr>\n",
       "    <tr>\n",
       "      <th>262</th>\n",
       "      <td>803.470188</td>\n",
       "    </tr>\n",
       "    <tr>\n",
       "      <th>263</th>\n",
       "      <td>805.415475</td>\n",
       "    </tr>\n",
       "    <tr>\n",
       "      <th>264</th>\n",
       "      <td>807.914918</td>\n",
       "    </tr>\n",
       "    <tr>\n",
       "      <th>265</th>\n",
       "      <td>817.699129</td>\n",
       "    </tr>\n",
       "    <tr>\n",
       "      <th>266</th>\n",
       "      <td>814.167154</td>\n",
       "    </tr>\n",
       "    <tr>\n",
       "      <th>267</th>\n",
       "      <td>807.119904</td>\n",
       "    </tr>\n",
       "    <tr>\n",
       "      <th>268</th>\n",
       "      <td>793.782101</td>\n",
       "    </tr>\n",
       "    <tr>\n",
       "      <th>269</th>\n",
       "      <td>769.144257</td>\n",
       "    </tr>\n",
       "    <tr>\n",
       "      <th>270</th>\n",
       "      <td>767.230854</td>\n",
       "    </tr>\n",
       "    <tr>\n",
       "      <th>271</th>\n",
       "      <td>762.998285</td>\n",
       "    </tr>\n",
       "    <tr>\n",
       "      <th>272</th>\n",
       "      <td>765.952789</td>\n",
       "    </tr>\n",
       "    <tr>\n",
       "      <th>273</th>\n",
       "      <td>773.497161</td>\n",
       "    </tr>\n",
       "    <tr>\n",
       "      <th>274</th>\n",
       "      <td>769.110514</td>\n",
       "    </tr>\n",
       "    <tr>\n",
       "      <th>275</th>\n",
       "      <td>773.938977</td>\n",
       "    </tr>\n",
       "    <tr>\n",
       "      <th>276</th>\n",
       "      <td>776.175913</td>\n",
       "    </tr>\n",
       "    <tr>\n",
       "      <th>277</th>\n",
       "      <td>789.012138</td>\n",
       "    </tr>\n",
       "    <tr>\n",
       "      <th>278</th>\n",
       "      <td>784.098917</td>\n",
       "    </tr>\n",
       "    <tr>\n",
       "      <th>279</th>\n",
       "      <td>775.171474</td>\n",
       "    </tr>\n",
       "    <tr>\n",
       "      <th>280</th>\n",
       "      <td>775.546837</td>\n",
       "    </tr>\n",
       "    <tr>\n",
       "      <th>281</th>\n",
       "      <td>757.679160</td>\n",
       "    </tr>\n",
       "    <tr>\n",
       "      <th>282</th>\n",
       "      <td>759.396492</td>\n",
       "    </tr>\n",
       "    <tr>\n",
       "      <th>283</th>\n",
       "      <td>755.058034</td>\n",
       "    </tr>\n",
       "    <tr>\n",
       "      <th>284</th>\n",
       "      <td>767.201396</td>\n",
       "    </tr>\n",
       "    <tr>\n",
       "      <th>285</th>\n",
       "      <td>773.058909</td>\n",
       "    </tr>\n",
       "    <tr>\n",
       "      <th>286</th>\n",
       "      <td>755.572741</td>\n",
       "    </tr>\n",
       "    <tr>\n",
       "      <th>287</th>\n",
       "      <td>757.531869</td>\n",
       "    </tr>\n",
       "    <tr>\n",
       "      <th>288</th>\n",
       "      <td>756.522411</td>\n",
       "    </tr>\n",
       "    <tr>\n",
       "      <th>289</th>\n",
       "      <td>769.280554</td>\n",
       "    </tr>\n",
       "    <tr>\n",
       "      <th>290</th>\n",
       "      <td>763.820760</td>\n",
       "    </tr>\n",
       "    <tr>\n",
       "      <th>291</th>\n",
       "      <td>755.205876</td>\n",
       "    </tr>\n",
       "    <tr>\n",
       "      <th>292</th>\n",
       "      <td>751.186720</td>\n",
       "    </tr>\n",
       "    <tr>\n",
       "      <th>293</th>\n",
       "      <td>733.476854</td>\n",
       "    </tr>\n",
       "    <tr>\n",
       "      <th>294</th>\n",
       "      <td>736.570406</td>\n",
       "    </tr>\n",
       "    <tr>\n",
       "      <th>295</th>\n",
       "      <td>731.566740</td>\n",
       "    </tr>\n",
       "    <tr>\n",
       "      <th>296</th>\n",
       "      <td>742.770403</td>\n",
       "    </tr>\n",
       "    <tr>\n",
       "      <th>297</th>\n",
       "      <td>751.230216</td>\n",
       "    </tr>\n",
       "    <tr>\n",
       "      <th>298</th>\n",
       "      <td>746.304233</td>\n",
       "    </tr>\n",
       "    <tr>\n",
       "      <th>299</th>\n",
       "      <td>748.821764</td>\n",
       "    </tr>\n",
       "    <tr>\n",
       "      <th>300</th>\n",
       "      <td>749.764786</td>\n",
       "    </tr>\n",
       "    <tr>\n",
       "      <th>301</th>\n",
       "      <td>761.423896</td>\n",
       "    </tr>\n",
       "    <tr>\n",
       "      <th>302</th>\n",
       "      <td>756.793837</td>\n",
       "    </tr>\n",
       "    <tr>\n",
       "      <th>303</th>\n",
       "      <td>748.704973</td>\n",
       "    </tr>\n",
       "    <tr>\n",
       "      <th>304</th>\n",
       "      <td>742.057167</td>\n",
       "    </tr>\n",
       "    <tr>\n",
       "      <th>305</th>\n",
       "      <td>721.720305</td>\n",
       "    </tr>\n",
       "    <tr>\n",
       "      <th>306</th>\n",
       "      <td>722.667374</td>\n",
       "    </tr>\n",
       "    <tr>\n",
       "      <th>307</th>\n",
       "      <td>718.083306</td>\n",
       "    </tr>\n",
       "    <tr>\n",
       "      <th>308</th>\n",
       "      <td>726.380481</td>\n",
       "    </tr>\n",
       "    <tr>\n",
       "      <th>309</th>\n",
       "      <td>733.986128</td>\n",
       "    </tr>\n",
       "  </tbody>\n",
       "</table>\n",
       "</div>"
      ],
      "text/plain": [
       "     Prediction\n",
       "251  793.382360\n",
       "252  786.817999\n",
       "253  801.045660\n",
       "254  793.949767\n",
       "255  784.870888\n",
       "256  780.706759\n",
       "257  766.809046\n",
       "258  774.102287\n",
       "259  767.933075\n",
       "260  782.385302\n",
       "261  794.303382\n",
       "262  803.470188\n",
       "263  805.415475\n",
       "264  807.914918\n",
       "265  817.699129\n",
       "266  814.167154\n",
       "267  807.119904\n",
       "268  793.782101\n",
       "269  769.144257\n",
       "270  767.230854\n",
       "271  762.998285\n",
       "272  765.952789\n",
       "273  773.497161\n",
       "274  769.110514\n",
       "275  773.938977\n",
       "276  776.175913\n",
       "277  789.012138\n",
       "278  784.098917\n",
       "279  775.171474\n",
       "280  775.546837\n",
       "281  757.679160\n",
       "282  759.396492\n",
       "283  755.058034\n",
       "284  767.201396\n",
       "285  773.058909\n",
       "286  755.572741\n",
       "287  757.531869\n",
       "288  756.522411\n",
       "289  769.280554\n",
       "290  763.820760\n",
       "291  755.205876\n",
       "292  751.186720\n",
       "293  733.476854\n",
       "294  736.570406\n",
       "295  731.566740\n",
       "296  742.770403\n",
       "297  751.230216\n",
       "298  746.304233\n",
       "299  748.821764\n",
       "300  749.764786\n",
       "301  761.423896\n",
       "302  756.793837\n",
       "303  748.704973\n",
       "304  742.057167\n",
       "305  721.720305\n",
       "306  722.667374\n",
       "307  718.083306\n",
       "308  726.380481\n",
       "309  733.986128"
      ]
     },
     "execution_count": 20,
     "metadata": {},
     "output_type": "execute_result"
    }
   ],
   "source": [
    "forecast = model.predict(n_periods=len(beml_test))\n",
    "forecast = pd.DataFrame(forecast, index = beml_test.index, columns=['Prediction'])\n",
    "forecast"
   ]
  },
  {
   "cell_type": "code",
   "execution_count": 21,
   "metadata": {},
   "outputs": [
    {
     "name": "stdout",
     "output_type": "stream",
     "text": [
      "Mean Absolute Error: 98.92814879328428\n",
      "Mean Squared Error: 16348.935902199917\n",
      "Root Mean Squared Error: 127.86295750607334\n"
     ]
    }
   ],
   "source": [
    "predictions = forecast['Prediction']\n",
    "print('Mean Absolute Error:', metrics.mean_absolute_error(beml_test, predictions))\n",
    "print('Mean Squared Error:', metrics.mean_squared_error(beml_test, predictions))\n",
    "print('Root Mean Squared Error:', np.sqrt(metrics.mean_squared_error(beml_test, predictions)))"
   ]
  },
  {
   "cell_type": "markdown",
   "metadata": {},
   "source": [
    "## 3.6. Visualize the predicitons vs test data"
   ]
  },
  {
   "cell_type": "code",
   "execution_count": 22,
   "metadata": {},
   "outputs": [
    {
     "data": {
      "text/plain": [
       "[<matplotlib.lines.Line2D at 0x7f74794e3f98>]"
      ]
     },
     "execution_count": 22,
     "metadata": {},
     "output_type": "execute_result"
    },
    {
     "data": {
      "image/png": "[encoded data removed]",
      "text/plain": [
       "<Figure size 2160x1080 with 1 Axes>"
      ]
     },
     "metadata": {
      "needs_background": "light"
     },
     "output_type": "display_data"
    }
   ],
   "source": [
    "beml_model_plt = forecast.plot(y=['Prediction'], figsize=(30,15), c='green')\n",
    "beml_model_plt.plot(beml_train, c='blue')\n",
    "beml_model_plt.plot(beml_test, c='orange')"
   ]
  },
  {
   "cell_type": "markdown",
   "metadata": {},
   "source": [
    "__In the graph above:__\n",
    "- We can see the training data in blue\n",
    "- The test data in orange\n",
    "- The predictions made by the models in green"
   ]
  },
  {
   "cell_type": "markdown",
   "metadata": {},
   "source": [
    "# 4. Put the results in a file"
   ]
  },
  {
   "cell_type": "code",
   "execution_count": 23,
   "metadata": {},
   "outputs": [
    {
     "data": {
      "text/html": [
       "<div>\n",
       "<style scoped>\n",
       "    .dataframe tbody tr th:only-of-type {\n",
       "        vertical-align: middle;\n",
       "    }\n",
       "\n",
       "    .dataframe tbody tr th {\n",
       "        vertical-align: top;\n",
       "    }\n",
       "\n",
       "    .dataframe thead th {\n",
       "        text-align: right;\n",
       "    }\n",
       "</style>\n",
       "<table border=\"1\" class=\"dataframe\">\n",
       "  <thead>\n",
       "    <tr style=\"text-align: right;\">\n",
       "      <th></th>\n",
       "      <th>Date</th>\n",
       "      <th>Actual_Close</th>\n",
       "      <th>Linear_regression_Close</th>\n",
       "      <th>ARIMA_Close</th>\n",
       "    </tr>\n",
       "  </thead>\n",
       "  <tbody>\n",
       "    <tr>\n",
       "      <th>0</th>\n",
       "      <td>2018-08-06</td>\n",
       "      <td>909.099976</td>\n",
       "      <td>762.413834</td>\n",
       "      <td>793.382360</td>\n",
       "    </tr>\n",
       "    <tr>\n",
       "      <th>1</th>\n",
       "      <td>2018-08-07</td>\n",
       "      <td>868.599976</td>\n",
       "      <td>755.794835</td>\n",
       "      <td>786.817999</td>\n",
       "    </tr>\n",
       "    <tr>\n",
       "      <th>2</th>\n",
       "      <td>2018-08-08</td>\n",
       "      <td>825.150024</td>\n",
       "      <td>749.175836</td>\n",
       "      <td>801.045660</td>\n",
       "    </tr>\n",
       "    <tr>\n",
       "      <th>3</th>\n",
       "      <td>2018-08-09</td>\n",
       "      <td>810.150024</td>\n",
       "      <td>742.556836</td>\n",
       "      <td>793.949767</td>\n",
       "    </tr>\n",
       "    <tr>\n",
       "      <th>4</th>\n",
       "      <td>2018-08-10</td>\n",
       "      <td>807.750000</td>\n",
       "      <td>747.687468</td>\n",
       "      <td>784.870888</td>\n",
       "    </tr>\n",
       "  </tbody>\n",
       "</table>\n",
       "</div>"
      ],
      "text/plain": [
       "         Date  Actual_Close  Linear_regression_Close  ARIMA_Close\n",
       "0  2018-08-06    909.099976               762.413834   793.382360\n",
       "1  2018-08-07    868.599976               755.794835   786.817999\n",
       "2  2018-08-08    825.150024               749.175836   801.045660\n",
       "3  2018-08-09    810.150024               742.556836   793.949767\n",
       "4  2018-08-10    807.750000               747.687468   784.870888"
      ]
     },
     "execution_count": 23,
     "metadata": {},
     "output_type": "execute_result"
    }
   ],
   "source": [
    "beml_predictions_df = pd.read_csv('Beml_predicitions.csv')\n",
    "beml_predictions_df.head()"
   ]
  },
  {
   "cell_type": "code",
   "execution_count": 24,
   "metadata": {},
   "outputs": [
    {
     "data": {
      "text/html": [
       "<div>\n",
       "<style scoped>\n",
       "    .dataframe tbody tr th:only-of-type {\n",
       "        vertical-align: middle;\n",
       "    }\n",
       "\n",
       "    .dataframe tbody tr th {\n",
       "        vertical-align: top;\n",
       "    }\n",
       "\n",
       "    .dataframe thead th {\n",
       "        text-align: right;\n",
       "    }\n",
       "</style>\n",
       "<table border=\"1\" class=\"dataframe\">\n",
       "  <thead>\n",
       "    <tr style=\"text-align: right;\">\n",
       "      <th></th>\n",
       "      <th>Date</th>\n",
       "      <th>Actual_Close</th>\n",
       "      <th>Linear_regression_Close</th>\n",
       "      <th>ARIMA_Close</th>\n",
       "    </tr>\n",
       "  </thead>\n",
       "  <tbody>\n",
       "    <tr>\n",
       "      <th>0</th>\n",
       "      <td>2018-08-06</td>\n",
       "      <td>909.099976</td>\n",
       "      <td>762.413834</td>\n",
       "      <td>793.382360</td>\n",
       "    </tr>\n",
       "    <tr>\n",
       "      <th>1</th>\n",
       "      <td>2018-08-07</td>\n",
       "      <td>868.599976</td>\n",
       "      <td>755.794835</td>\n",
       "      <td>786.817999</td>\n",
       "    </tr>\n",
       "    <tr>\n",
       "      <th>2</th>\n",
       "      <td>2018-08-08</td>\n",
       "      <td>825.150024</td>\n",
       "      <td>749.175836</td>\n",
       "      <td>801.045660</td>\n",
       "    </tr>\n",
       "    <tr>\n",
       "      <th>3</th>\n",
       "      <td>2018-08-09</td>\n",
       "      <td>810.150024</td>\n",
       "      <td>742.556836</td>\n",
       "      <td>793.949767</td>\n",
       "    </tr>\n",
       "    <tr>\n",
       "      <th>4</th>\n",
       "      <td>2018-08-10</td>\n",
       "      <td>807.750000</td>\n",
       "      <td>747.687468</td>\n",
       "      <td>784.870888</td>\n",
       "    </tr>\n",
       "  </tbody>\n",
       "</table>\n",
       "</div>"
      ],
      "text/plain": [
       "         Date  Actual_Close  Linear_regression_Close  ARIMA_Close\n",
       "0  2018-08-06    909.099976               762.413834   793.382360\n",
       "1  2018-08-07    868.599976               755.794835   786.817999\n",
       "2  2018-08-08    825.150024               749.175836   801.045660\n",
       "3  2018-08-09    810.150024               742.556836   793.949767\n",
       "4  2018-08-10    807.750000               747.687468   784.870888"
      ]
     },
     "execution_count": 24,
     "metadata": {},
     "output_type": "execute_result"
    }
   ],
   "source": [
    "forecast = forecast.reset_index()\n",
    "forecast = forecast.drop(columns='index')\n",
    "beml_predictions_df['ARIMA_Close'] = forecast['Prediction']\n",
    "beml_predictions_df.head()"
   ]
  },
  {
   "cell_type": "code",
   "execution_count": 25,
   "metadata": {},
   "outputs": [],
   "source": [
    "beml_predictions_df.to_csv('Beml_predicitions.csv', index=False)"
   ]
  },
  {
   "cell_type": "code",
   "execution_count": null,
   "metadata": {},
   "outputs": [],
   "source": []
  }
 ],
 "metadata": {
  "kernelspec": {
   "display_name": "Python 3",
   "language": "python",
   "name": "python3"
  },
  "language_info": {
   "codemirror_mode": {
    "name": "ipython",
    "version": 3
   },
   "file_extension": ".py",
   "mimetype": "text/x-python",
   "name": "python",
   "nbconvert_exporter": "python",
   "pygments_lexer": "ipython3",
   "version": "3.6.9"
  }
 },
 "nbformat": 4,
 "nbformat_minor": 4
}
