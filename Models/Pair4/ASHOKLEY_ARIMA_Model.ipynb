{
 "cells": [
  {
   "cell_type": "markdown",
   "metadata": {},
   "source": [
    "# Data Analytics Project - Models\n",
    "\n",
    "# Pair 4 - ASHOKLEY ARIMA Model\n",
    "\n",
    "---"
   ]
  },
  {
   "cell_type": "markdown",
   "metadata": {},
   "source": [
    "# 1. Import required modules"
   ]
  },
  {
   "cell_type": "code",
   "execution_count": 1,
   "metadata": {},
   "outputs": [
    {
     "name": "stderr",
     "output_type": "stream",
     "text": [
      "/home/varun487/.local/lib/python3.6/site-packages/torch/cuda/__init__.py:52: UserWarning: CUDA initialization: Found no NVIDIA driver on your system. Please check that you have an NVIDIA GPU and installed a driver from http://www.nvidia.com/Download/index.aspx (Triggered internally at  /pytorch/c10/cuda/CUDAFunctions.cpp:100.)\n",
      "  return torch._C._cuda_getDeviceCount() > 0\n"
     ]
    }
   ],
   "source": [
    "import numpy as np\n",
    "import pandas as pd\n",
    "from fastai.tabular.core import add_datepart\n",
    "from pmdarima.arima import auto_arima\n",
    "from sklearn import metrics"
   ]
  },
  {
   "cell_type": "markdown",
   "metadata": {},
   "source": [
    "---"
   ]
  },
  {
   "cell_type": "markdown",
   "metadata": {},
   "source": [
    "# 2. Get Pair 4 Orders Dataset"
   ]
  },
  {
   "cell_type": "markdown",
   "metadata": {},
   "source": [
    "## 2.1. Get the orders"
   ]
  },
  {
   "cell_type": "code",
   "execution_count": 2,
   "metadata": {},
   "outputs": [
    {
     "data": {
      "text/html": [
       "<div>\n",
       "<style scoped>\n",
       "    .dataframe tbody tr th:only-of-type {\n",
       "        vertical-align: middle;\n",
       "    }\n",
       "\n",
       "    .dataframe tbody tr th {\n",
       "        vertical-align: top;\n",
       "    }\n",
       "\n",
       "    .dataframe thead th {\n",
       "        text-align: right;\n",
       "    }\n",
       "</style>\n",
       "<table border=\"1\" class=\"dataframe\">\n",
       "  <thead>\n",
       "    <tr style=\"text-align: right;\">\n",
       "      <th></th>\n",
       "      <th>Date</th>\n",
       "      <th>ASHOKLEY_Close</th>\n",
       "      <th>TATAMTRDVR_Close</th>\n",
       "      <th>Spread</th>\n",
       "      <th>zscore</th>\n",
       "      <th>Orders</th>\n",
       "    </tr>\n",
       "  </thead>\n",
       "  <tbody>\n",
       "    <tr>\n",
       "      <th>0</th>\n",
       "      <td>2019-05-17</td>\n",
       "      <td>84.500000</td>\n",
       "      <td>83.199997</td>\n",
       "      <td>1.300003</td>\n",
       "      <td>-1.764996</td>\n",
       "      <td>LONG</td>\n",
       "    </tr>\n",
       "    <tr>\n",
       "      <th>1</th>\n",
       "      <td>2019-05-20</td>\n",
       "      <td>87.550003</td>\n",
       "      <td>88.849998</td>\n",
       "      <td>-1.299995</td>\n",
       "      <td>-2.747445</td>\n",
       "      <td>LONG</td>\n",
       "    </tr>\n",
       "    <tr>\n",
       "      <th>2</th>\n",
       "      <td>2019-05-21</td>\n",
       "      <td>88.250000</td>\n",
       "      <td>83.150002</td>\n",
       "      <td>5.099998</td>\n",
       "      <td>-0.329109</td>\n",
       "      <td>FLAT</td>\n",
       "    </tr>\n",
       "    <tr>\n",
       "      <th>3</th>\n",
       "      <td>2019-05-22</td>\n",
       "      <td>87.849998</td>\n",
       "      <td>85.400002</td>\n",
       "      <td>2.449997</td>\n",
       "      <td>-1.330453</td>\n",
       "      <td>FLAT</td>\n",
       "    </tr>\n",
       "    <tr>\n",
       "      <th>4</th>\n",
       "      <td>2019-05-23</td>\n",
       "      <td>88.849998</td>\n",
       "      <td>84.849998</td>\n",
       "      <td>4.000000</td>\n",
       "      <td>-0.744760</td>\n",
       "      <td>FLAT</td>\n",
       "    </tr>\n",
       "  </tbody>\n",
       "</table>\n",
       "</div>"
      ],
      "text/plain": [
       "         Date  ASHOKLEY_Close  TATAMTRDVR_Close    Spread    zscore Orders\n",
       "0  2019-05-17       84.500000         83.199997  1.300003 -1.764996   LONG\n",
       "1  2019-05-20       87.550003         88.849998 -1.299995 -2.747445   LONG\n",
       "2  2019-05-21       88.250000         83.150002  5.099998 -0.329109   FLAT\n",
       "3  2019-05-22       87.849998         85.400002  2.449997 -1.330453   FLAT\n",
       "4  2019-05-23       88.849998         84.849998  4.000000 -0.744760   FLAT"
      ]
     },
     "execution_count": 2,
     "metadata": {},
     "output_type": "execute_result"
    }
   ],
   "source": [
    "orders_df = pd.read_csv('../../Preprocess/Pair4/Pair4_orders.csv')\n",
    "orders_df.head()"
   ]
  },
  {
   "cell_type": "code",
   "execution_count": 3,
   "metadata": {},
   "outputs": [
    {
     "data": {
      "text/html": [
       "<div>\n",
       "<style scoped>\n",
       "    .dataframe tbody tr th:only-of-type {\n",
       "        vertical-align: middle;\n",
       "    }\n",
       "\n",
       "    .dataframe tbody tr th {\n",
       "        vertical-align: top;\n",
       "    }\n",
       "\n",
       "    .dataframe thead th {\n",
       "        text-align: right;\n",
       "    }\n",
       "</style>\n",
       "<table border=\"1\" class=\"dataframe\">\n",
       "  <thead>\n",
       "    <tr style=\"text-align: right;\">\n",
       "      <th></th>\n",
       "      <th>Date</th>\n",
       "      <th>ASHOKLEY_Close</th>\n",
       "      <th>TATAMTRDVR_Close</th>\n",
       "      <th>Spread</th>\n",
       "      <th>zscore</th>\n",
       "      <th>Orders</th>\n",
       "    </tr>\n",
       "  </thead>\n",
       "  <tbody>\n",
       "    <tr>\n",
       "      <th>57</th>\n",
       "      <td>2019-08-07</td>\n",
       "      <td>61.150002</td>\n",
       "      <td>55.650002</td>\n",
       "      <td>5.500000</td>\n",
       "      <td>-0.177963</td>\n",
       "      <td>FLAT</td>\n",
       "    </tr>\n",
       "    <tr>\n",
       "      <th>58</th>\n",
       "      <td>2019-08-08</td>\n",
       "      <td>63.549999</td>\n",
       "      <td>58.750000</td>\n",
       "      <td>4.799999</td>\n",
       "      <td>-0.442469</td>\n",
       "      <td>FLAT</td>\n",
       "    </tr>\n",
       "    <tr>\n",
       "      <th>59</th>\n",
       "      <td>2019-08-09</td>\n",
       "      <td>64.300003</td>\n",
       "      <td>58.200001</td>\n",
       "      <td>6.100002</td>\n",
       "      <td>0.048757</td>\n",
       "      <td>FLAT</td>\n",
       "    </tr>\n",
       "    <tr>\n",
       "      <th>60</th>\n",
       "      <td>2019-08-13</td>\n",
       "      <td>61.549999</td>\n",
       "      <td>57.700001</td>\n",
       "      <td>3.849998</td>\n",
       "      <td>-0.801441</td>\n",
       "      <td>FLAT</td>\n",
       "    </tr>\n",
       "    <tr>\n",
       "      <th>61</th>\n",
       "      <td>2019-08-14</td>\n",
       "      <td>62.549999</td>\n",
       "      <td>57.349998</td>\n",
       "      <td>5.200001</td>\n",
       "      <td>-0.291322</td>\n",
       "      <td>FLAT</td>\n",
       "    </tr>\n",
       "  </tbody>\n",
       "</table>\n",
       "</div>"
      ],
      "text/plain": [
       "          Date  ASHOKLEY_Close  TATAMTRDVR_Close    Spread    zscore Orders\n",
       "57  2019-08-07       61.150002         55.650002  5.500000 -0.177963   FLAT\n",
       "58  2019-08-08       63.549999         58.750000  4.799999 -0.442469   FLAT\n",
       "59  2019-08-09       64.300003         58.200001  6.100002  0.048757   FLAT\n",
       "60  2019-08-13       61.549999         57.700001  3.849998 -0.801441   FLAT\n",
       "61  2019-08-14       62.549999         57.349998  5.200001 -0.291322   FLAT"
      ]
     },
     "execution_count": 3,
     "metadata": {},
     "output_type": "execute_result"
    }
   ],
   "source": [
    "orders_df.tail()"
   ]
  },
  {
   "cell_type": "markdown",
   "metadata": {},
   "source": [
    "## 2.2. Visualize the orders"
   ]
  },
  {
   "cell_type": "code",
   "execution_count": 4,
   "metadata": {},
   "outputs": [
    {
     "data": {
      "text/plain": [
       "Text(0, 0.5, 'zscore')"
      ]
     },
     "execution_count": 4,
     "metadata": {},
     "output_type": "execute_result"
    },
    {
     "data": {
      "image/png": "[encoded data removed]",
      "text/plain": [
       "<Figure size 2160x1080 with 1 Axes>"
      ]
     },
     "metadata": {
      "needs_background": "light"
     },
     "output_type": "display_data"
    }
   ],
   "source": [
    "# Plotting the zscore of the Spread\n",
    "orders_plt = orders_df.plot(x='Date', y='zscore', figsize=(30,15))\n",
    "\n",
    "# Plotting the lines at mean, 1 and 2 std. dev.\n",
    "orders_plt.axhline(0, c='black')\n",
    "orders_plt.axhline(1, c='red', ls = \"--\")\n",
    "orders_plt.axhline(-1, c='red', ls = \"--\")\n",
    "\n",
    "# Extracting orders\n",
    "Orders = orders_df['Orders']\n",
    "\n",
    "# Plot vertical lines where orders are placed\n",
    "for order in range(len(Orders)):\n",
    "    \n",
    "    if Orders[order] != \"FLAT\":\n",
    "        \n",
    "        # GREEN line for a long position\n",
    "        if Orders[order] == \"LONG\":\n",
    "            orders_plt.axvline(x=order, c = \"green\")\n",
    "        \n",
    "        # RED line for a short position\n",
    "        elif Orders[order] == \"SHORT\":\n",
    "            orders_plt.axvline(x=order, c = \"red\")\n",
    "        \n",
    "        # BLACK line for getting out of all positions at that point\n",
    "        else:\n",
    "            orders_plt.axvline(x=order, c = \"black\")\n",
    "\n",
    "orders_plt.set_ylabel(\"zscore\")"
   ]
  },
  {
   "cell_type": "markdown",
   "metadata": {},
   "source": [
    "__In the figure above:__\n",
    "- __Blue line__ - zscore of the Spread\n",
    "- __Black horizontal line__ at 0 - Mean\n",
    "- __Red dotted horizontal lines__ - at +1 and -1 standard deviations\n",
    "- __Green vertical line__ - represents long position taken on that day\n",
    "- __Red vertical line__ - represents short position taken on that day\n",
    "- __Black vertical line__ - represents getting out of all open positions till that point\n"
   ]
  },
  {
   "cell_type": "markdown",
   "metadata": {},
   "source": [
    "## 2.3 Visualize the close prices of both stocks"
   ]
  },
  {
   "cell_type": "code",
   "execution_count": 5,
   "metadata": {},
   "outputs": [
    {
     "data": {
      "text/plain": [
       "Text(0, 0.5, 'Price')"
      ]
     },
     "execution_count": 5,
     "metadata": {},
     "output_type": "execute_result"
    },
    {
     "data": {
      "image/png": "[encoded data removed]",
      "text/plain": [
       "<Figure size 2160x1080 with 1 Axes>"
      ]
     },
     "metadata": {
      "needs_background": "light"
     },
     "output_type": "display_data"
    }
   ],
   "source": [
    "orders_df_plt = orders_df.plot(x='Date', y=['TATAMTRDVR_Close', 'ASHOKLEY_Close'], figsize=(30,15))\n",
    "orders_df_plt.set_xlabel(\"Date\")\n",
    "orders_df_plt.set_ylabel(\"Price\")"
   ]
  },
  {
   "cell_type": "markdown",
   "metadata": {},
   "source": [
    "---"
   ]
  },
  {
   "cell_type": "markdown",
   "metadata": {},
   "source": [
    "# 3. ASHOKLEY Linear Regression Model"
   ]
  },
  {
   "cell_type": "markdown",
   "metadata": {},
   "source": [
    "## 3.1. Get the Complete ASHOKLEY dataset"
   ]
  },
  {
   "cell_type": "code",
   "execution_count": 6,
   "metadata": {},
   "outputs": [
    {
     "data": {
      "text/html": [
       "<div>\n",
       "<style scoped>\n",
       "    .dataframe tbody tr th:only-of-type {\n",
       "        vertical-align: middle;\n",
       "    }\n",
       "\n",
       "    .dataframe tbody tr th {\n",
       "        vertical-align: top;\n",
       "    }\n",
       "\n",
       "    .dataframe thead th {\n",
       "        text-align: right;\n",
       "    }\n",
       "</style>\n",
       "<table border=\"1\" class=\"dataframe\">\n",
       "  <thead>\n",
       "    <tr style=\"text-align: right;\">\n",
       "      <th></th>\n",
       "      <th>Date</th>\n",
       "      <th>High</th>\n",
       "      <th>Low</th>\n",
       "      <th>Open</th>\n",
       "      <th>Close</th>\n",
       "      <th>Volume</th>\n",
       "      <th>Adj Close</th>\n",
       "      <th>Company</th>\n",
       "      <th>Exchange</th>\n",
       "    </tr>\n",
       "  </thead>\n",
       "  <tbody>\n",
       "    <tr>\n",
       "      <th>0</th>\n",
       "      <td>2017-01-02</td>\n",
       "      <td>81.500000</td>\n",
       "      <td>79.150002</td>\n",
       "      <td>80.500000</td>\n",
       "      <td>81.000000</td>\n",
       "      <td>12823600.0</td>\n",
       "      <td>81.000000</td>\n",
       "      <td>ASHOKLEY</td>\n",
       "      <td>NSE</td>\n",
       "    </tr>\n",
       "    <tr>\n",
       "      <th>1</th>\n",
       "      <td>2017-01-03</td>\n",
       "      <td>81.550003</td>\n",
       "      <td>80.449997</td>\n",
       "      <td>81.400002</td>\n",
       "      <td>81.050003</td>\n",
       "      <td>7610206.0</td>\n",
       "      <td>81.050003</td>\n",
       "      <td>ASHOKLEY</td>\n",
       "      <td>NSE</td>\n",
       "    </tr>\n",
       "    <tr>\n",
       "      <th>2</th>\n",
       "      <td>2017-01-04</td>\n",
       "      <td>84.550003</td>\n",
       "      <td>81.250000</td>\n",
       "      <td>81.500000</td>\n",
       "      <td>83.849998</td>\n",
       "      <td>14148219.0</td>\n",
       "      <td>83.849998</td>\n",
       "      <td>ASHOKLEY</td>\n",
       "      <td>NSE</td>\n",
       "    </tr>\n",
       "    <tr>\n",
       "      <th>3</th>\n",
       "      <td>2017-01-05</td>\n",
       "      <td>84.949997</td>\n",
       "      <td>82.800003</td>\n",
       "      <td>84.650002</td>\n",
       "      <td>83.949997</td>\n",
       "      <td>10474833.0</td>\n",
       "      <td>83.949997</td>\n",
       "      <td>ASHOKLEY</td>\n",
       "      <td>NSE</td>\n",
       "    </tr>\n",
       "    <tr>\n",
       "      <th>4</th>\n",
       "      <td>2017-01-06</td>\n",
       "      <td>85.699997</td>\n",
       "      <td>83.150002</td>\n",
       "      <td>84.199997</td>\n",
       "      <td>85.300003</td>\n",
       "      <td>10508449.0</td>\n",
       "      <td>85.300003</td>\n",
       "      <td>ASHOKLEY</td>\n",
       "      <td>NSE</td>\n",
       "    </tr>\n",
       "  </tbody>\n",
       "</table>\n",
       "</div>"
      ],
      "text/plain": [
       "         Date       High        Low       Open      Close      Volume  \\\n",
       "0  2017-01-02  81.500000  79.150002  80.500000  81.000000  12823600.0   \n",
       "1  2017-01-03  81.550003  80.449997  81.400002  81.050003   7610206.0   \n",
       "2  2017-01-04  84.550003  81.250000  81.500000  83.849998  14148219.0   \n",
       "3  2017-01-05  84.949997  82.800003  84.650002  83.949997  10474833.0   \n",
       "4  2017-01-06  85.699997  83.150002  84.199997  85.300003  10508449.0   \n",
       "\n",
       "   Adj Close   Company Exchange  \n",
       "0  81.000000  ASHOKLEY      NSE  \n",
       "1  81.050003  ASHOKLEY      NSE  \n",
       "2  83.849998  ASHOKLEY      NSE  \n",
       "3  83.949997  ASHOKLEY      NSE  \n",
       "4  85.300003  ASHOKLEY      NSE  "
      ]
     },
     "execution_count": 6,
     "metadata": {},
     "output_type": "execute_result"
    }
   ],
   "source": [
    "ashokley_df = pd.read_csv(\"../../Storage/Companies_with_names_exchange/ASHOKLEYNSE.csv\")\n",
    "ashokley_df.head()"
   ]
  },
  {
   "cell_type": "markdown",
   "metadata": {},
   "source": [
    "- We can see that we have data from 2017-01-02"
   ]
  },
  {
   "cell_type": "markdown",
   "metadata": {},
   "source": [
    "## 3.2. Get ASHOKLEY training data"
   ]
  },
  {
   "cell_type": "markdown",
   "metadata": {},
   "source": [
    "### 3.2.1 Get complete ashokley dataset"
   ]
  },
  {
   "cell_type": "code",
   "execution_count": 7,
   "metadata": {},
   "outputs": [
    {
     "data": {
      "text/html": [
       "<div>\n",
       "<style scoped>\n",
       "    .dataframe tbody tr th:only-of-type {\n",
       "        vertical-align: middle;\n",
       "    }\n",
       "\n",
       "    .dataframe tbody tr th {\n",
       "        vertical-align: top;\n",
       "    }\n",
       "\n",
       "    .dataframe thead th {\n",
       "        text-align: right;\n",
       "    }\n",
       "</style>\n",
       "<table border=\"1\" class=\"dataframe\">\n",
       "  <thead>\n",
       "    <tr style=\"text-align: right;\">\n",
       "      <th></th>\n",
       "      <th>Date</th>\n",
       "      <th>Close</th>\n",
       "    </tr>\n",
       "  </thead>\n",
       "  <tbody>\n",
       "    <tr>\n",
       "      <th>0</th>\n",
       "      <td>2017-01-02</td>\n",
       "      <td>81.000000</td>\n",
       "    </tr>\n",
       "    <tr>\n",
       "      <th>1</th>\n",
       "      <td>2017-01-03</td>\n",
       "      <td>81.050003</td>\n",
       "    </tr>\n",
       "    <tr>\n",
       "      <th>2</th>\n",
       "      <td>2017-01-04</td>\n",
       "      <td>83.849998</td>\n",
       "    </tr>\n",
       "    <tr>\n",
       "      <th>3</th>\n",
       "      <td>2017-01-05</td>\n",
       "      <td>83.949997</td>\n",
       "    </tr>\n",
       "    <tr>\n",
       "      <th>4</th>\n",
       "      <td>2017-01-06</td>\n",
       "      <td>85.300003</td>\n",
       "    </tr>\n",
       "  </tbody>\n",
       "</table>\n",
       "</div>"
      ],
      "text/plain": [
       "         Date      Close\n",
       "0  2017-01-02  81.000000\n",
       "1  2017-01-03  81.050003\n",
       "2  2017-01-04  83.849998\n",
       "3  2017-01-05  83.949997\n",
       "4  2017-01-06  85.300003"
      ]
     },
     "execution_count": 7,
     "metadata": {},
     "output_type": "execute_result"
    }
   ],
   "source": [
    "ashokley_df = ashokley_df.drop(columns=['High', 'Low', 'Open', 'Volume', 'Adj Close', 'Company', 'Exchange'])\n",
    "ashokley_df.head()"
   ]
  },
  {
   "cell_type": "markdown",
   "metadata": {},
   "source": [
    "- We can see that the period where the stocks are correlated and co-integration starts from 2018-09-04.\n",
    "- Thus the test data for which we need to make predictions is from 2018-09-04 to when the period ends at 2018-12-03.\n",
    "- We take 1 year's worth of training data for our model, which means that the time period of our training data is from 2017-09-03 to 2018-09-04.\n"
   ]
  },
  {
   "cell_type": "markdown",
   "metadata": {},
   "source": [
    "### 3.2.2. Crop dataset within training range"
   ]
  },
  {
   "cell_type": "code",
   "execution_count": 8,
   "metadata": {},
   "outputs": [
    {
     "data": {
      "text/html": [
       "<div>\n",
       "<style scoped>\n",
       "    .dataframe tbody tr th:only-of-type {\n",
       "        vertical-align: middle;\n",
       "    }\n",
       "\n",
       "    .dataframe tbody tr th {\n",
       "        vertical-align: top;\n",
       "    }\n",
       "\n",
       "    .dataframe thead th {\n",
       "        text-align: right;\n",
       "    }\n",
       "</style>\n",
       "<table border=\"1\" class=\"dataframe\">\n",
       "  <thead>\n",
       "    <tr style=\"text-align: right;\">\n",
       "      <th></th>\n",
       "      <th>Date</th>\n",
       "      <th>Close</th>\n",
       "    </tr>\n",
       "  </thead>\n",
       "  <tbody>\n",
       "    <tr>\n",
       "      <th>166</th>\n",
       "      <td>2017-09-04</td>\n",
       "      <td>113.349998</td>\n",
       "    </tr>\n",
       "    <tr>\n",
       "      <th>167</th>\n",
       "      <td>2017-09-05</td>\n",
       "      <td>113.000000</td>\n",
       "    </tr>\n",
       "    <tr>\n",
       "      <th>168</th>\n",
       "      <td>2017-09-06</td>\n",
       "      <td>112.150002</td>\n",
       "    </tr>\n",
       "    <tr>\n",
       "      <th>169</th>\n",
       "      <td>2017-09-07</td>\n",
       "      <td>111.900002</td>\n",
       "    </tr>\n",
       "    <tr>\n",
       "      <th>170</th>\n",
       "      <td>2017-09-08</td>\n",
       "      <td>115.150002</td>\n",
       "    </tr>\n",
       "  </tbody>\n",
       "</table>\n",
       "</div>"
      ],
      "text/plain": [
       "           Date       Close\n",
       "166  2017-09-04  113.349998\n",
       "167  2017-09-05  113.000000\n",
       "168  2017-09-06  112.150002\n",
       "169  2017-09-07  111.900002\n",
       "170  2017-09-08  115.150002"
      ]
     },
     "execution_count": 8,
     "metadata": {},
     "output_type": "execute_result"
    }
   ],
   "source": [
    "ashokley_df_train = ashokley_df[ashokley_df['Date'] >= '2017-09-03']\n",
    "ashokley_df_train.head()"
   ]
  },
  {
   "cell_type": "code",
   "execution_count": 9,
   "metadata": {},
   "outputs": [
    {
     "data": {
      "text/html": [
       "<div>\n",
       "<style scoped>\n",
       "    .dataframe tbody tr th:only-of-type {\n",
       "        vertical-align: middle;\n",
       "    }\n",
       "\n",
       "    .dataframe tbody tr th {\n",
       "        vertical-align: top;\n",
       "    }\n",
       "\n",
       "    .dataframe thead th {\n",
       "        text-align: right;\n",
       "    }\n",
       "</style>\n",
       "<table border=\"1\" class=\"dataframe\">\n",
       "  <thead>\n",
       "    <tr style=\"text-align: right;\">\n",
       "      <th></th>\n",
       "      <th>Date</th>\n",
       "      <th>Close</th>\n",
       "    </tr>\n",
       "  </thead>\n",
       "  <tbody>\n",
       "    <tr>\n",
       "      <th>412</th>\n",
       "      <td>2018-08-29</td>\n",
       "      <td>131.899994</td>\n",
       "    </tr>\n",
       "    <tr>\n",
       "      <th>413</th>\n",
       "      <td>2018-08-30</td>\n",
       "      <td>130.850006</td>\n",
       "    </tr>\n",
       "    <tr>\n",
       "      <th>414</th>\n",
       "      <td>2018-08-31</td>\n",
       "      <td>129.050003</td>\n",
       "    </tr>\n",
       "    <tr>\n",
       "      <th>415</th>\n",
       "      <td>2018-09-03</td>\n",
       "      <td>133.449997</td>\n",
       "    </tr>\n",
       "    <tr>\n",
       "      <th>416</th>\n",
       "      <td>2018-09-04</td>\n",
       "      <td>127.849998</td>\n",
       "    </tr>\n",
       "  </tbody>\n",
       "</table>\n",
       "</div>"
      ],
      "text/plain": [
       "           Date       Close\n",
       "412  2018-08-29  131.899994\n",
       "413  2018-08-30  130.850006\n",
       "414  2018-08-31  129.050003\n",
       "415  2018-09-03  133.449997\n",
       "416  2018-09-04  127.849998"
      ]
     },
     "execution_count": 9,
     "metadata": {},
     "output_type": "execute_result"
    }
   ],
   "source": [
    "ashokley_df_train = ashokley_df_train[ashokley_df_train['Date'] <= '2018-09-04']\n",
    "ashokley_df_train.tail()"
   ]
  },
  {
   "cell_type": "markdown",
   "metadata": {},
   "source": [
    "### 3.2.3 Get the training data and labels"
   ]
  },
  {
   "cell_type": "code",
   "execution_count": 10,
   "metadata": {},
   "outputs": [
    {
     "data": {
      "text/html": [
       "<div>\n",
       "<style scoped>\n",
       "    .dataframe tbody tr th:only-of-type {\n",
       "        vertical-align: middle;\n",
       "    }\n",
       "\n",
       "    .dataframe tbody tr th {\n",
       "        vertical-align: top;\n",
       "    }\n",
       "\n",
       "    .dataframe thead th {\n",
       "        text-align: right;\n",
       "    }\n",
       "</style>\n",
       "<table border=\"1\" class=\"dataframe\">\n",
       "  <thead>\n",
       "    <tr style=\"text-align: right;\">\n",
       "      <th></th>\n",
       "      <th>Date</th>\n",
       "      <th>Close</th>\n",
       "    </tr>\n",
       "  </thead>\n",
       "  <tbody>\n",
       "    <tr>\n",
       "      <th>166</th>\n",
       "      <td>2017-09-04</td>\n",
       "      <td>113.349998</td>\n",
       "    </tr>\n",
       "    <tr>\n",
       "      <th>167</th>\n",
       "      <td>2017-09-05</td>\n",
       "      <td>113.000000</td>\n",
       "    </tr>\n",
       "    <tr>\n",
       "      <th>168</th>\n",
       "      <td>2017-09-06</td>\n",
       "      <td>112.150002</td>\n",
       "    </tr>\n",
       "    <tr>\n",
       "      <th>169</th>\n",
       "      <td>2017-09-07</td>\n",
       "      <td>111.900002</td>\n",
       "    </tr>\n",
       "    <tr>\n",
       "      <th>170</th>\n",
       "      <td>2017-09-08</td>\n",
       "      <td>115.150002</td>\n",
       "    </tr>\n",
       "    <tr>\n",
       "      <th>...</th>\n",
       "      <td>...</td>\n",
       "      <td>...</td>\n",
       "    </tr>\n",
       "    <tr>\n",
       "      <th>412</th>\n",
       "      <td>2018-08-29</td>\n",
       "      <td>131.899994</td>\n",
       "    </tr>\n",
       "    <tr>\n",
       "      <th>413</th>\n",
       "      <td>2018-08-30</td>\n",
       "      <td>130.850006</td>\n",
       "    </tr>\n",
       "    <tr>\n",
       "      <th>414</th>\n",
       "      <td>2018-08-31</td>\n",
       "      <td>129.050003</td>\n",
       "    </tr>\n",
       "    <tr>\n",
       "      <th>415</th>\n",
       "      <td>2018-09-03</td>\n",
       "      <td>133.449997</td>\n",
       "    </tr>\n",
       "    <tr>\n",
       "      <th>416</th>\n",
       "      <td>2018-09-04</td>\n",
       "      <td>127.849998</td>\n",
       "    </tr>\n",
       "  </tbody>\n",
       "</table>\n",
       "<p>251 rows × 2 columns</p>\n",
       "</div>"
      ],
      "text/plain": [
       "           Date       Close\n",
       "166  2017-09-04  113.349998\n",
       "167  2017-09-05  113.000000\n",
       "168  2017-09-06  112.150002\n",
       "169  2017-09-07  111.900002\n",
       "170  2017-09-08  115.150002\n",
       "..          ...         ...\n",
       "412  2018-08-29  131.899994\n",
       "413  2018-08-30  130.850006\n",
       "414  2018-08-31  129.050003\n",
       "415  2018-09-03  133.449997\n",
       "416  2018-09-04  127.849998\n",
       "\n",
       "[251 rows x 2 columns]"
      ]
     },
     "execution_count": 10,
     "metadata": {},
     "output_type": "execute_result"
    }
   ],
   "source": [
    "ashokley_train = ashokley_df_train.copy()\n",
    "ashokley_train"
   ]
  },
  {
   "cell_type": "code",
   "execution_count": 11,
   "metadata": {},
   "outputs": [
    {
     "data": {
      "text/plain": [
       "0      113.349998\n",
       "1      113.000000\n",
       "2      112.150002\n",
       "3      111.900002\n",
       "4      115.150002\n",
       "          ...    \n",
       "246    131.899994\n",
       "247    130.850006\n",
       "248    129.050003\n",
       "249    133.449997\n",
       "250    127.849998\n",
       "Name: Close, Length: 251, dtype: float64"
      ]
     },
     "execution_count": 11,
     "metadata": {},
     "output_type": "execute_result"
    }
   ],
   "source": [
    "ashokley_train = ashokley_train.reset_index(drop=True)\n",
    "ashokley_train = ashokley_train['Close']\n",
    "ashokley_train"
   ]
  },
  {
   "cell_type": "code",
   "execution_count": 12,
   "metadata": {},
   "outputs": [
    {
     "data": {
      "text/plain": [
       "251"
      ]
     },
     "execution_count": 12,
     "metadata": {},
     "output_type": "execute_result"
    }
   ],
   "source": [
    "len(ashokley_train)"
   ]
  },
  {
   "cell_type": "markdown",
   "metadata": {},
   "source": [
    "## 3.3. Get ASHOKLEY Test Data"
   ]
  },
  {
   "cell_type": "code",
   "execution_count": 13,
   "metadata": {},
   "outputs": [
    {
     "data": {
      "text/html": [
       "<div>\n",
       "<style scoped>\n",
       "    .dataframe tbody tr th:only-of-type {\n",
       "        vertical-align: middle;\n",
       "    }\n",
       "\n",
       "    .dataframe tbody tr th {\n",
       "        vertical-align: top;\n",
       "    }\n",
       "\n",
       "    .dataframe thead th {\n",
       "        text-align: right;\n",
       "    }\n",
       "</style>\n",
       "<table border=\"1\" class=\"dataframe\">\n",
       "  <thead>\n",
       "    <tr style=\"text-align: right;\">\n",
       "      <th></th>\n",
       "      <th>Date</th>\n",
       "      <th>Close</th>\n",
       "    </tr>\n",
       "  </thead>\n",
       "  <tbody>\n",
       "    <tr>\n",
       "      <th>416</th>\n",
       "      <td>2018-09-04</td>\n",
       "      <td>127.849998</td>\n",
       "    </tr>\n",
       "    <tr>\n",
       "      <th>417</th>\n",
       "      <td>2018-09-05</td>\n",
       "      <td>127.449997</td>\n",
       "    </tr>\n",
       "    <tr>\n",
       "      <th>418</th>\n",
       "      <td>2018-09-06</td>\n",
       "      <td>129.699997</td>\n",
       "    </tr>\n",
       "    <tr>\n",
       "      <th>419</th>\n",
       "      <td>2018-09-07</td>\n",
       "      <td>132.000000</td>\n",
       "    </tr>\n",
       "    <tr>\n",
       "      <th>420</th>\n",
       "      <td>2018-09-10</td>\n",
       "      <td>129.649994</td>\n",
       "    </tr>\n",
       "  </tbody>\n",
       "</table>\n",
       "</div>"
      ],
      "text/plain": [
       "           Date       Close\n",
       "416  2018-09-04  127.849998\n",
       "417  2018-09-05  127.449997\n",
       "418  2018-09-06  129.699997\n",
       "419  2018-09-07  132.000000\n",
       "420  2018-09-10  129.649994"
      ]
     },
     "execution_count": 13,
     "metadata": {},
     "output_type": "execute_result"
    }
   ],
   "source": [
    "ashokley_test_df = orders_df.copy()\n",
    "ashokley_test_df = ashokley_df[(ashokley_df['Date'] >= '2018-09-04') & (ashokley_df['Date'] <= '2018-12-03')].copy()\n",
    "ashokley_test_df.head()"
   ]
  },
  {
   "cell_type": "code",
   "execution_count": 14,
   "metadata": {},
   "outputs": [
    {
     "data": {
      "text/html": [
       "<div>\n",
       "<style scoped>\n",
       "    .dataframe tbody tr th:only-of-type {\n",
       "        vertical-align: middle;\n",
       "    }\n",
       "\n",
       "    .dataframe tbody tr th {\n",
       "        vertical-align: top;\n",
       "    }\n",
       "\n",
       "    .dataframe thead th {\n",
       "        text-align: right;\n",
       "    }\n",
       "</style>\n",
       "<table border=\"1\" class=\"dataframe\">\n",
       "  <thead>\n",
       "    <tr style=\"text-align: right;\">\n",
       "      <th></th>\n",
       "      <th>Date</th>\n",
       "      <th>Close</th>\n",
       "    </tr>\n",
       "  </thead>\n",
       "  <tbody>\n",
       "    <tr>\n",
       "      <th>470</th>\n",
       "      <td>2018-11-27</td>\n",
       "      <td>110.300003</td>\n",
       "    </tr>\n",
       "    <tr>\n",
       "      <th>471</th>\n",
       "      <td>2018-11-28</td>\n",
       "      <td>108.349998</td>\n",
       "    </tr>\n",
       "    <tr>\n",
       "      <th>472</th>\n",
       "      <td>2018-11-29</td>\n",
       "      <td>110.150002</td>\n",
       "    </tr>\n",
       "    <tr>\n",
       "      <th>473</th>\n",
       "      <td>2018-11-30</td>\n",
       "      <td>112.349998</td>\n",
       "    </tr>\n",
       "    <tr>\n",
       "      <th>474</th>\n",
       "      <td>2018-12-03</td>\n",
       "      <td>107.150002</td>\n",
       "    </tr>\n",
       "  </tbody>\n",
       "</table>\n",
       "</div>"
      ],
      "text/plain": [
       "           Date       Close\n",
       "470  2018-11-27  110.300003\n",
       "471  2018-11-28  108.349998\n",
       "472  2018-11-29  110.150002\n",
       "473  2018-11-30  112.349998\n",
       "474  2018-12-03  107.150002"
      ]
     },
     "execution_count": 14,
     "metadata": {},
     "output_type": "execute_result"
    }
   ],
   "source": [
    "ashokley_test_df.tail()"
   ]
  },
  {
   "cell_type": "code",
   "execution_count": 15,
   "metadata": {},
   "outputs": [
    {
     "data": {
      "text/html": [
       "<div>\n",
       "<style scoped>\n",
       "    .dataframe tbody tr th:only-of-type {\n",
       "        vertical-align: middle;\n",
       "    }\n",
       "\n",
       "    .dataframe tbody tr th {\n",
       "        vertical-align: top;\n",
       "    }\n",
       "\n",
       "    .dataframe thead th {\n",
       "        text-align: right;\n",
       "    }\n",
       "</style>\n",
       "<table border=\"1\" class=\"dataframe\">\n",
       "  <thead>\n",
       "    <tr style=\"text-align: right;\">\n",
       "      <th></th>\n",
       "      <th>Date</th>\n",
       "      <th>Close</th>\n",
       "    </tr>\n",
       "  </thead>\n",
       "  <tbody>\n",
       "    <tr>\n",
       "      <th>251</th>\n",
       "      <td>2018-09-04</td>\n",
       "      <td>127.849998</td>\n",
       "    </tr>\n",
       "    <tr>\n",
       "      <th>252</th>\n",
       "      <td>2018-09-05</td>\n",
       "      <td>127.449997</td>\n",
       "    </tr>\n",
       "    <tr>\n",
       "      <th>253</th>\n",
       "      <td>2018-09-06</td>\n",
       "      <td>129.699997</td>\n",
       "    </tr>\n",
       "    <tr>\n",
       "      <th>254</th>\n",
       "      <td>2018-09-07</td>\n",
       "      <td>132.000000</td>\n",
       "    </tr>\n",
       "    <tr>\n",
       "      <th>255</th>\n",
       "      <td>2018-09-10</td>\n",
       "      <td>129.649994</td>\n",
       "    </tr>\n",
       "  </tbody>\n",
       "</table>\n",
       "</div>"
      ],
      "text/plain": [
       "           Date       Close\n",
       "251  2018-09-04  127.849998\n",
       "252  2018-09-05  127.449997\n",
       "253  2018-09-06  129.699997\n",
       "254  2018-09-07  132.000000\n",
       "255  2018-09-10  129.649994"
      ]
     },
     "execution_count": 15,
     "metadata": {},
     "output_type": "execute_result"
    }
   ],
   "source": [
    "ashokley_test = ashokley_test_df.copy()\n",
    "ashokley_test.reset_index(drop=True, inplace=True)\n",
    "ashokley_test.index += 251\n",
    "ashokley_test.head()"
   ]
  },
  {
   "cell_type": "code",
   "execution_count": 16,
   "metadata": {},
   "outputs": [
    {
     "data": {
      "text/html": [
       "<div>\n",
       "<style scoped>\n",
       "    .dataframe tbody tr th:only-of-type {\n",
       "        vertical-align: middle;\n",
       "    }\n",
       "\n",
       "    .dataframe tbody tr th {\n",
       "        vertical-align: top;\n",
       "    }\n",
       "\n",
       "    .dataframe thead th {\n",
       "        text-align: right;\n",
       "    }\n",
       "</style>\n",
       "<table border=\"1\" class=\"dataframe\">\n",
       "  <thead>\n",
       "    <tr style=\"text-align: right;\">\n",
       "      <th></th>\n",
       "      <th>Date</th>\n",
       "      <th>Close</th>\n",
       "    </tr>\n",
       "  </thead>\n",
       "  <tbody>\n",
       "    <tr>\n",
       "      <th>305</th>\n",
       "      <td>2018-11-27</td>\n",
       "      <td>110.300003</td>\n",
       "    </tr>\n",
       "    <tr>\n",
       "      <th>306</th>\n",
       "      <td>2018-11-28</td>\n",
       "      <td>108.349998</td>\n",
       "    </tr>\n",
       "    <tr>\n",
       "      <th>307</th>\n",
       "      <td>2018-11-29</td>\n",
       "      <td>110.150002</td>\n",
       "    </tr>\n",
       "    <tr>\n",
       "      <th>308</th>\n",
       "      <td>2018-11-30</td>\n",
       "      <td>112.349998</td>\n",
       "    </tr>\n",
       "    <tr>\n",
       "      <th>309</th>\n",
       "      <td>2018-12-03</td>\n",
       "      <td>107.150002</td>\n",
       "    </tr>\n",
       "  </tbody>\n",
       "</table>\n",
       "</div>"
      ],
      "text/plain": [
       "           Date       Close\n",
       "305  2018-11-27  110.300003\n",
       "306  2018-11-28  108.349998\n",
       "307  2018-11-29  110.150002\n",
       "308  2018-11-30  112.349998\n",
       "309  2018-12-03  107.150002"
      ]
     },
     "execution_count": 16,
     "metadata": {},
     "output_type": "execute_result"
    }
   ],
   "source": [
    "ashokley_test.tail()"
   ]
  },
  {
   "cell_type": "code",
   "execution_count": 17,
   "metadata": {},
   "outputs": [],
   "source": [
    "ashokley_test = ashokley_test['Close']"
   ]
  },
  {
   "cell_type": "code",
   "execution_count": 18,
   "metadata": {},
   "outputs": [
    {
     "data": {
      "text/plain": [
       "59"
      ]
     },
     "execution_count": 18,
     "metadata": {},
     "output_type": "execute_result"
    }
   ],
   "source": [
    "len(ashokley_test)"
   ]
  },
  {
   "cell_type": "markdown",
   "metadata": {},
   "source": [
    "## 3.4 Create and Train ASHOKLEY Model"
   ]
  },
  {
   "cell_type": "code",
   "execution_count": 19,
   "metadata": {},
   "outputs": [
    {
     "name": "stdout",
     "output_type": "stream",
     "text": [
      "Performing stepwise search to minimize aic\n",
      " ARIMA(1,1,1)(0,1,1)[12]             : AIC=inf, Time=3.88 sec\n",
      " ARIMA(0,1,0)(0,1,0)[12]             : AIC=1362.389, Time=0.06 sec\n",
      " ARIMA(1,1,0)(1,1,0)[12]             : AIC=1303.580, Time=0.40 sec\n",
      " ARIMA(0,1,1)(0,1,1)[12]             : AIC=inf, Time=2.64 sec\n",
      " ARIMA(1,1,0)(0,1,0)[12]             : AIC=1363.763, Time=0.08 sec\n",
      " ARIMA(1,1,0)(2,1,0)[12]             : AIC=1280.241, Time=0.96 sec\n",
      " ARIMA(1,1,0)(2,1,1)[12]             : AIC=inf, Time=5.44 sec\n",
      " ARIMA(1,1,0)(1,1,1)[12]             : AIC=inf, Time=3.05 sec\n",
      " ARIMA(0,1,0)(2,1,0)[12]             : AIC=1278.245, Time=0.66 sec\n",
      " ARIMA(0,1,0)(1,1,0)[12]             : AIC=1301.718, Time=0.20 sec\n",
      " ARIMA(0,1,0)(2,1,1)[12]             : AIC=inf, Time=3.50 sec\n",
      " ARIMA(0,1,0)(1,1,1)[12]             : AIC=inf, Time=2.68 sec\n",
      " ARIMA(0,1,1)(2,1,0)[12]             : AIC=1280.241, Time=0.89 sec\n",
      " ARIMA(1,1,1)(2,1,0)[12]             : AIC=inf, Time=7.80 sec\n",
      " ARIMA(0,1,0)(2,1,0)[12] intercept   : AIC=1280.220, Time=2.35 sec\n",
      "\n",
      "Best model:  ARIMA(0,1,0)(2,1,0)[12]          \n",
      "Total fit time: 34.614 seconds\n"
     ]
    },
    {
     "data": {
      "text/plain": [
       "ARIMA(order=(0, 1, 0), scoring_args={}, seasonal_order=(2, 1, 0, 12),\n",
       "      suppress_warnings=True, with_intercept=False)"
      ]
     },
     "execution_count": 19,
     "metadata": {},
     "output_type": "execute_result"
    }
   ],
   "source": [
    "model = auto_arima(ashokley_train, start_p=1, start_q=1,max_p=3, max_q=3, m=12,start_P=0, seasonal=True,d=1, D=1, trace=True, error_action='ignore', suppress_warnings=True)\n",
    "model.fit(ashokley_train)"
   ]
  },
  {
   "cell_type": "markdown",
   "metadata": {},
   "source": [
    "## 3.5. Get predictions"
   ]
  },
  {
   "cell_type": "code",
   "execution_count": 20,
   "metadata": {},
   "outputs": [
    {
     "data": {
      "text/html": [
       "<div>\n",
       "<style scoped>\n",
       "    .dataframe tbody tr th:only-of-type {\n",
       "        vertical-align: middle;\n",
       "    }\n",
       "\n",
       "    .dataframe tbody tr th {\n",
       "        vertical-align: top;\n",
       "    }\n",
       "\n",
       "    .dataframe thead th {\n",
       "        text-align: right;\n",
       "    }\n",
       "</style>\n",
       "<table border=\"1\" class=\"dataframe\">\n",
       "  <thead>\n",
       "    <tr style=\"text-align: right;\">\n",
       "      <th></th>\n",
       "      <th>Prediction</th>\n",
       "    </tr>\n",
       "  </thead>\n",
       "  <tbody>\n",
       "    <tr>\n",
       "      <th>251</th>\n",
       "      <td>128.025796</td>\n",
       "    </tr>\n",
       "    <tr>\n",
       "      <th>252</th>\n",
       "      <td>127.611621</td>\n",
       "    </tr>\n",
       "    <tr>\n",
       "      <th>253</th>\n",
       "      <td>129.149894</td>\n",
       "    </tr>\n",
       "    <tr>\n",
       "      <th>254</th>\n",
       "      <td>123.576205</td>\n",
       "    </tr>\n",
       "    <tr>\n",
       "      <th>255</th>\n",
       "      <td>120.873591</td>\n",
       "    </tr>\n",
       "    <tr>\n",
       "      <th>256</th>\n",
       "      <td>123.130803</td>\n",
       "    </tr>\n",
       "    <tr>\n",
       "      <th>257</th>\n",
       "      <td>125.468585</td>\n",
       "    </tr>\n",
       "    <tr>\n",
       "      <th>258</th>\n",
       "      <td>127.685458</td>\n",
       "    </tr>\n",
       "    <tr>\n",
       "      <th>259</th>\n",
       "      <td>125.899847</td>\n",
       "    </tr>\n",
       "    <tr>\n",
       "      <th>260</th>\n",
       "      <td>125.286237</td>\n",
       "    </tr>\n",
       "    <tr>\n",
       "      <th>261</th>\n",
       "      <td>127.221978</td>\n",
       "    </tr>\n",
       "    <tr>\n",
       "      <th>262</th>\n",
       "      <td>125.422256</td>\n",
       "    </tr>\n",
       "    <tr>\n",
       "      <th>263</th>\n",
       "      <td>126.093696</td>\n",
       "    </tr>\n",
       "    <tr>\n",
       "      <th>264</th>\n",
       "      <td>128.022561</td>\n",
       "    </tr>\n",
       "    <tr>\n",
       "      <th>265</th>\n",
       "      <td>129.136564</td>\n",
       "    </tr>\n",
       "    <tr>\n",
       "      <th>266</th>\n",
       "      <td>127.668363</td>\n",
       "    </tr>\n",
       "    <tr>\n",
       "      <th>267</th>\n",
       "      <td>125.781528</td>\n",
       "    </tr>\n",
       "    <tr>\n",
       "      <th>268</th>\n",
       "      <td>128.151713</td>\n",
       "    </tr>\n",
       "    <tr>\n",
       "      <th>269</th>\n",
       "      <td>130.896111</td>\n",
       "    </tr>\n",
       "    <tr>\n",
       "      <th>270</th>\n",
       "      <td>132.725763</td>\n",
       "    </tr>\n",
       "    <tr>\n",
       "      <th>271</th>\n",
       "      <td>131.202007</td>\n",
       "    </tr>\n",
       "    <tr>\n",
       "      <th>272</th>\n",
       "      <td>129.722048</td>\n",
       "    </tr>\n",
       "    <tr>\n",
       "      <th>273</th>\n",
       "      <td>131.945852</td>\n",
       "    </tr>\n",
       "    <tr>\n",
       "      <th>274</th>\n",
       "      <td>129.628555</td>\n",
       "    </tr>\n",
       "    <tr>\n",
       "      <th>275</th>\n",
       "      <td>130.648976</td>\n",
       "    </tr>\n",
       "    <tr>\n",
       "      <th>276</th>\n",
       "      <td>131.160275</td>\n",
       "    </tr>\n",
       "    <tr>\n",
       "      <th>277</th>\n",
       "      <td>132.164218</td>\n",
       "    </tr>\n",
       "    <tr>\n",
       "      <th>278</th>\n",
       "      <td>131.131395</td>\n",
       "    </tr>\n",
       "    <tr>\n",
       "      <th>279</th>\n",
       "      <td>128.571728</td>\n",
       "    </tr>\n",
       "    <tr>\n",
       "      <th>280</th>\n",
       "      <td>131.343907</td>\n",
       "    </tr>\n",
       "    <tr>\n",
       "      <th>281</th>\n",
       "      <td>132.850137</td>\n",
       "    </tr>\n",
       "    <tr>\n",
       "      <th>282</th>\n",
       "      <td>134.022548</td>\n",
       "    </tr>\n",
       "    <tr>\n",
       "      <th>283</th>\n",
       "      <td>132.578037</td>\n",
       "    </tr>\n",
       "    <tr>\n",
       "      <th>284</th>\n",
       "      <td>131.262525</td>\n",
       "    </tr>\n",
       "    <tr>\n",
       "      <th>285</th>\n",
       "      <td>134.139530</td>\n",
       "    </tr>\n",
       "    <tr>\n",
       "      <th>286</th>\n",
       "      <td>130.863158</td>\n",
       "    </tr>\n",
       "    <tr>\n",
       "      <th>287</th>\n",
       "      <td>131.484377</td>\n",
       "    </tr>\n",
       "    <tr>\n",
       "      <th>288</th>\n",
       "      <td>132.127334</td>\n",
       "    </tr>\n",
       "    <tr>\n",
       "      <th>289</th>\n",
       "      <td>133.348819</td>\n",
       "    </tr>\n",
       "    <tr>\n",
       "      <th>290</th>\n",
       "      <td>130.625331</td>\n",
       "    </tr>\n",
       "    <tr>\n",
       "      <th>291</th>\n",
       "      <td>128.229498</td>\n",
       "    </tr>\n",
       "    <tr>\n",
       "      <th>292</th>\n",
       "      <td>130.698459</td>\n",
       "    </tr>\n",
       "    <tr>\n",
       "      <th>293</th>\n",
       "      <td>132.880547</td>\n",
       "    </tr>\n",
       "    <tr>\n",
       "      <th>294</th>\n",
       "      <td>134.617966</td>\n",
       "    </tr>\n",
       "    <tr>\n",
       "      <th>295</th>\n",
       "      <td>133.031742</td>\n",
       "    </tr>\n",
       "    <tr>\n",
       "      <th>296</th>\n",
       "      <td>131.904295</td>\n",
       "    </tr>\n",
       "    <tr>\n",
       "      <th>297</th>\n",
       "      <td>134.252863</td>\n",
       "    </tr>\n",
       "    <tr>\n",
       "      <th>298</th>\n",
       "      <td>131.784740</td>\n",
       "    </tr>\n",
       "    <tr>\n",
       "      <th>299</th>\n",
       "      <td>132.549346</td>\n",
       "    </tr>\n",
       "    <tr>\n",
       "      <th>300</th>\n",
       "      <td>133.590470</td>\n",
       "    </tr>\n",
       "    <tr>\n",
       "      <th>301</th>\n",
       "      <td>134.706417</td>\n",
       "    </tr>\n",
       "    <tr>\n",
       "      <th>302</th>\n",
       "      <td>132.946769</td>\n",
       "    </tr>\n",
       "    <tr>\n",
       "      <th>303</th>\n",
       "      <td>130.673220</td>\n",
       "    </tr>\n",
       "    <tr>\n",
       "      <th>304</th>\n",
       "      <td>133.204264</td>\n",
       "    </tr>\n",
       "    <tr>\n",
       "      <th>305</th>\n",
       "      <td>135.364987</td>\n",
       "    </tr>\n",
       "    <tr>\n",
       "      <th>306</th>\n",
       "      <td>136.955318</td>\n",
       "    </tr>\n",
       "    <tr>\n",
       "      <th>307</th>\n",
       "      <td>135.435262</td>\n",
       "    </tr>\n",
       "    <tr>\n",
       "      <th>308</th>\n",
       "      <td>134.127795</td>\n",
       "    </tr>\n",
       "    <tr>\n",
       "      <th>309</th>\n",
       "      <td>136.600763</td>\n",
       "    </tr>\n",
       "  </tbody>\n",
       "</table>\n",
       "</div>"
      ],
      "text/plain": [
       "     Prediction\n",
       "251  128.025796\n",
       "252  127.611621\n",
       "253  129.149894\n",
       "254  123.576205\n",
       "255  120.873591\n",
       "256  123.130803\n",
       "257  125.468585\n",
       "258  127.685458\n",
       "259  125.899847\n",
       "260  125.286237\n",
       "261  127.221978\n",
       "262  125.422256\n",
       "263  126.093696\n",
       "264  128.022561\n",
       "265  129.136564\n",
       "266  127.668363\n",
       "267  125.781528\n",
       "268  128.151713\n",
       "269  130.896111\n",
       "270  132.725763\n",
       "271  131.202007\n",
       "272  129.722048\n",
       "273  131.945852\n",
       "274  129.628555\n",
       "275  130.648976\n",
       "276  131.160275\n",
       "277  132.164218\n",
       "278  131.131395\n",
       "279  128.571728\n",
       "280  131.343907\n",
       "281  132.850137\n",
       "282  134.022548\n",
       "283  132.578037\n",
       "284  131.262525\n",
       "285  134.139530\n",
       "286  130.863158\n",
       "287  131.484377\n",
       "288  132.127334\n",
       "289  133.348819\n",
       "290  130.625331\n",
       "291  128.229498\n",
       "292  130.698459\n",
       "293  132.880547\n",
       "294  134.617966\n",
       "295  133.031742\n",
       "296  131.904295\n",
       "297  134.252863\n",
       "298  131.784740\n",
       "299  132.549346\n",
       "300  133.590470\n",
       "301  134.706417\n",
       "302  132.946769\n",
       "303  130.673220\n",
       "304  133.204264\n",
       "305  135.364987\n",
       "306  136.955318\n",
       "307  135.435262\n",
       "308  134.127795\n",
       "309  136.600763"
      ]
     },
     "execution_count": 20,
     "metadata": {},
     "output_type": "execute_result"
    }
   ],
   "source": [
    "forecast = model.predict(n_periods=len(ashokley_test))\n",
    "forecast = pd.DataFrame(forecast, index = ashokley_test.index, columns=['Prediction'])\n",
    "forecast"
   ]
  },
  {
   "cell_type": "code",
   "execution_count": 21,
   "metadata": {},
   "outputs": [
    {
     "name": "stdout",
     "output_type": "stream",
     "text": [
      "Mean Absolute Error: 14.596826363809276\n",
      "Mean Squared Error: 283.7682122228967\n",
      "Root Mean Squared Error: 16.84542110553775\n"
     ]
    }
   ],
   "source": [
    "predictions = forecast['Prediction']\n",
    "print('Mean Absolute Error:', metrics.mean_absolute_error(ashokley_test, predictions))\n",
    "print('Mean Squared Error:', metrics.mean_squared_error(ashokley_test, predictions))\n",
    "print('Root Mean Squared Error:', np.sqrt(metrics.mean_squared_error(ashokley_test, predictions)))"
   ]
  },
  {
   "cell_type": "markdown",
   "metadata": {},
   "source": [
    "## 3.6. Visualize the predicitons vs test data"
   ]
  },
  {
   "cell_type": "code",
   "execution_count": 22,
   "metadata": {},
   "outputs": [
    {
     "data": {
      "text/plain": [
       "[<matplotlib.lines.Line2D at 0x7f516ede5278>]"
      ]
     },
     "execution_count": 22,
     "metadata": {},
     "output_type": "execute_result"
    },
    {
     "data": {
      "image/png": "[encoded data removed]",
      "text/plain": [
       "<Figure size 2160x1080 with 1 Axes>"
      ]
     },
     "metadata": {
      "needs_background": "light"
     },
     "output_type": "display_data"
    }
   ],
   "source": [
    "ashokley_model_plt = forecast.plot(y=['Prediction'], figsize=(30,15), c='green')\n",
    "ashokley_model_plt.plot(ashokley_train, c='blue')\n",
    "ashokley_model_plt.plot(ashokley_test, c='orange')"
   ]
  },
  {
   "cell_type": "markdown",
   "metadata": {},
   "source": [
    "__In the graph above:__\n",
    "- We can see the training data in blue\n",
    "- The test data in orange\n",
    "- The predictions made by the models in green"
   ]
  },
  {
   "cell_type": "markdown",
   "metadata": {},
   "source": [
    "# 4. Put the results in a file"
   ]
  },
  {
   "cell_type": "code",
   "execution_count": 23,
   "metadata": {},
   "outputs": [
    {
     "data": {
      "text/html": [
       "<div>\n",
       "<style scoped>\n",
       "    .dataframe tbody tr th:only-of-type {\n",
       "        vertical-align: middle;\n",
       "    }\n",
       "\n",
       "    .dataframe tbody tr th {\n",
       "        vertical-align: top;\n",
       "    }\n",
       "\n",
       "    .dataframe thead th {\n",
       "        text-align: right;\n",
       "    }\n",
       "</style>\n",
       "<table border=\"1\" class=\"dataframe\">\n",
       "  <thead>\n",
       "    <tr style=\"text-align: right;\">\n",
       "      <th></th>\n",
       "      <th>Date</th>\n",
       "      <th>Actual_Close</th>\n",
       "      <th>Linear_regression_Close</th>\n",
       "    </tr>\n",
       "  </thead>\n",
       "  <tbody>\n",
       "    <tr>\n",
       "      <th>0</th>\n",
       "      <td>2019-05-17</td>\n",
       "      <td>84.500000</td>\n",
       "      <td>120.973240</td>\n",
       "    </tr>\n",
       "    <tr>\n",
       "      <th>1</th>\n",
       "      <td>2019-05-20</td>\n",
       "      <td>87.550003</td>\n",
       "      <td>120.949883</td>\n",
       "    </tr>\n",
       "    <tr>\n",
       "      <th>2</th>\n",
       "      <td>2019-05-21</td>\n",
       "      <td>88.250000</td>\n",
       "      <td>120.926525</td>\n",
       "    </tr>\n",
       "    <tr>\n",
       "      <th>3</th>\n",
       "      <td>2019-05-22</td>\n",
       "      <td>87.849998</td>\n",
       "      <td>120.903168</td>\n",
       "    </tr>\n",
       "    <tr>\n",
       "      <th>4</th>\n",
       "      <td>2019-05-23</td>\n",
       "      <td>88.849998</td>\n",
       "      <td>120.150063</td>\n",
       "    </tr>\n",
       "  </tbody>\n",
       "</table>\n",
       "</div>"
      ],
      "text/plain": [
       "         Date  Actual_Close  Linear_regression_Close\n",
       "0  2019-05-17     84.500000               120.973240\n",
       "1  2019-05-20     87.550003               120.949883\n",
       "2  2019-05-21     88.250000               120.926525\n",
       "3  2019-05-22     87.849998               120.903168\n",
       "4  2019-05-23     88.849998               120.150063"
      ]
     },
     "execution_count": 23,
     "metadata": {},
     "output_type": "execute_result"
    }
   ],
   "source": [
    "ashokley_predictions_df = pd.read_csv('Ashokley_predicitions.csv')\n",
    "ashokley_predictions_df.head()"
   ]
  },
  {
   "cell_type": "code",
   "execution_count": 24,
   "metadata": {},
   "outputs": [
    {
     "data": {
      "text/html": [
       "<div>\n",
       "<style scoped>\n",
       "    .dataframe tbody tr th:only-of-type {\n",
       "        vertical-align: middle;\n",
       "    }\n",
       "\n",
       "    .dataframe tbody tr th {\n",
       "        vertical-align: top;\n",
       "    }\n",
       "\n",
       "    .dataframe thead th {\n",
       "        text-align: right;\n",
       "    }\n",
       "</style>\n",
       "<table border=\"1\" class=\"dataframe\">\n",
       "  <thead>\n",
       "    <tr style=\"text-align: right;\">\n",
       "      <th></th>\n",
       "      <th>Date</th>\n",
       "      <th>Actual_Close</th>\n",
       "      <th>Linear_regression_Close</th>\n",
       "      <th>ARIMA_Close</th>\n",
       "    </tr>\n",
       "  </thead>\n",
       "  <tbody>\n",
       "    <tr>\n",
       "      <th>0</th>\n",
       "      <td>2019-05-17</td>\n",
       "      <td>84.500000</td>\n",
       "      <td>120.973240</td>\n",
       "      <td>128.025796</td>\n",
       "    </tr>\n",
       "    <tr>\n",
       "      <th>1</th>\n",
       "      <td>2019-05-20</td>\n",
       "      <td>87.550003</td>\n",
       "      <td>120.949883</td>\n",
       "      <td>127.611621</td>\n",
       "    </tr>\n",
       "    <tr>\n",
       "      <th>2</th>\n",
       "      <td>2019-05-21</td>\n",
       "      <td>88.250000</td>\n",
       "      <td>120.926525</td>\n",
       "      <td>129.149894</td>\n",
       "    </tr>\n",
       "    <tr>\n",
       "      <th>3</th>\n",
       "      <td>2019-05-22</td>\n",
       "      <td>87.849998</td>\n",
       "      <td>120.903168</td>\n",
       "      <td>123.576205</td>\n",
       "    </tr>\n",
       "    <tr>\n",
       "      <th>4</th>\n",
       "      <td>2019-05-23</td>\n",
       "      <td>88.849998</td>\n",
       "      <td>120.150063</td>\n",
       "      <td>120.873591</td>\n",
       "    </tr>\n",
       "  </tbody>\n",
       "</table>\n",
       "</div>"
      ],
      "text/plain": [
       "         Date  Actual_Close  Linear_regression_Close  ARIMA_Close\n",
       "0  2019-05-17     84.500000               120.973240   128.025796\n",
       "1  2019-05-20     87.550003               120.949883   127.611621\n",
       "2  2019-05-21     88.250000               120.926525   129.149894\n",
       "3  2019-05-22     87.849998               120.903168   123.576205\n",
       "4  2019-05-23     88.849998               120.150063   120.873591"
      ]
     },
     "execution_count": 24,
     "metadata": {},
     "output_type": "execute_result"
    }
   ],
   "source": [
    "forecast = forecast.reset_index()\n",
    "forecast = forecast.drop(columns='index')\n",
    "ashokley_predictions_df['ARIMA_Close'] = forecast['Prediction']\n",
    "ashokley_predictions_df.head()"
   ]
  },
  {
   "cell_type": "code",
   "execution_count": 25,
   "metadata": {},
   "outputs": [],
   "source": [
    "ashokley_predictions_df.to_csv('Ashokley_predicitions.csv', index=False)"
   ]
  },
  {
   "cell_type": "code",
   "execution_count": null,
   "metadata": {},
   "outputs": [],
   "source": []
  }
 ],
 "metadata": {
  "kernelspec": {
   "display_name": "Python 3",
   "language": "python",
   "name": "python3"
  },
  "language_info": {
   "codemirror_mode": {
    "name": "ipython",
    "version": 3
   },
   "file_extension": ".py",
   "mimetype": "text/x-python",
   "name": "python",
   "nbconvert_exporter": "python",
   "pygments_lexer": "ipython3",
   "version": "3.6.9"
  }
 },
 "nbformat": 4,
 "nbformat_minor": 4
}
