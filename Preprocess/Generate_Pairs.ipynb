{
 "cells": [
  {
   "cell_type": "markdown",
   "metadata": {},
   "source": [
    "# Data Analytics Project - Preprocessing\n",
    "\n",
    "# Generation of Correlated and co-integrated pairs in the stock market\n",
    "\n",
    "---"
   ]
  },
  {
   "cell_type": "markdown",
   "metadata": {},
   "source": [
    "# 1. Importing required modules"
   ]
  },
  {
   "cell_type": "code",
   "execution_count": 1,
   "metadata": {},
   "outputs": [],
   "source": [
    "import os\n",
    "import pandas as pd\n",
    "import numpy as np\n",
    "from statsmodels.tsa.stattools import coint"
   ]
  },
  {
   "cell_type": "markdown",
   "metadata": {},
   "source": [
    "---"
   ]
  },
  {
   "cell_type": "markdown",
   "metadata": {},
   "source": [
    "# 2. Defining time window to find correlation and co-integration"
   ]
  },
  {
   "cell_type": "code",
   "execution_count": 2,
   "metadata": {},
   "outputs": [],
   "source": [
    "START_DATE       = '2018-01-07'\n",
    "END_DATE         = '2019-08-28'\n",
    "EVAL_PERIOD      = 90 # days\n",
    "CORR_THRESHOLD   = 0.85\n",
    "COINT_THRESHOLD  = 0.05\n",
    "SPREAD_RANGE     = 500.0\n",
    "SPREAD_RATIO     = 5"
   ]
  },
  {
   "cell_type": "markdown",
   "metadata": {},
   "source": [
    "---"
   ]
  },
  {
   "cell_type": "markdown",
   "metadata": {},
   "source": [
    "# 3. Loading dataframe and defining sectors to make stock pairs"
   ]
  },
  {
   "cell_type": "markdown",
   "metadata": {},
   "source": [
    "## 3.1. Sector tickers file"
   ]
  },
  {
   "cell_type": "code",
   "execution_count": 3,
   "metadata": {},
   "outputs": [
    {
     "data": {
      "text/html": [
       "<div>\n",
       "<style scoped>\n",
       "    .dataframe tbody tr th:only-of-type {\n",
       "        vertical-align: middle;\n",
       "    }\n",
       "\n",
       "    .dataframe tbody tr th {\n",
       "        vertical-align: top;\n",
       "    }\n",
       "\n",
       "    .dataframe thead th {\n",
       "        text-align: right;\n",
       "    }\n",
       "</style>\n",
       "<table border=\"1\" class=\"dataframe\">\n",
       "  <thead>\n",
       "    <tr style=\"text-align: right;\">\n",
       "      <th></th>\n",
       "      <th>Symbol</th>\n",
       "      <th>Company</th>\n",
       "      <th>Sector</th>\n",
       "    </tr>\n",
       "  </thead>\n",
       "  <tbody>\n",
       "    <tr>\n",
       "      <th>0</th>\n",
       "      <td>ABB</td>\n",
       "      <td>ABB India Limited</td>\n",
       "      <td>Heavy Electrical Equipment</td>\n",
       "    </tr>\n",
       "    <tr>\n",
       "      <th>1</th>\n",
       "      <td>AEGISLOG</td>\n",
       "      <td>AEGIS LOGISTICS LTD.</td>\n",
       "      <td>Oil Marketing &amp; Distribution</td>\n",
       "    </tr>\n",
       "    <tr>\n",
       "      <th>2</th>\n",
       "      <td>AMARAJABAT</td>\n",
       "      <td>AMARA RAJA BATTERIES LTD.</td>\n",
       "      <td>Auto Parts &amp; Equipment</td>\n",
       "    </tr>\n",
       "    <tr>\n",
       "      <th>3</th>\n",
       "      <td>AMBALALSA</td>\n",
       "      <td>AMBALAL SARABHAI ENTERPRISES LTD.</td>\n",
       "      <td>Pharmaceuticals</td>\n",
       "    </tr>\n",
       "    <tr>\n",
       "      <th>4</th>\n",
       "      <td>HDFC</td>\n",
       "      <td>HOUSING DEVELOPMENT FINANCE CORP.LTD.</td>\n",
       "      <td>Housing Finance</td>\n",
       "    </tr>\n",
       "  </tbody>\n",
       "</table>\n",
       "</div>"
      ],
      "text/plain": [
       "       Symbol                                Company  \\\n",
       "0         ABB                      ABB India Limited   \n",
       "1    AEGISLOG                   AEGIS LOGISTICS LTD.   \n",
       "2  AMARAJABAT              AMARA RAJA BATTERIES LTD.   \n",
       "3   AMBALALSA      AMBALAL SARABHAI ENTERPRISES LTD.   \n",
       "4        HDFC  HOUSING DEVELOPMENT FINANCE CORP.LTD.   \n",
       "\n",
       "                         Sector  \n",
       "0    Heavy Electrical Equipment  \n",
       "1  Oil Marketing & Distribution  \n",
       "2        Auto Parts & Equipment  \n",
       "3               Pharmaceuticals  \n",
       "4              Housing Finance   "
      ]
     },
     "execution_count": 3,
     "metadata": {},
     "output_type": "execute_result"
    }
   ],
   "source": [
    "sector_tickers = pd.read_csv('../Storage/stocks_by_sectors.csv')\n",
    "sector_tickers.head()"
   ]
  },
  {
   "cell_type": "markdown",
   "metadata": {},
   "source": [
    "## 3.2. Creating the Pairs DataFrame"
   ]
  },
  {
   "cell_type": "code",
   "execution_count": 4,
   "metadata": {},
   "outputs": [
    {
     "data": {
      "text/html": [
       "<div>\n",
       "<style scoped>\n",
       "    .dataframe tbody tr th:only-of-type {\n",
       "        vertical-align: middle;\n",
       "    }\n",
       "\n",
       "    .dataframe tbody tr th {\n",
       "        vertical-align: top;\n",
       "    }\n",
       "\n",
       "    .dataframe thead th {\n",
       "        text-align: right;\n",
       "    }\n",
       "</style>\n",
       "<table border=\"1\" class=\"dataframe\">\n",
       "  <thead>\n",
       "    <tr style=\"text-align: right;\">\n",
       "      <th></th>\n",
       "      <th>Symbol_1</th>\n",
       "      <th>Symbol_2</th>\n",
       "      <th>StartDate</th>\n",
       "      <th>EndDate</th>\n",
       "      <th>Correlation</th>\n",
       "      <th>PValue</th>\n",
       "    </tr>\n",
       "  </thead>\n",
       "  <tbody>\n",
       "  </tbody>\n",
       "</table>\n",
       "</div>"
      ],
      "text/plain": [
       "Empty DataFrame\n",
       "Columns: [Symbol_1, Symbol_2, StartDate, EndDate, Correlation, PValue]\n",
       "Index: []"
      ]
     },
     "execution_count": 4,
     "metadata": {},
     "output_type": "execute_result"
    }
   ],
   "source": [
    "pairs_df = pd.DataFrame(columns = ['Symbol_1', 'Symbol_2', 'StartDate', 'EndDate', 'Correlation', 'PValue'])\n",
    "pairs_df"
   ]
  },
  {
   "cell_type": "markdown",
   "metadata": {},
   "source": [
    "## 3.3. Defining Sectors of the stock market to make pairs"
   ]
  },
  {
   "cell_type": "code",
   "execution_count": 5,
   "metadata": {},
   "outputs": [
    {
     "name": "stdout",
     "output_type": "stream",
     "text": [
      "Number of sectors: 2\n"
     ]
    }
   ],
   "source": [
    "# sectors = set(sector_tickers['Sector'].to_list())\n",
    "sectors = ['2/3 Wheelers', 'Commercial Vehicles']\n",
    "print(\"Number of sectors:\", len(sectors))"
   ]
  },
  {
   "cell_type": "markdown",
   "metadata": {},
   "source": [
    "---"
   ]
  },
  {
   "cell_type": "markdown",
   "metadata": {},
   "source": [
    "# 4. Calculating z-score"
   ]
  },
  {
   "cell_type": "code",
   "execution_count": 6,
   "metadata": {},
   "outputs": [],
   "source": [
    "def zscore(data):\n",
    "    return (data - data.mean())/np.std(data)"
   ]
  },
  {
   "cell_type": "markdown",
   "metadata": {},
   "source": [
    "---"
   ]
  },
  {
   "cell_type": "markdown",
   "metadata": {},
   "source": [
    "# 5. Creating pairs"
   ]
  },
  {
   "cell_type": "code",
   "execution_count": 7,
   "metadata": {},
   "outputs": [],
   "source": [
    "# Go through all sectors\n",
    "for sector in sectors:\n",
    "    \n",
    "#     print('------------------------------------------------\\n')\n",
    "#     print(sector+'\\n')\n",
    "#     print('------------------------------------------------\\n')\n",
    "    \n",
    "    # Getting stocks in a particular sector\n",
    "    sector_df = sector_tickers[sector_tickers.Sector == sector]\n",
    "    \n",
    "#     print(sector_df.head())\n",
    "    \n",
    "    # Get list of all stock tickers of a sector\n",
    "    companies = sector_df['Symbol'].tolist()\n",
    "    \n",
    "    # Go through all companies in a sector\n",
    "    for i in range(len(companies)):\n",
    "        \n",
    "        # Chosing first company in pair\n",
    "        symbol1 = companies[i]\n",
    "        \n",
    "        # If data for company not available, move to the next iteration\n",
    "        if not os.path.isfile('../Storage/Companies_with_names_exchange/' + symbol1 + 'NSE.csv'):\n",
    "            continue\n",
    "        \n",
    "        # Go through all other companies to make pairs\n",
    "        for j in range(i + 1, len(companies)):\n",
    "            \n",
    "            # Chosing second company in pair\n",
    "            symbol2 = companies[j]\n",
    "            \n",
    "            if not os.path.isfile('../Storage/Companies_with_names_exchange/' + symbol2 + 'NSE.csv'):\n",
    "                continue\n",
    "            \n",
    "            # Get dataframes of both csvs\n",
    "            symbol1_df = pd.read_csv('../Storage/Companies_with_names_exchange/' + symbol1 + 'NSE.csv')\n",
    "            symbol2_df = pd.read_csv('../Storage/Companies_with_names_exchange/' + symbol2 + 'NSE.csv')\n",
    "            \n",
    "            # eliminate all data before '2018-12-01'\n",
    "            symbol1_df = symbol1_df[symbol1_df.Date >= START_DATE]\n",
    "            symbol2_df = symbol2_df[symbol2_df.Date >= START_DATE]\n",
    "            \n",
    "            # drop columns 'High', 'Low', 'Open', 'Adj Close', 'Volume'\n",
    "            symbol1_df = symbol1_df.drop(columns=['High', 'Low', 'Open', 'Adj Close', 'Volume'])\n",
    "            symbol2_df = symbol2_df.drop(columns=['High', 'Low', 'Open', 'Adj Close', 'Volume'])\n",
    "            \n",
    "            # rename 'Close' column\n",
    "            symbol1_df = symbol1_df.rename(columns={'Close': symbol1 + '_Close'})\n",
    "            symbol2_df = symbol2_df.rename(columns={'Close': symbol2 + '_Close'})\n",
    "            \n",
    "            # set_index to Date\n",
    "            symbol1_df = symbol1_df.set_index(keys=['Date'])\n",
    "            symbol2_df = symbol2_df.set_index(keys=['Date'])\n",
    "            \n",
    "            # drop company and exchange columns\n",
    "            symbol1_df = symbol1_df.drop(columns=['Company', 'Exchange'])\n",
    "            symbol2_df = symbol2_df.drop(columns=['Company', 'Exchange'])\n",
    "            \n",
    "            if len(symbol1_df) != len(symbol2_df):\n",
    "                continue\n",
    "            \n",
    "            # join both symbols into a signle pair_df\n",
    "            master_pair_df = symbol1_df.join(symbol2_df)\n",
    "            \n",
    "            if (master_pair_df[symbol1+'_Close'].mean() / master_pair_df[symbol2+'_Close'].mean()) >= SPREAD_RATIO:\n",
    "                continue\n",
    "            \n",
    "            # reset_index\n",
    "            master_pair_df = master_pair_df.reset_index()\n",
    "            \n",
    "            del symbol1_df\n",
    "            del symbol2_df\n",
    "            \n",
    "            # Logic:\n",
    "            #     - start_date = '2019-01-07'\n",
    "            #     - end_date   = '2020-08-28'\n",
    "            #         - from start_date fetch 90 days of data (check if start_date + 90 > end_date)\n",
    "            #         - check correlation and cointegration on the pair\n",
    "            #         - if it is above the required THRESHOLDS\n",
    "            #              - calculate the spread & zscore of spread\n",
    "            #              - store the CSV file\n",
    "            #     - ADD 15 days to start_date and REPEAT\n",
    "            \n",
    "            start_dt = START_DATE\n",
    "            eval_dt  = str(pd.to_datetime(start_dt) + pd.DateOffset(days=90)).split()[0]\n",
    "            count = 0\n",
    "            \n",
    "            while eval_dt < END_DATE:\n",
    "                \n",
    "                pair_df = master_pair_df[master_pair_df['Date'] >= start_dt]\n",
    "                \n",
    "                if len(pair_df) < 5:\n",
    "                    break\n",
    "                \n",
    "                pair_df = pair_df[pair_df['Date'] <= eval_dt]\n",
    "                pair_df = pair_df.dropna()\n",
    "                \n",
    "                # f.write(f'Evaluating: {symbol1} - {symbol2}, {start_dt} to {eval_dt}, Num data points - {len(pair_df)}\\n')\n",
    "                \n",
    "                corr_df = pair_df.corr()\n",
    "                score, pvalue, _ = coint(pair_df[symbol1 + '_Close'], pair_df[symbol2 + '_Close'])\n",
    "                corr_value = corr_df.loc[symbol1 + '_Close', symbol2 + '_Close']\n",
    "                \n",
    "                if (corr_value > CORR_THRESHOLD) & (pvalue < COINT_THRESHOLD):\n",
    "                    pair_df[\"Spread\"] = pair_df[symbol1 + \"_Close\"] - pair_df[symbol2 + \"_Close\"]\n",
    "                    spread_mean = abs(pair_df['Spread'].mean())\n",
    "                \n",
    "                    if spread_mean < SPREAD_RANGE:\n",
    "                        # f.write(f'MATCH FOUND: CORR - {corr_value}, COINT - {pvalue}\\n')\n",
    "                        \n",
    "                        pairs_df = pairs_df.append(\n",
    "                            {'Symbol_1': symbol1,\n",
    "                             'Symbol_2': symbol2,\n",
    "                             'StartDate': start_dt,\n",
    "                             'EndDate': eval_dt,\n",
    "                             'Correlation': corr_value,\n",
    "                             'PValue': pvalue\n",
    "                            }, ignore_index=True)\n",
    "                        \n",
    "                        pair_df[\"Spread\"] = pair_df[symbol1 + \"_Close\"] - pair_df[symbol2 + \"_Close\"]\n",
    "                        pair_df[\"zscore\"] = zscore(pair_df[\"Spread\"])\n",
    "                        \n",
    "                        pair_df.to_csv('../Storage/pairs_data/'+symbol1+'-'+symbol2+'-'+str(count)+'.csv', index=False)\n",
    "                        count += 1\n",
    "                \n",
    "                del pair_df\n",
    "                del corr_df\n",
    "                \n",
    "                start_dt = str(pd.to_datetime(start_dt) + pd.DateOffset(days=15)).split()[0]\n",
    "                eval_dt  = str(pd.to_datetime(start_dt) + pd.DateOffset(days=90)).split()[0]\n",
    "\n",
    "pairs_df.to_csv('pairs_with_time_range.csv', index=False)\n"
   ]
  },
  {
   "cell_type": "markdown",
   "metadata": {},
   "source": [
    "---"
   ]
  },
  {
   "cell_type": "markdown",
   "metadata": {},
   "source": [
    "# 6. Showing a sample of results"
   ]
  },
  {
   "cell_type": "markdown",
   "metadata": {},
   "source": [
    "## 6.1. The pairs found to have a high Correlation and low p value"
   ]
  },
  {
   "cell_type": "code",
   "execution_count": 9,
   "metadata": {},
   "outputs": [
    {
     "data": {
      "text/html": [
       "<div>\n",
       "<style scoped>\n",
       "    .dataframe tbody tr th:only-of-type {\n",
       "        vertical-align: middle;\n",
       "    }\n",
       "\n",
       "    .dataframe tbody tr th {\n",
       "        vertical-align: top;\n",
       "    }\n",
       "\n",
       "    .dataframe thead th {\n",
       "        text-align: right;\n",
       "    }\n",
       "</style>\n",
       "<table border=\"1\" class=\"dataframe\">\n",
       "  <thead>\n",
       "    <tr style=\"text-align: right;\">\n",
       "      <th></th>\n",
       "      <th>Symbol_1</th>\n",
       "      <th>Symbol_2</th>\n",
       "      <th>StartDate</th>\n",
       "      <th>EndDate</th>\n",
       "      <th>Correlation</th>\n",
       "      <th>PValue</th>\n",
       "    </tr>\n",
       "  </thead>\n",
       "  <tbody>\n",
       "    <tr>\n",
       "      <th>0</th>\n",
       "      <td>HEROMOTOCO</td>\n",
       "      <td>BAJAJ-AUTO</td>\n",
       "      <td>2018-09-04</td>\n",
       "      <td>2018-12-03</td>\n",
       "      <td>0.899256</td>\n",
       "      <td>0.024984</td>\n",
       "    </tr>\n",
       "    <tr>\n",
       "      <th>1</th>\n",
       "      <td>HEROMOTOCO</td>\n",
       "      <td>BAJAJ-AUTO</td>\n",
       "      <td>2018-10-04</td>\n",
       "      <td>2019-01-02</td>\n",
       "      <td>0.905777</td>\n",
       "      <td>0.013314</td>\n",
       "    </tr>\n",
       "    <tr>\n",
       "      <th>2</th>\n",
       "      <td>HEROMOTOCO</td>\n",
       "      <td>BAJAJ-AUTO</td>\n",
       "      <td>2019-05-17</td>\n",
       "      <td>2019-08-15</td>\n",
       "      <td>0.896455</td>\n",
       "      <td>0.047065</td>\n",
       "    </tr>\n",
       "    <tr>\n",
       "      <th>3</th>\n",
       "      <td>BEML</td>\n",
       "      <td>ESCORTS</td>\n",
       "      <td>2018-08-05</td>\n",
       "      <td>2018-11-03</td>\n",
       "      <td>0.974214</td>\n",
       "      <td>0.003684</td>\n",
       "    </tr>\n",
       "    <tr>\n",
       "      <th>4</th>\n",
       "      <td>BEML</td>\n",
       "      <td>ESCORTS</td>\n",
       "      <td>2019-01-02</td>\n",
       "      <td>2019-04-02</td>\n",
       "      <td>0.925196</td>\n",
       "      <td>0.008177</td>\n",
       "    </tr>\n",
       "  </tbody>\n",
       "</table>\n",
       "</div>"
      ],
      "text/plain": [
       "     Symbol_1    Symbol_2   StartDate     EndDate  Correlation    PValue\n",
       "0  HEROMOTOCO  BAJAJ-AUTO  2018-09-04  2018-12-03     0.899256  0.024984\n",
       "1  HEROMOTOCO  BAJAJ-AUTO  2018-10-04  2019-01-02     0.905777  0.013314\n",
       "2  HEROMOTOCO  BAJAJ-AUTO  2019-05-17  2019-08-15     0.896455  0.047065\n",
       "3        BEML     ESCORTS  2018-08-05  2018-11-03     0.974214  0.003684\n",
       "4        BEML     ESCORTS  2019-01-02  2019-04-02     0.925196  0.008177"
      ]
     },
     "execution_count": 9,
     "metadata": {},
     "output_type": "execute_result"
    }
   ],
   "source": [
    "pairs_with_time_range = pd.read_csv('./pairs_with_time_range.csv')\n",
    "pairs_with_time_range.head()"
   ]
  },
  {
   "cell_type": "markdown",
   "metadata": {},
   "source": [
    "## 6.2. The pairs data within those ranges"
   ]
  },
  {
   "cell_type": "code",
   "execution_count": 10,
   "metadata": {},
   "outputs": [
    {
     "data": {
      "text/html": [
       "<div>\n",
       "<style scoped>\n",
       "    .dataframe tbody tr th:only-of-type {\n",
       "        vertical-align: middle;\n",
       "    }\n",
       "\n",
       "    .dataframe tbody tr th {\n",
       "        vertical-align: top;\n",
       "    }\n",
       "\n",
       "    .dataframe thead th {\n",
       "        text-align: right;\n",
       "    }\n",
       "</style>\n",
       "<table border=\"1\" class=\"dataframe\">\n",
       "  <thead>\n",
       "    <tr style=\"text-align: right;\">\n",
       "      <th></th>\n",
       "      <th>Date</th>\n",
       "      <th>TATAMOTORS_Close</th>\n",
       "      <th>TATAMTRDVR_Close</th>\n",
       "      <th>Spread</th>\n",
       "      <th>zscore</th>\n",
       "    </tr>\n",
       "  </thead>\n",
       "  <tbody>\n",
       "    <tr>\n",
       "      <th>0</th>\n",
       "      <td>2018-09-19</td>\n",
       "      <td>252.600006</td>\n",
       "      <td>136.699997</td>\n",
       "      <td>115.900009</td>\n",
       "      <td>2.473078</td>\n",
       "    </tr>\n",
       "    <tr>\n",
       "      <th>1</th>\n",
       "      <td>2018-09-21</td>\n",
       "      <td>250.350006</td>\n",
       "      <td>132.050003</td>\n",
       "      <td>118.300003</td>\n",
       "      <td>2.671696</td>\n",
       "    </tr>\n",
       "    <tr>\n",
       "      <th>2</th>\n",
       "      <td>2018-09-24</td>\n",
       "      <td>240.199997</td>\n",
       "      <td>128.050003</td>\n",
       "      <td>112.149994</td>\n",
       "      <td>2.162735</td>\n",
       "    </tr>\n",
       "    <tr>\n",
       "      <th>3</th>\n",
       "      <td>2018-09-25</td>\n",
       "      <td>240.800003</td>\n",
       "      <td>127.050003</td>\n",
       "      <td>113.750000</td>\n",
       "      <td>2.295148</td>\n",
       "    </tr>\n",
       "    <tr>\n",
       "      <th>4</th>\n",
       "      <td>2018-09-26</td>\n",
       "      <td>233.350006</td>\n",
       "      <td>123.050003</td>\n",
       "      <td>110.300003</td>\n",
       "      <td>2.009634</td>\n",
       "    </tr>\n",
       "  </tbody>\n",
       "</table>\n",
       "</div>"
      ],
      "text/plain": [
       "         Date  TATAMOTORS_Close  TATAMTRDVR_Close      Spread    zscore\n",
       "0  2018-09-19        252.600006        136.699997  115.900009  2.473078\n",
       "1  2018-09-21        250.350006        132.050003  118.300003  2.671696\n",
       "2  2018-09-24        240.199997        128.050003  112.149994  2.162735\n",
       "3  2018-09-25        240.800003        127.050003  113.750000  2.295148\n",
       "4  2018-09-26        233.350006        123.050003  110.300003  2.009634"
      ]
     },
     "execution_count": 10,
     "metadata": {},
     "output_type": "execute_result"
    }
   ],
   "source": [
    "pair1_df = pd.read_csv('../Storage/pairs_data/TATAMOTORS-TATAMTRDVR-5.csv')\n",
    "pair1_df.head()"
   ]
  },
  {
   "cell_type": "code",
   "execution_count": null,
   "metadata": {},
   "outputs": [],
   "source": []
  }
 ],
 "metadata": {
  "kernelspec": {
   "display_name": "Python 3",
   "language": "python",
   "name": "python3"
  },
  "language_info": {
   "codemirror_mode": {
    "name": "ipython",
    "version": 3
   },
   "file_extension": ".py",
   "mimetype": "text/x-python",
   "name": "python",
   "nbconvert_exporter": "python",
   "pygments_lexer": "ipython3",
   "version": "3.6.9"
  }
 },
 "nbformat": 4,
 "nbformat_minor": 4
}
